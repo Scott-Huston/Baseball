{
 "metadata": {
  "language_info": {
   "codemirror_mode": {
    "name": "ipython",
    "version": 3
   },
   "file_extension": ".py",
   "mimetype": "text/x-python",
   "name": "python",
   "nbconvert_exporter": "python",
   "pygments_lexer": "ipython3",
   "version": "3.7.5-final"
  },
  "orig_nbformat": 2,
  "kernelspec": {
   "name": "python3",
   "display_name": "Python 3"
  }
 },
 "nbformat": 4,
 "nbformat_minor": 2,
 "cells": [
  {
   "cell_type": "code",
   "execution_count": 1,
   "metadata": {},
   "outputs": [],
   "source": [
    "from pybaseball import statcast\n",
    "from pybaseball import retrosheet"
   ]
  },
  {
   "cell_type": "code",
   "execution_count": 63,
   "metadata": {},
   "outputs": [
    {
     "output_type": "stream",
     "name": "stdout",
     "text": [
      "This is a large query, it may take a moment to complete\n",
      "Completed sub-query from 2015-01-01 to 2015-05-31\n"
     ]
    }
   ],
   "source": [
    "data = statcast(start_dt = '2015-01-01', end_dt='2015-05-31')"
   ]
  },
  {
   "cell_type": "code",
   "execution_count": 80,
   "metadata": {},
   "outputs": [
    {
     "output_type": "execute_result",
     "data": {
      "text/plain": [
       "Index(['index', 'pitch_type', 'game_date', 'release_speed', 'release_pos_x',\n",
       "       'release_pos_z', 'player_name', 'batter', 'pitcher', 'events',\n",
       "       'description', 'spin_dir', 'spin_rate_deprecated',\n",
       "       'break_angle_deprecated', 'break_length_deprecated', 'zone', 'des',\n",
       "       'game_type', 'stand', 'p_throws', 'home_team', 'away_team', 'type',\n",
       "       'hit_location', 'bb_type', 'balls', 'strikes', 'game_year', 'pfx_x',\n",
       "       'pfx_z', 'plate_x', 'plate_z', 'on_3b', 'on_2b', 'on_1b',\n",
       "       'outs_when_up', 'inning', 'inning_topbot', 'hc_x', 'hc_y',\n",
       "       'tfs_deprecated', 'tfs_zulu_deprecated', 'fielder_2', 'umpire', 'sv_id',\n",
       "       'vx0', 'vy0', 'vz0', 'ax', 'ay', 'az', 'sz_top', 'sz_bot',\n",
       "       'hit_distance_sc', 'launch_speed', 'launch_angle', 'effective_speed',\n",
       "       'release_spin_rate', 'release_extension', 'game_pk', 'pitcher.1',\n",
       "       'fielder_2.1', 'fielder_3', 'fielder_4', 'fielder_5', 'fielder_6',\n",
       "       'fielder_7', 'fielder_8', 'fielder_9', 'release_pos_y',\n",
       "       'estimated_ba_using_speedangle', 'estimated_woba_using_speedangle',\n",
       "       'woba_value', 'woba_denom', 'babip_value', 'iso_value',\n",
       "       'launch_speed_angle', 'at_bat_number', 'pitch_number', 'pitch_name',\n",
       "       'home_score', 'away_score', 'bat_score', 'fld_score', 'post_away_score',\n",
       "       'post_home_score', 'post_bat_score', 'post_fld_score',\n",
       "       'if_fielding_alignment', 'of_fielding_alignment', 'pa_id'],\n",
       "      dtype='object')"
      ]
     },
     "metadata": {},
     "execution_count": 80
    }
   ],
   "source": [
    "data.columns"
   ]
  },
  {
   "cell_type": "code",
   "execution_count": 81,
   "metadata": {},
   "outputs": [
    {
     "output_type": "execute_result",
     "data": {
      "text/plain": [
       "count    7368.000000\n",
       "mean        0.354850\n",
       "std         0.363323\n",
       "min         0.000000\n",
       "25%         0.068000\n",
       "50%         0.254000\n",
       "75%         0.542000\n",
       "max         2.025000\n",
       "Name: estimated_woba_using_speedangle, dtype: float64"
      ]
     },
     "metadata": {},
     "execution_count": 81
    }
   ],
   "source": [
    "data['estimated_woba_using_speedangle'].describe()"
   ]
  },
  {
   "cell_type": "code",
   "execution_count": 96,
   "metadata": {},
   "outputs": [],
   "source": [
    "# create pa_id\n",
    "data['pa_id'] = data.groupby(by=['at_bat_number', 'game_date', 'batter', 'pitcher']).ngroup()\n",
    "\n",
    "\n",
    "# TODO specify this better by adding in day/night or some other identifier. Currently using pitcher, but causes issues when a pitcher is taken out mid-PA (maybe I want to classify that as a new pa though?). Without pitcher, double-headers are an issue. If the same batter hits leadoff both games, both of those leadoff PAs are going to be counted as the same pa_id"
   ]
  },
  {
   "cell_type": "code",
   "execution_count": 97,
   "metadata": {},
   "outputs": [
    {
     "output_type": "execute_result",
     "data": {
      "text/plain": [
       "1    10604\n",
       "Name: pa_id, dtype: int64"
      ]
     },
     "metadata": {},
     "execution_count": 97
    }
   ],
   "source": [
    "# checking how many duplicate plate appearances there are (double headers where the same hitter has the same at_bat_number agains the same pitcher, very unlikely)\n",
    "data[data['pitch_number']==1]['pa_id'].value_counts().value_counts()"
   ]
  },
  {
   "cell_type": "code",
   "execution_count": null,
   "metadata": {},
   "outputs": [],
   "source": [
    "data["
   ]
  },
  {
   "cell_type": "code",
   "execution_count": 84,
   "metadata": {},
   "outputs": [
    {
     "output_type": "execute_result",
     "data": {
      "text/plain": [
       "count    401.000000\n",
       "mean      26.443890\n",
       "std       17.083397\n",
       "min        1.000000\n",
       "25%       13.000000\n",
       "50%       20.000000\n",
       "75%       47.000000\n",
       "max       64.000000\n",
       "Name: pitcher, dtype: float64"
      ]
     },
     "metadata": {},
     "execution_count": 84
    }
   ],
   "source": [
    "data[data['pitch_number']==1]['pitcher'].value_counts().describe()"
   ]
  },
  {
   "cell_type": "code",
   "execution_count": 85,
   "metadata": {},
   "outputs": [
    {
     "output_type": "execute_result",
     "data": {
      "text/plain": [
       "count                   40000\n",
       "unique                     10\n",
       "top       2015-05-31 00:00:00\n",
       "freq                     4636\n",
       "first     2015-05-22 00:00:00\n",
       "last      2015-05-31 00:00:00\n",
       "Name: game_date, dtype: object"
      ]
     },
     "metadata": {},
     "execution_count": 85
    }
   ],
   "source": [
    "data['game_date'].describe()"
   ]
  },
  {
   "cell_type": "code",
   "execution_count": 86,
   "metadata": {},
   "outputs": [],
   "source": [
    "# create xwOBA using est_wOBA if in play or wOBA_value if not in play\n",
    "data['xwOBA'] = data['woba_value']\n",
    "\n",
    "data.loc[data.estimated_woba_using_speedangle.notnull(), \"xwOBA\"] = data.loc[data.estimated_woba_using_speedangle.notnull(), 'estimated_woba_using_speedangle']"
   ]
  },
  {
   "cell_type": "code",
   "execution_count": 87,
   "metadata": {},
   "outputs": [
    {
     "output_type": "execute_result",
     "data": {
      "text/plain": [
       "0        0.384\n",
       "5        0.040\n",
       "9        0.211\n",
       "15       0.242\n",
       "18       0.068\n",
       "         ...  \n",
       "39974    0.488\n",
       "39987    0.023\n",
       "39994    0.006\n",
       "39996    0.044\n",
       "39999    1.999\n",
       "Name: xwOBA, Length: 7368, dtype: float64"
      ]
     },
     "metadata": {},
     "execution_count": 87
    }
   ],
   "source": [
    "data.loc[data.estimated_woba_using_speedangle.notnull(), \"xwOBA\"]"
   ]
  },
  {
   "cell_type": "code",
   "execution_count": 88,
   "metadata": {},
   "outputs": [],
   "source": [
    "# get pa_xwOBA values showing the resulting xwOBA of each plate appearance\n",
    "gb = data.groupby(by=['pa_id'])['pa_id', 'xwOBA'].mean()\n",
    "\n",
    "data = data.join(gb, how='left', on='pa_id', rsuffix='gb')\n",
    "data['pa_xwOBA'] = data['xwOBAgb']\n",
    "data.drop(columns=['pa_idgb', 'xwOBAgb'], inplace=True)\n"
   ]
  },
  {
   "cell_type": "code",
   "execution_count": 89,
   "metadata": {},
   "outputs": [
    {
     "output_type": "execute_result",
     "data": {
      "text/plain": [
       "             index  release_speed  release_pos_x  release_pos_z  \\\n",
       "count  40000.00000   39997.000000   39310.000000   39310.000000   \n",
       "mean   19999.50000      88.603763      -0.859654       6.035350   \n",
       "std    11547.14972       6.105128       1.791526       0.508735   \n",
       "min        0.00000      46.500000     -15.880000       0.240000   \n",
       "25%     9999.75000      84.600000      -2.090000       5.770000   \n",
       "50%    19999.50000      89.900000      -1.410000       6.070000   \n",
       "75%    29999.25000      93.200000       0.050000       6.340000   \n",
       "max    39999.00000     103.100000      13.840000       8.860000   \n",
       "\n",
       "              batter        pitcher  spin_dir  spin_rate_deprecated  \\\n",
       "count   40000.000000   40000.000000       0.0                   0.0   \n",
       "mean   489515.639900  495407.626225       NaN                   NaN   \n",
       "std     84951.334849   78926.695515       NaN                   NaN   \n",
       "min    112526.000000  112526.000000       NaN                   NaN   \n",
       "25%    451594.000000  451788.000000       NaN                   NaN   \n",
       "50%    488862.000000  502026.000000       NaN                   NaN   \n",
       "75%    543543.000000  543606.000000       NaN                   NaN   \n",
       "max    648717.000000  628452.000000       NaN                   NaN   \n",
       "\n",
       "       break_angle_deprecated  break_length_deprecated  ...    away_score  \\\n",
       "count                     0.0                      0.0  ...  40000.000000   \n",
       "mean                      NaN                      NaN  ...      2.079625   \n",
       "std                       NaN                      NaN  ...      2.526954   \n",
       "min                       NaN                      NaN  ...      0.000000   \n",
       "25%                       NaN                      NaN  ...      0.000000   \n",
       "50%                       NaN                      NaN  ...      1.000000   \n",
       "75%                       NaN                      NaN  ...      3.000000   \n",
       "max                       NaN                      NaN  ...     15.000000   \n",
       "\n",
       "          bat_score     fld_score  post_away_score  post_home_score  \\\n",
       "count  40000.000000  40000.000000     40000.000000     40000.000000   \n",
       "mean       2.065650      2.100600         2.079675         2.086625   \n",
       "std        2.429308      2.485545         2.526922         2.386328   \n",
       "min        0.000000      0.000000         0.000000         0.000000   \n",
       "25%        0.000000      0.000000         0.000000         0.000000   \n",
       "50%        1.000000      1.000000         1.000000         1.000000   \n",
       "75%        3.000000      3.000000         3.000000         3.000000   \n",
       "max       15.000000     15.000000        15.000000        14.000000   \n",
       "\n",
       "       post_bat_score  post_fld_score         pa_id         xwOBA  \\\n",
       "count    40000.000000    40000.000000  40000.000000  10618.000000   \n",
       "mean         2.065700        2.100600   5313.708400      0.304095   \n",
       "std          2.429276        2.485545   3086.267071      0.360519   \n",
       "min          0.000000        0.000000      0.000000      0.000000   \n",
       "25%          0.000000        0.000000   2629.750000      0.004000   \n",
       "50%          1.000000        1.000000   5327.000000      0.152000   \n",
       "75%          3.000000        3.000000   7999.000000      0.548000   \n",
       "max         15.000000       15.000000  10608.000000      2.025000   \n",
       "\n",
       "           pa_xwOBA  \n",
       "count  39997.000000  \n",
       "mean       0.297304  \n",
       "std        0.355822  \n",
       "min        0.000000  \n",
       "25%        0.000000  \n",
       "50%        0.132000  \n",
       "75%        0.578000  \n",
       "max        2.025000  \n",
       "\n",
       "[8 rows x 75 columns]"
      ],
      "text/html": "<div>\n<style scoped>\n    .dataframe tbody tr th:only-of-type {\n        vertical-align: middle;\n    }\n\n    .dataframe tbody tr th {\n        vertical-align: top;\n    }\n\n    .dataframe thead th {\n        text-align: right;\n    }\n</style>\n<table border=\"1\" class=\"dataframe\">\n  <thead>\n    <tr style=\"text-align: right;\">\n      <th></th>\n      <th>index</th>\n      <th>release_speed</th>\n      <th>release_pos_x</th>\n      <th>release_pos_z</th>\n      <th>batter</th>\n      <th>pitcher</th>\n      <th>spin_dir</th>\n      <th>spin_rate_deprecated</th>\n      <th>break_angle_deprecated</th>\n      <th>break_length_deprecated</th>\n      <th>...</th>\n      <th>away_score</th>\n      <th>bat_score</th>\n      <th>fld_score</th>\n      <th>post_away_score</th>\n      <th>post_home_score</th>\n      <th>post_bat_score</th>\n      <th>post_fld_score</th>\n      <th>pa_id</th>\n      <th>xwOBA</th>\n      <th>pa_xwOBA</th>\n    </tr>\n  </thead>\n  <tbody>\n    <tr>\n      <th>count</th>\n      <td>40000.00000</td>\n      <td>39997.000000</td>\n      <td>39310.000000</td>\n      <td>39310.000000</td>\n      <td>40000.000000</td>\n      <td>40000.000000</td>\n      <td>0.0</td>\n      <td>0.0</td>\n      <td>0.0</td>\n      <td>0.0</td>\n      <td>...</td>\n      <td>40000.000000</td>\n      <td>40000.000000</td>\n      <td>40000.000000</td>\n      <td>40000.000000</td>\n      <td>40000.000000</td>\n      <td>40000.000000</td>\n      <td>40000.000000</td>\n      <td>40000.000000</td>\n      <td>10618.000000</td>\n      <td>39997.000000</td>\n    </tr>\n    <tr>\n      <th>mean</th>\n      <td>19999.50000</td>\n      <td>88.603763</td>\n      <td>-0.859654</td>\n      <td>6.035350</td>\n      <td>489515.639900</td>\n      <td>495407.626225</td>\n      <td>NaN</td>\n      <td>NaN</td>\n      <td>NaN</td>\n      <td>NaN</td>\n      <td>...</td>\n      <td>2.079625</td>\n      <td>2.065650</td>\n      <td>2.100600</td>\n      <td>2.079675</td>\n      <td>2.086625</td>\n      <td>2.065700</td>\n      <td>2.100600</td>\n      <td>5313.708400</td>\n      <td>0.304095</td>\n      <td>0.297304</td>\n    </tr>\n    <tr>\n      <th>std</th>\n      <td>11547.14972</td>\n      <td>6.105128</td>\n      <td>1.791526</td>\n      <td>0.508735</td>\n      <td>84951.334849</td>\n      <td>78926.695515</td>\n      <td>NaN</td>\n      <td>NaN</td>\n      <td>NaN</td>\n      <td>NaN</td>\n      <td>...</td>\n      <td>2.526954</td>\n      <td>2.429308</td>\n      <td>2.485545</td>\n      <td>2.526922</td>\n      <td>2.386328</td>\n      <td>2.429276</td>\n      <td>2.485545</td>\n      <td>3086.267071</td>\n      <td>0.360519</td>\n      <td>0.355822</td>\n    </tr>\n    <tr>\n      <th>min</th>\n      <td>0.00000</td>\n      <td>46.500000</td>\n      <td>-15.880000</td>\n      <td>0.240000</td>\n      <td>112526.000000</td>\n      <td>112526.000000</td>\n      <td>NaN</td>\n      <td>NaN</td>\n      <td>NaN</td>\n      <td>NaN</td>\n      <td>...</td>\n      <td>0.000000</td>\n      <td>0.000000</td>\n      <td>0.000000</td>\n      <td>0.000000</td>\n      <td>0.000000</td>\n      <td>0.000000</td>\n      <td>0.000000</td>\n      <td>0.000000</td>\n      <td>0.000000</td>\n      <td>0.000000</td>\n    </tr>\n    <tr>\n      <th>25%</th>\n      <td>9999.75000</td>\n      <td>84.600000</td>\n      <td>-2.090000</td>\n      <td>5.770000</td>\n      <td>451594.000000</td>\n      <td>451788.000000</td>\n      <td>NaN</td>\n      <td>NaN</td>\n      <td>NaN</td>\n      <td>NaN</td>\n      <td>...</td>\n      <td>0.000000</td>\n      <td>0.000000</td>\n      <td>0.000000</td>\n      <td>0.000000</td>\n      <td>0.000000</td>\n      <td>0.000000</td>\n      <td>0.000000</td>\n      <td>2629.750000</td>\n      <td>0.004000</td>\n      <td>0.000000</td>\n    </tr>\n    <tr>\n      <th>50%</th>\n      <td>19999.50000</td>\n      <td>89.900000</td>\n      <td>-1.410000</td>\n      <td>6.070000</td>\n      <td>488862.000000</td>\n      <td>502026.000000</td>\n      <td>NaN</td>\n      <td>NaN</td>\n      <td>NaN</td>\n      <td>NaN</td>\n      <td>...</td>\n      <td>1.000000</td>\n      <td>1.000000</td>\n      <td>1.000000</td>\n      <td>1.000000</td>\n      <td>1.000000</td>\n      <td>1.000000</td>\n      <td>1.000000</td>\n      <td>5327.000000</td>\n      <td>0.152000</td>\n      <td>0.132000</td>\n    </tr>\n    <tr>\n      <th>75%</th>\n      <td>29999.25000</td>\n      <td>93.200000</td>\n      <td>0.050000</td>\n      <td>6.340000</td>\n      <td>543543.000000</td>\n      <td>543606.000000</td>\n      <td>NaN</td>\n      <td>NaN</td>\n      <td>NaN</td>\n      <td>NaN</td>\n      <td>...</td>\n      <td>3.000000</td>\n      <td>3.000000</td>\n      <td>3.000000</td>\n      <td>3.000000</td>\n      <td>3.000000</td>\n      <td>3.000000</td>\n      <td>3.000000</td>\n      <td>7999.000000</td>\n      <td>0.548000</td>\n      <td>0.578000</td>\n    </tr>\n    <tr>\n      <th>max</th>\n      <td>39999.00000</td>\n      <td>103.100000</td>\n      <td>13.840000</td>\n      <td>8.860000</td>\n      <td>648717.000000</td>\n      <td>628452.000000</td>\n      <td>NaN</td>\n      <td>NaN</td>\n      <td>NaN</td>\n      <td>NaN</td>\n      <td>...</td>\n      <td>15.000000</td>\n      <td>15.000000</td>\n      <td>15.000000</td>\n      <td>15.000000</td>\n      <td>14.000000</td>\n      <td>15.000000</td>\n      <td>15.000000</td>\n      <td>10608.000000</td>\n      <td>2.025000</td>\n      <td>2.025000</td>\n    </tr>\n  </tbody>\n</table>\n<p>8 rows × 75 columns</p>\n</div>"
     },
     "metadata": {},
     "execution_count": 89
    }
   ],
   "source": [
    "\n",
    "data.describe()"
   ]
  },
  {
   "cell_type": "code",
   "execution_count": 90,
   "metadata": {},
   "outputs": [
    {
     "output_type": "execute_result",
     "data": {
      "text/plain": [
       "   pa_id  xwOBA\n",
       "0   9789  0.384\n",
       "1   9789    NaN\n",
       "2   9789    NaN\n",
       "3   9789    NaN\n",
       "4   9789    NaN"
      ],
      "text/html": "<div>\n<style scoped>\n    .dataframe tbody tr th:only-of-type {\n        vertical-align: middle;\n    }\n\n    .dataframe tbody tr th {\n        vertical-align: top;\n    }\n\n    .dataframe thead th {\n        text-align: right;\n    }\n</style>\n<table border=\"1\" class=\"dataframe\">\n  <thead>\n    <tr style=\"text-align: right;\">\n      <th></th>\n      <th>pa_id</th>\n      <th>xwOBA</th>\n    </tr>\n  </thead>\n  <tbody>\n    <tr>\n      <th>0</th>\n      <td>9789</td>\n      <td>0.384</td>\n    </tr>\n    <tr>\n      <th>1</th>\n      <td>9789</td>\n      <td>NaN</td>\n    </tr>\n    <tr>\n      <th>2</th>\n      <td>9789</td>\n      <td>NaN</td>\n    </tr>\n    <tr>\n      <th>3</th>\n      <td>9789</td>\n      <td>NaN</td>\n    </tr>\n    <tr>\n      <th>4</th>\n      <td>9789</td>\n      <td>NaN</td>\n    </tr>\n  </tbody>\n</table>\n</div>"
     },
     "metadata": {},
     "execution_count": 90
    }
   ],
   "source": [
    "data[['pa_id', 'xwOBA']].head()"
   ]
  },
  {
   "cell_type": "code",
   "execution_count": 91,
   "metadata": {},
   "outputs": [
    {
     "output_type": "execute_result",
     "data": {
      "text/plain": [
       "              sv_id  pa_id  pa_xwOBA  xwOBA  at_bat_number  pitch_number  \\\n",
       "4128  150531_184606  10602     0.148  0.148          140.0           6.0   \n",
       "4129  150531_184548  10602     0.148    NaN          140.0           5.0   \n",
       "4130  150531_184532  10602     0.148    NaN          140.0           4.0   \n",
       "4132  150531_184502  10602     0.148    NaN          140.0           2.0   \n",
       "4133  150531_184443  10602     0.148    NaN          140.0           1.0   \n",
       "4126  150531_184937  10603     0.224  0.224          141.0           2.0   \n",
       "4127  150531_184907  10603     0.224    NaN          141.0           1.0   \n",
       "4123  150531_185120  10604     0.174  0.174          142.0           3.0   \n",
       "4125  150531_185025  10604     0.174    NaN          142.0           1.0   \n",
       "4124  150531_185053  10604     0.174    NaN          142.0           2.0   \n",
       "4122  150531_185210  10605     0.132    NaN          143.0           1.0   \n",
       "4121  150531_185305  10605     0.132  0.132          143.0           2.0   \n",
       "4119  150531_185437  10606     0.354    NaN          144.0           2.0   \n",
       "4118  150531_185520  10606     0.354  0.354          144.0           3.0   \n",
       "4120  150531_185413  10606     0.354    NaN          144.0           1.0   \n",
       "4112  150531_185914  10607     0.000    NaN          145.0           6.0   \n",
       "4117  150531_185734  10607     0.000    NaN          145.0           1.0   \n",
       "4113  150531_185852  10607     0.000    NaN          145.0           5.0   \n",
       "4110  150531_185955  10607     0.000    NaN          145.0           8.0   \n",
       "4109  150531_190024  10607     0.000  0.000          145.0           9.0   \n",
       "4116  150531_185747  10607     0.000    NaN          145.0           2.0   \n",
       "4115  150531_185807  10607     0.000    NaN          145.0           3.0   \n",
       "4114  150531_185828  10607     0.000    NaN          145.0           4.0   \n",
       "4111  150531_185936  10607     0.000    NaN          145.0           7.0   \n",
       "4108  150531_190058  10608     1.063  1.063          146.0           1.0   \n",
       "\n",
       "       pitcher    batter  game_date  strikes  ...  pitch_type    batter  \\\n",
       "4128  573064.0  467070.0 2015-05-31      2.0  ...          FF  467070.0   \n",
       "4129  573064.0  467070.0 2015-05-31      2.0  ...          SL  467070.0   \n",
       "4130  573064.0  467070.0 2015-05-31      2.0  ...          FF  467070.0   \n",
       "4132  573064.0  467070.0 2015-05-31      1.0  ...          FF  467070.0   \n",
       "4133  573064.0  467070.0 2015-05-31      0.0  ...          SL  467070.0   \n",
       "4126  490063.0  457574.0 2015-05-31      0.0  ...          FT  457574.0   \n",
       "4127  490063.0  457574.0 2015-05-31      0.0  ...          FT  457574.0   \n",
       "4123  490063.0  605113.0 2015-05-31      2.0  ...          SL  605113.0   \n",
       "4125  490063.0  605113.0 2015-05-31      0.0  ...          FT  605113.0   \n",
       "4124  490063.0  605113.0 2015-05-31      1.0  ...          FT  605113.0   \n",
       "4122  490063.0  572041.0 2015-05-31      0.0  ...          FT  572041.0   \n",
       "4121  490063.0  572041.0 2015-05-31      0.0  ...          FT  572041.0   \n",
       "4119  490063.0  460060.0 2015-05-31      0.0  ...          FT  460060.0   \n",
       "4118  490063.0  460060.0 2015-05-31      0.0  ...          FF  460060.0   \n",
       "4120  490063.0  460060.0 2015-05-31      0.0  ...          FT  460060.0   \n",
       "4112  573064.0  596143.0 2015-05-31      2.0  ...          FF  596143.0   \n",
       "4117  573064.0  596143.0 2015-05-31      0.0  ...          SL  596143.0   \n",
       "4113  573064.0  596143.0 2015-05-31      2.0  ...          SL  596143.0   \n",
       "4110  573064.0  596143.0 2015-05-31      2.0  ...          CH  596143.0   \n",
       "4109  573064.0  596143.0 2015-05-31      2.0  ...          FF  596143.0   \n",
       "4116  573064.0  596143.0 2015-05-31      1.0  ...          CH  596143.0   \n",
       "4115  573064.0  596143.0 2015-05-31      2.0  ...          SL  596143.0   \n",
       "4114  573064.0  596143.0 2015-05-31      2.0  ...          FF  596143.0   \n",
       "4111  573064.0  596143.0 2015-05-31      2.0  ...          SL  596143.0   \n",
       "4108  573064.0  455117.0 2015-05-31      0.0  ...          FT  455117.0   \n",
       "\n",
       "       pitcher  stand           description estimated_ba_using_speedangle  \\\n",
       "4128  573064.0      R         hit_into_play                         0.149   \n",
       "4129  573064.0      R                  ball                           NaN   \n",
       "4130  573064.0      R                  ball                           NaN   \n",
       "4132  573064.0      R                  ball                           NaN   \n",
       "4133  573064.0      R              foul_tip                           NaN   \n",
       "4126  490063.0      R         hit_into_play                         0.249   \n",
       "4127  490063.0      R                  ball                           NaN   \n",
       "4123  490063.0      R  hit_into_play_no_out                         0.169   \n",
       "4125  490063.0      R       swinging_strike                           NaN   \n",
       "4124  490063.0      R         called_strike                           NaN   \n",
       "4122  490063.0      R                  ball                           NaN   \n",
       "4121  490063.0      R         hit_into_play                         0.147   \n",
       "4119  490063.0      L                  ball                           NaN   \n",
       "4118  490063.0      L         hit_into_play                         0.393   \n",
       "4120  490063.0      L                  ball                           NaN   \n",
       "4112  573064.0      R                  foul                           NaN   \n",
       "4117  573064.0      R         called_strike                           NaN   \n",
       "4113  573064.0      R                  foul                           NaN   \n",
       "4110  573064.0      R                  foul                           NaN   \n",
       "4109  573064.0      R       swinging_strike                           NaN   \n",
       "4116  573064.0      R       swinging_strike                           NaN   \n",
       "4115  573064.0      R                  foul                           NaN   \n",
       "4114  573064.0      R                  foul                           NaN   \n",
       "4111  573064.0      R                  foul                           NaN   \n",
       "4108  573064.0      R   hit_into_play_score                         0.560   \n",
       "\n",
       "      estimated_woba_using_speedangle  woba_value  woba_denom  babip_value  \n",
       "4128                            0.148         0.0         1.0          0.0  \n",
       "4129                              NaN         NaN         NaN          NaN  \n",
       "4130                              NaN         NaN         NaN          NaN  \n",
       "4132                              NaN         NaN         NaN          NaN  \n",
       "4133                              NaN         NaN         NaN          NaN  \n",
       "4126                            0.224         0.0         1.0          0.0  \n",
       "4127                              NaN         NaN         NaN          NaN  \n",
       "4123                            0.174         0.9         1.0          1.0  \n",
       "4125                              NaN         NaN         NaN          NaN  \n",
       "4124                              NaN         NaN         NaN          NaN  \n",
       "4122                              NaN         NaN         NaN          NaN  \n",
       "4121                            0.132         0.0         1.0          0.0  \n",
       "4119                              NaN         NaN         NaN          NaN  \n",
       "4118                            0.354         0.0         1.0          0.0  \n",
       "4120                              NaN         NaN         NaN          NaN  \n",
       "4112                              NaN         NaN         NaN          NaN  \n",
       "4117                              NaN         NaN         NaN          NaN  \n",
       "4113                              NaN         NaN         NaN          NaN  \n",
       "4110                              NaN         NaN         NaN          NaN  \n",
       "4109                              NaN         0.0         1.0          0.0  \n",
       "4116                              NaN         NaN         NaN          NaN  \n",
       "4115                              NaN         NaN         NaN          NaN  \n",
       "4114                              NaN         NaN         NaN          NaN  \n",
       "4111                              NaN         NaN         NaN          NaN  \n",
       "4108                            1.063         2.0         1.0          0.0  \n",
       "\n",
       "[25 rows x 21 columns]"
      ],
      "text/html": "<div>\n<style scoped>\n    .dataframe tbody tr th:only-of-type {\n        vertical-align: middle;\n    }\n\n    .dataframe tbody tr th {\n        vertical-align: top;\n    }\n\n    .dataframe thead th {\n        text-align: right;\n    }\n</style>\n<table border=\"1\" class=\"dataframe\">\n  <thead>\n    <tr style=\"text-align: right;\">\n      <th></th>\n      <th>sv_id</th>\n      <th>pa_id</th>\n      <th>pa_xwOBA</th>\n      <th>xwOBA</th>\n      <th>at_bat_number</th>\n      <th>pitch_number</th>\n      <th>pitcher</th>\n      <th>batter</th>\n      <th>game_date</th>\n      <th>strikes</th>\n      <th>...</th>\n      <th>pitch_type</th>\n      <th>batter</th>\n      <th>pitcher</th>\n      <th>stand</th>\n      <th>description</th>\n      <th>estimated_ba_using_speedangle</th>\n      <th>estimated_woba_using_speedangle</th>\n      <th>woba_value</th>\n      <th>woba_denom</th>\n      <th>babip_value</th>\n    </tr>\n  </thead>\n  <tbody>\n    <tr>\n      <th>4128</th>\n      <td>150531_184606</td>\n      <td>10602</td>\n      <td>0.148</td>\n      <td>0.148</td>\n      <td>140.0</td>\n      <td>6.0</td>\n      <td>573064.0</td>\n      <td>467070.0</td>\n      <td>2015-05-31</td>\n      <td>2.0</td>\n      <td>...</td>\n      <td>FF</td>\n      <td>467070.0</td>\n      <td>573064.0</td>\n      <td>R</td>\n      <td>hit_into_play</td>\n      <td>0.149</td>\n      <td>0.148</td>\n      <td>0.0</td>\n      <td>1.0</td>\n      <td>0.0</td>\n    </tr>\n    <tr>\n      <th>4129</th>\n      <td>150531_184548</td>\n      <td>10602</td>\n      <td>0.148</td>\n      <td>NaN</td>\n      <td>140.0</td>\n      <td>5.0</td>\n      <td>573064.0</td>\n      <td>467070.0</td>\n      <td>2015-05-31</td>\n      <td>2.0</td>\n      <td>...</td>\n      <td>SL</td>\n      <td>467070.0</td>\n      <td>573064.0</td>\n      <td>R</td>\n      <td>ball</td>\n      <td>NaN</td>\n      <td>NaN</td>\n      <td>NaN</td>\n      <td>NaN</td>\n      <td>NaN</td>\n    </tr>\n    <tr>\n      <th>4130</th>\n      <td>150531_184532</td>\n      <td>10602</td>\n      <td>0.148</td>\n      <td>NaN</td>\n      <td>140.0</td>\n      <td>4.0</td>\n      <td>573064.0</td>\n      <td>467070.0</td>\n      <td>2015-05-31</td>\n      <td>2.0</td>\n      <td>...</td>\n      <td>FF</td>\n      <td>467070.0</td>\n      <td>573064.0</td>\n      <td>R</td>\n      <td>ball</td>\n      <td>NaN</td>\n      <td>NaN</td>\n      <td>NaN</td>\n      <td>NaN</td>\n      <td>NaN</td>\n    </tr>\n    <tr>\n      <th>4132</th>\n      <td>150531_184502</td>\n      <td>10602</td>\n      <td>0.148</td>\n      <td>NaN</td>\n      <td>140.0</td>\n      <td>2.0</td>\n      <td>573064.0</td>\n      <td>467070.0</td>\n      <td>2015-05-31</td>\n      <td>1.0</td>\n      <td>...</td>\n      <td>FF</td>\n      <td>467070.0</td>\n      <td>573064.0</td>\n      <td>R</td>\n      <td>ball</td>\n      <td>NaN</td>\n      <td>NaN</td>\n      <td>NaN</td>\n      <td>NaN</td>\n      <td>NaN</td>\n    </tr>\n    <tr>\n      <th>4133</th>\n      <td>150531_184443</td>\n      <td>10602</td>\n      <td>0.148</td>\n      <td>NaN</td>\n      <td>140.0</td>\n      <td>1.0</td>\n      <td>573064.0</td>\n      <td>467070.0</td>\n      <td>2015-05-31</td>\n      <td>0.0</td>\n      <td>...</td>\n      <td>SL</td>\n      <td>467070.0</td>\n      <td>573064.0</td>\n      <td>R</td>\n      <td>foul_tip</td>\n      <td>NaN</td>\n      <td>NaN</td>\n      <td>NaN</td>\n      <td>NaN</td>\n      <td>NaN</td>\n    </tr>\n    <tr>\n      <th>4126</th>\n      <td>150531_184937</td>\n      <td>10603</td>\n      <td>0.224</td>\n      <td>0.224</td>\n      <td>141.0</td>\n      <td>2.0</td>\n      <td>490063.0</td>\n      <td>457574.0</td>\n      <td>2015-05-31</td>\n      <td>0.0</td>\n      <td>...</td>\n      <td>FT</td>\n      <td>457574.0</td>\n      <td>490063.0</td>\n      <td>R</td>\n      <td>hit_into_play</td>\n      <td>0.249</td>\n      <td>0.224</td>\n      <td>0.0</td>\n      <td>1.0</td>\n      <td>0.0</td>\n    </tr>\n    <tr>\n      <th>4127</th>\n      <td>150531_184907</td>\n      <td>10603</td>\n      <td>0.224</td>\n      <td>NaN</td>\n      <td>141.0</td>\n      <td>1.0</td>\n      <td>490063.0</td>\n      <td>457574.0</td>\n      <td>2015-05-31</td>\n      <td>0.0</td>\n      <td>...</td>\n      <td>FT</td>\n      <td>457574.0</td>\n      <td>490063.0</td>\n      <td>R</td>\n      <td>ball</td>\n      <td>NaN</td>\n      <td>NaN</td>\n      <td>NaN</td>\n      <td>NaN</td>\n      <td>NaN</td>\n    </tr>\n    <tr>\n      <th>4123</th>\n      <td>150531_185120</td>\n      <td>10604</td>\n      <td>0.174</td>\n      <td>0.174</td>\n      <td>142.0</td>\n      <td>3.0</td>\n      <td>490063.0</td>\n      <td>605113.0</td>\n      <td>2015-05-31</td>\n      <td>2.0</td>\n      <td>...</td>\n      <td>SL</td>\n      <td>605113.0</td>\n      <td>490063.0</td>\n      <td>R</td>\n      <td>hit_into_play_no_out</td>\n      <td>0.169</td>\n      <td>0.174</td>\n      <td>0.9</td>\n      <td>1.0</td>\n      <td>1.0</td>\n    </tr>\n    <tr>\n      <th>4125</th>\n      <td>150531_185025</td>\n      <td>10604</td>\n      <td>0.174</td>\n      <td>NaN</td>\n      <td>142.0</td>\n      <td>1.0</td>\n      <td>490063.0</td>\n      <td>605113.0</td>\n      <td>2015-05-31</td>\n      <td>0.0</td>\n      <td>...</td>\n      <td>FT</td>\n      <td>605113.0</td>\n      <td>490063.0</td>\n      <td>R</td>\n      <td>swinging_strike</td>\n      <td>NaN</td>\n      <td>NaN</td>\n      <td>NaN</td>\n      <td>NaN</td>\n      <td>NaN</td>\n    </tr>\n    <tr>\n      <th>4124</th>\n      <td>150531_185053</td>\n      <td>10604</td>\n      <td>0.174</td>\n      <td>NaN</td>\n      <td>142.0</td>\n      <td>2.0</td>\n      <td>490063.0</td>\n      <td>605113.0</td>\n      <td>2015-05-31</td>\n      <td>1.0</td>\n      <td>...</td>\n      <td>FT</td>\n      <td>605113.0</td>\n      <td>490063.0</td>\n      <td>R</td>\n      <td>called_strike</td>\n      <td>NaN</td>\n      <td>NaN</td>\n      <td>NaN</td>\n      <td>NaN</td>\n      <td>NaN</td>\n    </tr>\n    <tr>\n      <th>4122</th>\n      <td>150531_185210</td>\n      <td>10605</td>\n      <td>0.132</td>\n      <td>NaN</td>\n      <td>143.0</td>\n      <td>1.0</td>\n      <td>490063.0</td>\n      <td>572041.0</td>\n      <td>2015-05-31</td>\n      <td>0.0</td>\n      <td>...</td>\n      <td>FT</td>\n      <td>572041.0</td>\n      <td>490063.0</td>\n      <td>R</td>\n      <td>ball</td>\n      <td>NaN</td>\n      <td>NaN</td>\n      <td>NaN</td>\n      <td>NaN</td>\n      <td>NaN</td>\n    </tr>\n    <tr>\n      <th>4121</th>\n      <td>150531_185305</td>\n      <td>10605</td>\n      <td>0.132</td>\n      <td>0.132</td>\n      <td>143.0</td>\n      <td>2.0</td>\n      <td>490063.0</td>\n      <td>572041.0</td>\n      <td>2015-05-31</td>\n      <td>0.0</td>\n      <td>...</td>\n      <td>FT</td>\n      <td>572041.0</td>\n      <td>490063.0</td>\n      <td>R</td>\n      <td>hit_into_play</td>\n      <td>0.147</td>\n      <td>0.132</td>\n      <td>0.0</td>\n      <td>1.0</td>\n      <td>0.0</td>\n    </tr>\n    <tr>\n      <th>4119</th>\n      <td>150531_185437</td>\n      <td>10606</td>\n      <td>0.354</td>\n      <td>NaN</td>\n      <td>144.0</td>\n      <td>2.0</td>\n      <td>490063.0</td>\n      <td>460060.0</td>\n      <td>2015-05-31</td>\n      <td>0.0</td>\n      <td>...</td>\n      <td>FT</td>\n      <td>460060.0</td>\n      <td>490063.0</td>\n      <td>L</td>\n      <td>ball</td>\n      <td>NaN</td>\n      <td>NaN</td>\n      <td>NaN</td>\n      <td>NaN</td>\n      <td>NaN</td>\n    </tr>\n    <tr>\n      <th>4118</th>\n      <td>150531_185520</td>\n      <td>10606</td>\n      <td>0.354</td>\n      <td>0.354</td>\n      <td>144.0</td>\n      <td>3.0</td>\n      <td>490063.0</td>\n      <td>460060.0</td>\n      <td>2015-05-31</td>\n      <td>0.0</td>\n      <td>...</td>\n      <td>FF</td>\n      <td>460060.0</td>\n      <td>490063.0</td>\n      <td>L</td>\n      <td>hit_into_play</td>\n      <td>0.393</td>\n      <td>0.354</td>\n      <td>0.0</td>\n      <td>1.0</td>\n      <td>0.0</td>\n    </tr>\n    <tr>\n      <th>4120</th>\n      <td>150531_185413</td>\n      <td>10606</td>\n      <td>0.354</td>\n      <td>NaN</td>\n      <td>144.0</td>\n      <td>1.0</td>\n      <td>490063.0</td>\n      <td>460060.0</td>\n      <td>2015-05-31</td>\n      <td>0.0</td>\n      <td>...</td>\n      <td>FT</td>\n      <td>460060.0</td>\n      <td>490063.0</td>\n      <td>L</td>\n      <td>ball</td>\n      <td>NaN</td>\n      <td>NaN</td>\n      <td>NaN</td>\n      <td>NaN</td>\n      <td>NaN</td>\n    </tr>\n    <tr>\n      <th>4112</th>\n      <td>150531_185914</td>\n      <td>10607</td>\n      <td>0.000</td>\n      <td>NaN</td>\n      <td>145.0</td>\n      <td>6.0</td>\n      <td>573064.0</td>\n      <td>596143.0</td>\n      <td>2015-05-31</td>\n      <td>2.0</td>\n      <td>...</td>\n      <td>FF</td>\n      <td>596143.0</td>\n      <td>573064.0</td>\n      <td>R</td>\n      <td>foul</td>\n      <td>NaN</td>\n      <td>NaN</td>\n      <td>NaN</td>\n      <td>NaN</td>\n      <td>NaN</td>\n    </tr>\n    <tr>\n      <th>4117</th>\n      <td>150531_185734</td>\n      <td>10607</td>\n      <td>0.000</td>\n      <td>NaN</td>\n      <td>145.0</td>\n      <td>1.0</td>\n      <td>573064.0</td>\n      <td>596143.0</td>\n      <td>2015-05-31</td>\n      <td>0.0</td>\n      <td>...</td>\n      <td>SL</td>\n      <td>596143.0</td>\n      <td>573064.0</td>\n      <td>R</td>\n      <td>called_strike</td>\n      <td>NaN</td>\n      <td>NaN</td>\n      <td>NaN</td>\n      <td>NaN</td>\n      <td>NaN</td>\n    </tr>\n    <tr>\n      <th>4113</th>\n      <td>150531_185852</td>\n      <td>10607</td>\n      <td>0.000</td>\n      <td>NaN</td>\n      <td>145.0</td>\n      <td>5.0</td>\n      <td>573064.0</td>\n      <td>596143.0</td>\n      <td>2015-05-31</td>\n      <td>2.0</td>\n      <td>...</td>\n      <td>SL</td>\n      <td>596143.0</td>\n      <td>573064.0</td>\n      <td>R</td>\n      <td>foul</td>\n      <td>NaN</td>\n      <td>NaN</td>\n      <td>NaN</td>\n      <td>NaN</td>\n      <td>NaN</td>\n    </tr>\n    <tr>\n      <th>4110</th>\n      <td>150531_185955</td>\n      <td>10607</td>\n      <td>0.000</td>\n      <td>NaN</td>\n      <td>145.0</td>\n      <td>8.0</td>\n      <td>573064.0</td>\n      <td>596143.0</td>\n      <td>2015-05-31</td>\n      <td>2.0</td>\n      <td>...</td>\n      <td>CH</td>\n      <td>596143.0</td>\n      <td>573064.0</td>\n      <td>R</td>\n      <td>foul</td>\n      <td>NaN</td>\n      <td>NaN</td>\n      <td>NaN</td>\n      <td>NaN</td>\n      <td>NaN</td>\n    </tr>\n    <tr>\n      <th>4109</th>\n      <td>150531_190024</td>\n      <td>10607</td>\n      <td>0.000</td>\n      <td>0.000</td>\n      <td>145.0</td>\n      <td>9.0</td>\n      <td>573064.0</td>\n      <td>596143.0</td>\n      <td>2015-05-31</td>\n      <td>2.0</td>\n      <td>...</td>\n      <td>FF</td>\n      <td>596143.0</td>\n      <td>573064.0</td>\n      <td>R</td>\n      <td>swinging_strike</td>\n      <td>NaN</td>\n      <td>NaN</td>\n      <td>0.0</td>\n      <td>1.0</td>\n      <td>0.0</td>\n    </tr>\n    <tr>\n      <th>4116</th>\n      <td>150531_185747</td>\n      <td>10607</td>\n      <td>0.000</td>\n      <td>NaN</td>\n      <td>145.0</td>\n      <td>2.0</td>\n      <td>573064.0</td>\n      <td>596143.0</td>\n      <td>2015-05-31</td>\n      <td>1.0</td>\n      <td>...</td>\n      <td>CH</td>\n      <td>596143.0</td>\n      <td>573064.0</td>\n      <td>R</td>\n      <td>swinging_strike</td>\n      <td>NaN</td>\n      <td>NaN</td>\n      <td>NaN</td>\n      <td>NaN</td>\n      <td>NaN</td>\n    </tr>\n    <tr>\n      <th>4115</th>\n      <td>150531_185807</td>\n      <td>10607</td>\n      <td>0.000</td>\n      <td>NaN</td>\n      <td>145.0</td>\n      <td>3.0</td>\n      <td>573064.0</td>\n      <td>596143.0</td>\n      <td>2015-05-31</td>\n      <td>2.0</td>\n      <td>...</td>\n      <td>SL</td>\n      <td>596143.0</td>\n      <td>573064.0</td>\n      <td>R</td>\n      <td>foul</td>\n      <td>NaN</td>\n      <td>NaN</td>\n      <td>NaN</td>\n      <td>NaN</td>\n      <td>NaN</td>\n    </tr>\n    <tr>\n      <th>4114</th>\n      <td>150531_185828</td>\n      <td>10607</td>\n      <td>0.000</td>\n      <td>NaN</td>\n      <td>145.0</td>\n      <td>4.0</td>\n      <td>573064.0</td>\n      <td>596143.0</td>\n      <td>2015-05-31</td>\n      <td>2.0</td>\n      <td>...</td>\n      <td>FF</td>\n      <td>596143.0</td>\n      <td>573064.0</td>\n      <td>R</td>\n      <td>foul</td>\n      <td>NaN</td>\n      <td>NaN</td>\n      <td>NaN</td>\n      <td>NaN</td>\n      <td>NaN</td>\n    </tr>\n    <tr>\n      <th>4111</th>\n      <td>150531_185936</td>\n      <td>10607</td>\n      <td>0.000</td>\n      <td>NaN</td>\n      <td>145.0</td>\n      <td>7.0</td>\n      <td>573064.0</td>\n      <td>596143.0</td>\n      <td>2015-05-31</td>\n      <td>2.0</td>\n      <td>...</td>\n      <td>SL</td>\n      <td>596143.0</td>\n      <td>573064.0</td>\n      <td>R</td>\n      <td>foul</td>\n      <td>NaN</td>\n      <td>NaN</td>\n      <td>NaN</td>\n      <td>NaN</td>\n      <td>NaN</td>\n    </tr>\n    <tr>\n      <th>4108</th>\n      <td>150531_190058</td>\n      <td>10608</td>\n      <td>1.063</td>\n      <td>1.063</td>\n      <td>146.0</td>\n      <td>1.0</td>\n      <td>573064.0</td>\n      <td>455117.0</td>\n      <td>2015-05-31</td>\n      <td>0.0</td>\n      <td>...</td>\n      <td>FT</td>\n      <td>455117.0</td>\n      <td>573064.0</td>\n      <td>R</td>\n      <td>hit_into_play_score</td>\n      <td>0.560</td>\n      <td>1.063</td>\n      <td>2.0</td>\n      <td>1.0</td>\n      <td>0.0</td>\n    </tr>\n  </tbody>\n</table>\n<p>25 rows × 21 columns</p>\n</div>"
     },
     "metadata": {},
     "execution_count": 91
    }
   ],
   "source": [
    "data[['sv_id','pa_id','pa_xwOBA','xwOBA','at_bat_number', 'pitch_number','pitcher','batter','game_date','strikes','balls','pitch_type', 'batter', 'pitcher','stand', 'description', 'estimated_ba_using_speedangle', 'estimated_woba_using_speedangle',\n",
    "       'woba_value', 'woba_denom', 'babip_value']].sort_values(by='pa_id').tail(25)"
   ]
  },
  {
   "cell_type": "code",
   "execution_count": 11,
   "metadata": {},
   "outputs": [
    {
     "output_type": "execute_result",
     "data": {
      "text/plain": [
       "array(['Standard', 'Strategic', nan, 'Extreme outfield shift'],\n",
       "      dtype=object)"
      ]
     },
     "metadata": {},
     "execution_count": 11
    }
   ],
   "source": [
    "data.of_fielding_alignment.unique()"
   ]
  },
  {
   "cell_type": "code",
   "execution_count": 76,
   "metadata": {},
   "outputs": [
    {
     "output_type": "execute_result",
     "data": {
      "text/plain": [
       "0     150531_155632\n",
       "1     150531_155603\n",
       "2     150531_155543\n",
       "3     150531_155518\n",
       "4     150531_155502\n",
       "5     150531_155421\n",
       "6     150531_155402\n",
       "7     150531_155341\n",
       "8     150531_155323\n",
       "9     150531_155247\n",
       "10    150531_155221\n",
       "11    150531_155158\n",
       "12    150531_155133\n",
       "13    150531_155115\n",
       "14    150531_155058\n",
       "15    150531_154755\n",
       "16    150531_154736\n",
       "17    150531_154721\n",
       "18    150531_154646\n",
       "19    150531_154623\n",
       "Name: sv_id, dtype: object"
      ]
     },
     "metadata": {},
     "execution_count": 76
    }
   ],
   "source": [
    ".head(20)"
   ]
  },
  {
   "cell_type": "code",
   "execution_count": 16,
   "metadata": {},
   "outputs": [
    {
     "output_type": "execute_result",
     "data": {
      "text/plain": [
       "    index pitch_type  game_date  release_speed  release_pos_x  release_pos_z  \\\n",
       "0     256         FF 2015-05-04           97.1          -1.22           5.88   \n",
       "1     258         SL 2015-05-04           83.2          -1.80           5.70   \n",
       "2     268         SL 2015-05-04           83.0          -1.49           5.67   \n",
       "3     276         SL 2015-05-04           84.6          -1.55           5.58   \n",
       "4     278         FF 2015-05-04           95.8          -1.27           5.99   \n",
       "5     289         SL 2015-05-04           84.2          -1.46           5.75   \n",
       "6     298         SL 2015-05-04           83.7          -1.59           5.96   \n",
       "7     300         FF 2015-05-04           94.1          -1.43           5.95   \n",
       "8     308         SL 2015-05-04           81.4          -1.36           5.76   \n",
       "9     316         SL 2015-05-04           83.1          -1.59           5.89   \n",
       "10    322         FF 2015-05-04           94.7          -1.19           5.88   \n",
       "11    329         SL 2015-05-04           87.7          -2.47           6.48   \n",
       "12    336         SL 2015-05-04           87.5          -2.49           6.59   \n",
       "13    343         SI 2015-05-04           92.9          -2.76           6.06   \n",
       "14    350         SL 2015-05-04           87.7          -2.35           6.62   \n",
       "15    357         SL 2015-05-04           86.0          -2.51           6.68   \n",
       "16    363         SL 2015-05-04           87.0          -2.34           6.57   \n",
       "17    372         SL 2015-05-04           86.3          -2.52           6.59   \n",
       "18    381         SL 2015-05-04           86.5          -2.43           6.58   \n",
       "19    387         SI 2015-05-04           91.2          -3.37           5.95   \n",
       "\n",
       "      player_name    batter   pitcher     events  ... fld_score  \\\n",
       "0   Neftali Feliz  474892.0  491703.0  strikeout  ...       2.0   \n",
       "1   Neftali Feliz  474892.0  491703.0        NaN  ...       2.0   \n",
       "2   Neftali Feliz  474892.0  491703.0        NaN  ...       2.0   \n",
       "3   Neftali Feliz  474892.0  491703.0        NaN  ...       2.0   \n",
       "4   Neftali Feliz  474892.0  491703.0        NaN  ...       2.0   \n",
       "5   Neftali Feliz  594828.0  491703.0  field_out  ...       2.0   \n",
       "6   Neftali Feliz  594828.0  491703.0        NaN  ...       2.0   \n",
       "7   Neftali Feliz  543807.0  491703.0  strikeout  ...       2.0   \n",
       "8   Neftali Feliz  543807.0  491703.0        NaN  ...       2.0   \n",
       "9   Neftali Feliz  543807.0  491703.0        NaN  ...       2.0   \n",
       "10  Neftali Feliz  543807.0  491703.0        NaN  ...       2.0   \n",
       "11    Chad Qualls  592261.0  430589.0  strikeout  ...       1.0   \n",
       "12    Chad Qualls  592261.0  430589.0        NaN  ...       1.0   \n",
       "13    Chad Qualls  592261.0  430589.0        NaN  ...       1.0   \n",
       "14    Chad Qualls  592261.0  430589.0        NaN  ...       1.0   \n",
       "15    Chad Qualls  592261.0  430589.0        NaN  ...       1.0   \n",
       "16    Chad Qualls  455139.0  430589.0    sac_fly  ...       1.0   \n",
       "17    Chad Qualls  596059.0  430589.0  strikeout  ...       1.0   \n",
       "18    Chad Qualls  596059.0  430589.0        NaN  ...       1.0   \n",
       "19    Chad Qualls  596059.0  430589.0        NaN  ...       1.0   \n",
       "\n",
       "    post_away_score  post_home_score  post_bat_score  post_fld_score  \\\n",
       "0               2.0              1.0             1.0             2.0   \n",
       "1               2.0              1.0             1.0             2.0   \n",
       "2               2.0              1.0             1.0             2.0   \n",
       "3               2.0              1.0             1.0             2.0   \n",
       "4               2.0              1.0             1.0             2.0   \n",
       "5               2.0              1.0             1.0             2.0   \n",
       "6               2.0              1.0             1.0             2.0   \n",
       "7               2.0              1.0             1.0             2.0   \n",
       "8               2.0              1.0             1.0             2.0   \n",
       "9               2.0              1.0             1.0             2.0   \n",
       "10              2.0              1.0             1.0             2.0   \n",
       "11              2.0              1.0             2.0             1.0   \n",
       "12              2.0              1.0             2.0             1.0   \n",
       "13              2.0              1.0             2.0             1.0   \n",
       "14              2.0              1.0             2.0             1.0   \n",
       "15              2.0              1.0             2.0             1.0   \n",
       "16              1.0              1.0             1.0             1.0   \n",
       "17              1.0              1.0             1.0             1.0   \n",
       "18              1.0              1.0             1.0             1.0   \n",
       "19              1.0              1.0             1.0             1.0   \n",
       "\n",
       "    if_fielding_alignment of_fielding_alignment pa_id  xwOBA pa_xwOBA  \n",
       "0                Standard              Standard  3671  0.000    0.000  \n",
       "1                Standard              Standard  3671    NaN    0.000  \n",
       "2                Standard              Standard  3671    NaN    0.000  \n",
       "3                Standard             Strategic  3671    NaN    0.000  \n",
       "4                Standard             Strategic  3671    NaN    0.000  \n",
       "5                Standard             Strategic  3626  0.090    0.090  \n",
       "6                Standard             Strategic  3626    NaN    0.090  \n",
       "7                Standard              Standard  3569  0.000    0.000  \n",
       "8                Standard              Standard  3569    NaN    0.000  \n",
       "9                Standard             Strategic  3569    NaN    0.000  \n",
       "10               Standard              Standard  3569    NaN    0.000  \n",
       "11               Standard             Strategic  3515  0.000    0.000  \n",
       "12               Standard             Strategic  3515    NaN    0.000  \n",
       "13               Standard             Strategic  3515    NaN    0.000  \n",
       "14               Standard             Strategic  3515    NaN    0.000  \n",
       "15               Standard             Strategic  3515    NaN    0.000  \n",
       "16               Standard             Strategic  3458  0.008    0.008  \n",
       "17              Strategic             Strategic  3409  0.000    0.000  \n",
       "18              Strategic             Strategic  3409    NaN    0.000  \n",
       "19              Strategic             Strategic  3409    NaN    0.000  \n",
       "\n",
       "[20 rows x 93 columns]"
      ],
      "text/html": "<div>\n<style scoped>\n    .dataframe tbody tr th:only-of-type {\n        vertical-align: middle;\n    }\n\n    .dataframe tbody tr th {\n        vertical-align: top;\n    }\n\n    .dataframe thead th {\n        text-align: right;\n    }\n</style>\n<table border=\"1\" class=\"dataframe\">\n  <thead>\n    <tr style=\"text-align: right;\">\n      <th></th>\n      <th>index</th>\n      <th>pitch_type</th>\n      <th>game_date</th>\n      <th>release_speed</th>\n      <th>release_pos_x</th>\n      <th>release_pos_z</th>\n      <th>player_name</th>\n      <th>batter</th>\n      <th>pitcher</th>\n      <th>events</th>\n      <th>...</th>\n      <th>fld_score</th>\n      <th>post_away_score</th>\n      <th>post_home_score</th>\n      <th>post_bat_score</th>\n      <th>post_fld_score</th>\n      <th>if_fielding_alignment</th>\n      <th>of_fielding_alignment</th>\n      <th>pa_id</th>\n      <th>xwOBA</th>\n      <th>pa_xwOBA</th>\n    </tr>\n  </thead>\n  <tbody>\n    <tr>\n      <th>0</th>\n      <td>256</td>\n      <td>FF</td>\n      <td>2015-05-04</td>\n      <td>97.1</td>\n      <td>-1.22</td>\n      <td>5.88</td>\n      <td>Neftali Feliz</td>\n      <td>474892.0</td>\n      <td>491703.0</td>\n      <td>strikeout</td>\n      <td>...</td>\n      <td>2.0</td>\n      <td>2.0</td>\n      <td>1.0</td>\n      <td>1.0</td>\n      <td>2.0</td>\n      <td>Standard</td>\n      <td>Standard</td>\n      <td>3671</td>\n      <td>0.000</td>\n      <td>0.000</td>\n    </tr>\n    <tr>\n      <th>1</th>\n      <td>258</td>\n      <td>SL</td>\n      <td>2015-05-04</td>\n      <td>83.2</td>\n      <td>-1.80</td>\n      <td>5.70</td>\n      <td>Neftali Feliz</td>\n      <td>474892.0</td>\n      <td>491703.0</td>\n      <td>NaN</td>\n      <td>...</td>\n      <td>2.0</td>\n      <td>2.0</td>\n      <td>1.0</td>\n      <td>1.0</td>\n      <td>2.0</td>\n      <td>Standard</td>\n      <td>Standard</td>\n      <td>3671</td>\n      <td>NaN</td>\n      <td>0.000</td>\n    </tr>\n    <tr>\n      <th>2</th>\n      <td>268</td>\n      <td>SL</td>\n      <td>2015-05-04</td>\n      <td>83.0</td>\n      <td>-1.49</td>\n      <td>5.67</td>\n      <td>Neftali Feliz</td>\n      <td>474892.0</td>\n      <td>491703.0</td>\n      <td>NaN</td>\n      <td>...</td>\n      <td>2.0</td>\n      <td>2.0</td>\n      <td>1.0</td>\n      <td>1.0</td>\n      <td>2.0</td>\n      <td>Standard</td>\n      <td>Standard</td>\n      <td>3671</td>\n      <td>NaN</td>\n      <td>0.000</td>\n    </tr>\n    <tr>\n      <th>3</th>\n      <td>276</td>\n      <td>SL</td>\n      <td>2015-05-04</td>\n      <td>84.6</td>\n      <td>-1.55</td>\n      <td>5.58</td>\n      <td>Neftali Feliz</td>\n      <td>474892.0</td>\n      <td>491703.0</td>\n      <td>NaN</td>\n      <td>...</td>\n      <td>2.0</td>\n      <td>2.0</td>\n      <td>1.0</td>\n      <td>1.0</td>\n      <td>2.0</td>\n      <td>Standard</td>\n      <td>Strategic</td>\n      <td>3671</td>\n      <td>NaN</td>\n      <td>0.000</td>\n    </tr>\n    <tr>\n      <th>4</th>\n      <td>278</td>\n      <td>FF</td>\n      <td>2015-05-04</td>\n      <td>95.8</td>\n      <td>-1.27</td>\n      <td>5.99</td>\n      <td>Neftali Feliz</td>\n      <td>474892.0</td>\n      <td>491703.0</td>\n      <td>NaN</td>\n      <td>...</td>\n      <td>2.0</td>\n      <td>2.0</td>\n      <td>1.0</td>\n      <td>1.0</td>\n      <td>2.0</td>\n      <td>Standard</td>\n      <td>Strategic</td>\n      <td>3671</td>\n      <td>NaN</td>\n      <td>0.000</td>\n    </tr>\n    <tr>\n      <th>5</th>\n      <td>289</td>\n      <td>SL</td>\n      <td>2015-05-04</td>\n      <td>84.2</td>\n      <td>-1.46</td>\n      <td>5.75</td>\n      <td>Neftali Feliz</td>\n      <td>594828.0</td>\n      <td>491703.0</td>\n      <td>field_out</td>\n      <td>...</td>\n      <td>2.0</td>\n      <td>2.0</td>\n      <td>1.0</td>\n      <td>1.0</td>\n      <td>2.0</td>\n      <td>Standard</td>\n      <td>Strategic</td>\n      <td>3626</td>\n      <td>0.090</td>\n      <td>0.090</td>\n    </tr>\n    <tr>\n      <th>6</th>\n      <td>298</td>\n      <td>SL</td>\n      <td>2015-05-04</td>\n      <td>83.7</td>\n      <td>-1.59</td>\n      <td>5.96</td>\n      <td>Neftali Feliz</td>\n      <td>594828.0</td>\n      <td>491703.0</td>\n      <td>NaN</td>\n      <td>...</td>\n      <td>2.0</td>\n      <td>2.0</td>\n      <td>1.0</td>\n      <td>1.0</td>\n      <td>2.0</td>\n      <td>Standard</td>\n      <td>Strategic</td>\n      <td>3626</td>\n      <td>NaN</td>\n      <td>0.090</td>\n    </tr>\n    <tr>\n      <th>7</th>\n      <td>300</td>\n      <td>FF</td>\n      <td>2015-05-04</td>\n      <td>94.1</td>\n      <td>-1.43</td>\n      <td>5.95</td>\n      <td>Neftali Feliz</td>\n      <td>543807.0</td>\n      <td>491703.0</td>\n      <td>strikeout</td>\n      <td>...</td>\n      <td>2.0</td>\n      <td>2.0</td>\n      <td>1.0</td>\n      <td>1.0</td>\n      <td>2.0</td>\n      <td>Standard</td>\n      <td>Standard</td>\n      <td>3569</td>\n      <td>0.000</td>\n      <td>0.000</td>\n    </tr>\n    <tr>\n      <th>8</th>\n      <td>308</td>\n      <td>SL</td>\n      <td>2015-05-04</td>\n      <td>81.4</td>\n      <td>-1.36</td>\n      <td>5.76</td>\n      <td>Neftali Feliz</td>\n      <td>543807.0</td>\n      <td>491703.0</td>\n      <td>NaN</td>\n      <td>...</td>\n      <td>2.0</td>\n      <td>2.0</td>\n      <td>1.0</td>\n      <td>1.0</td>\n      <td>2.0</td>\n      <td>Standard</td>\n      <td>Standard</td>\n      <td>3569</td>\n      <td>NaN</td>\n      <td>0.000</td>\n    </tr>\n    <tr>\n      <th>9</th>\n      <td>316</td>\n      <td>SL</td>\n      <td>2015-05-04</td>\n      <td>83.1</td>\n      <td>-1.59</td>\n      <td>5.89</td>\n      <td>Neftali Feliz</td>\n      <td>543807.0</td>\n      <td>491703.0</td>\n      <td>NaN</td>\n      <td>...</td>\n      <td>2.0</td>\n      <td>2.0</td>\n      <td>1.0</td>\n      <td>1.0</td>\n      <td>2.0</td>\n      <td>Standard</td>\n      <td>Strategic</td>\n      <td>3569</td>\n      <td>NaN</td>\n      <td>0.000</td>\n    </tr>\n    <tr>\n      <th>10</th>\n      <td>322</td>\n      <td>FF</td>\n      <td>2015-05-04</td>\n      <td>94.7</td>\n      <td>-1.19</td>\n      <td>5.88</td>\n      <td>Neftali Feliz</td>\n      <td>543807.0</td>\n      <td>491703.0</td>\n      <td>NaN</td>\n      <td>...</td>\n      <td>2.0</td>\n      <td>2.0</td>\n      <td>1.0</td>\n      <td>1.0</td>\n      <td>2.0</td>\n      <td>Standard</td>\n      <td>Standard</td>\n      <td>3569</td>\n      <td>NaN</td>\n      <td>0.000</td>\n    </tr>\n    <tr>\n      <th>11</th>\n      <td>329</td>\n      <td>SL</td>\n      <td>2015-05-04</td>\n      <td>87.7</td>\n      <td>-2.47</td>\n      <td>6.48</td>\n      <td>Chad Qualls</td>\n      <td>592261.0</td>\n      <td>430589.0</td>\n      <td>strikeout</td>\n      <td>...</td>\n      <td>1.0</td>\n      <td>2.0</td>\n      <td>1.0</td>\n      <td>2.0</td>\n      <td>1.0</td>\n      <td>Standard</td>\n      <td>Strategic</td>\n      <td>3515</td>\n      <td>0.000</td>\n      <td>0.000</td>\n    </tr>\n    <tr>\n      <th>12</th>\n      <td>336</td>\n      <td>SL</td>\n      <td>2015-05-04</td>\n      <td>87.5</td>\n      <td>-2.49</td>\n      <td>6.59</td>\n      <td>Chad Qualls</td>\n      <td>592261.0</td>\n      <td>430589.0</td>\n      <td>NaN</td>\n      <td>...</td>\n      <td>1.0</td>\n      <td>2.0</td>\n      <td>1.0</td>\n      <td>2.0</td>\n      <td>1.0</td>\n      <td>Standard</td>\n      <td>Strategic</td>\n      <td>3515</td>\n      <td>NaN</td>\n      <td>0.000</td>\n    </tr>\n    <tr>\n      <th>13</th>\n      <td>343</td>\n      <td>SI</td>\n      <td>2015-05-04</td>\n      <td>92.9</td>\n      <td>-2.76</td>\n      <td>6.06</td>\n      <td>Chad Qualls</td>\n      <td>592261.0</td>\n      <td>430589.0</td>\n      <td>NaN</td>\n      <td>...</td>\n      <td>1.0</td>\n      <td>2.0</td>\n      <td>1.0</td>\n      <td>2.0</td>\n      <td>1.0</td>\n      <td>Standard</td>\n      <td>Strategic</td>\n      <td>3515</td>\n      <td>NaN</td>\n      <td>0.000</td>\n    </tr>\n    <tr>\n      <th>14</th>\n      <td>350</td>\n      <td>SL</td>\n      <td>2015-05-04</td>\n      <td>87.7</td>\n      <td>-2.35</td>\n      <td>6.62</td>\n      <td>Chad Qualls</td>\n      <td>592261.0</td>\n      <td>430589.0</td>\n      <td>NaN</td>\n      <td>...</td>\n      <td>1.0</td>\n      <td>2.0</td>\n      <td>1.0</td>\n      <td>2.0</td>\n      <td>1.0</td>\n      <td>Standard</td>\n      <td>Strategic</td>\n      <td>3515</td>\n      <td>NaN</td>\n      <td>0.000</td>\n    </tr>\n    <tr>\n      <th>15</th>\n      <td>357</td>\n      <td>SL</td>\n      <td>2015-05-04</td>\n      <td>86.0</td>\n      <td>-2.51</td>\n      <td>6.68</td>\n      <td>Chad Qualls</td>\n      <td>592261.0</td>\n      <td>430589.0</td>\n      <td>NaN</td>\n      <td>...</td>\n      <td>1.0</td>\n      <td>2.0</td>\n      <td>1.0</td>\n      <td>2.0</td>\n      <td>1.0</td>\n      <td>Standard</td>\n      <td>Strategic</td>\n      <td>3515</td>\n      <td>NaN</td>\n      <td>0.000</td>\n    </tr>\n    <tr>\n      <th>16</th>\n      <td>363</td>\n      <td>SL</td>\n      <td>2015-05-04</td>\n      <td>87.0</td>\n      <td>-2.34</td>\n      <td>6.57</td>\n      <td>Chad Qualls</td>\n      <td>455139.0</td>\n      <td>430589.0</td>\n      <td>sac_fly</td>\n      <td>...</td>\n      <td>1.0</td>\n      <td>1.0</td>\n      <td>1.0</td>\n      <td>1.0</td>\n      <td>1.0</td>\n      <td>Standard</td>\n      <td>Strategic</td>\n      <td>3458</td>\n      <td>0.008</td>\n      <td>0.008</td>\n    </tr>\n    <tr>\n      <th>17</th>\n      <td>372</td>\n      <td>SL</td>\n      <td>2015-05-04</td>\n      <td>86.3</td>\n      <td>-2.52</td>\n      <td>6.59</td>\n      <td>Chad Qualls</td>\n      <td>596059.0</td>\n      <td>430589.0</td>\n      <td>strikeout</td>\n      <td>...</td>\n      <td>1.0</td>\n      <td>1.0</td>\n      <td>1.0</td>\n      <td>1.0</td>\n      <td>1.0</td>\n      <td>Strategic</td>\n      <td>Strategic</td>\n      <td>3409</td>\n      <td>0.000</td>\n      <td>0.000</td>\n    </tr>\n    <tr>\n      <th>18</th>\n      <td>381</td>\n      <td>SL</td>\n      <td>2015-05-04</td>\n      <td>86.5</td>\n      <td>-2.43</td>\n      <td>6.58</td>\n      <td>Chad Qualls</td>\n      <td>596059.0</td>\n      <td>430589.0</td>\n      <td>NaN</td>\n      <td>...</td>\n      <td>1.0</td>\n      <td>1.0</td>\n      <td>1.0</td>\n      <td>1.0</td>\n      <td>1.0</td>\n      <td>Strategic</td>\n      <td>Strategic</td>\n      <td>3409</td>\n      <td>NaN</td>\n      <td>0.000</td>\n    </tr>\n    <tr>\n      <th>19</th>\n      <td>387</td>\n      <td>SI</td>\n      <td>2015-05-04</td>\n      <td>91.2</td>\n      <td>-3.37</td>\n      <td>5.95</td>\n      <td>Chad Qualls</td>\n      <td>596059.0</td>\n      <td>430589.0</td>\n      <td>NaN</td>\n      <td>...</td>\n      <td>1.0</td>\n      <td>1.0</td>\n      <td>1.0</td>\n      <td>1.0</td>\n      <td>1.0</td>\n      <td>Strategic</td>\n      <td>Strategic</td>\n      <td>3409</td>\n      <td>NaN</td>\n      <td>0.000</td>\n    </tr>\n  </tbody>\n</table>\n<p>20 rows × 93 columns</p>\n</div>"
     },
     "metadata": {},
     "execution_count": 16
    }
   ],
   "source": [
    "data.head(20)"
   ]
  },
  {
   "cell_type": "code",
   "execution_count": 13,
   "metadata": {},
   "outputs": [
    {
     "output_type": "execute_result",
     "data": {
      "text/plain": [
       "['date',\n",
       " 'game_num',\n",
       " 'day_of_week',\n",
       " 'visiting_team',\n",
       " 'visiting_team_league',\n",
       " 'visiting_game_num',\n",
       " 'home_team',\n",
       " 'home_team_league',\n",
       " 'home_team_game_num',\n",
       " 'visiting_score',\n",
       " 'home_score',\n",
       " 'num_outs',\n",
       " 'day_night',\n",
       " 'completion_info',\n",
       " 'forfeit_info',\n",
       " 'protest_info',\n",
       " 'park_id',\n",
       " 'attendance',\n",
       " 'time_of_game_minutes',\n",
       " 'visiting_line_score',\n",
       " 'home_line_score',\n",
       " 'visiting_abs',\n",
       " 'visiting_hits',\n",
       " 'visiting_doubles',\n",
       " 'visiting_triples',\n",
       " 'visiting_homeruns',\n",
       " 'visiting_rbi',\n",
       " 'visiting_sac_hits',\n",
       " 'visiting_sac_flies',\n",
       " 'visiting_hbp',\n",
       " 'visiting_bb',\n",
       " 'visiting_iw',\n",
       " 'visiting_k',\n",
       " 'visiting_sb',\n",
       " 'visiting_cs',\n",
       " 'visiting_gdp',\n",
       " 'visiting_ci',\n",
       " 'visiting_lob',\n",
       " 'visiting_pitchers_used',\n",
       " 'visiting_individual_er',\n",
       " 'visiting_er',\n",
       " 'visiting__wp',\n",
       " 'visiting_balks',\n",
       " 'visiting_po',\n",
       " 'visiting_assists',\n",
       " 'visiting_errors',\n",
       " 'visiting_pb',\n",
       " 'visiting_dp',\n",
       " 'visiting_tp',\n",
       " 'home_abs',\n",
       " 'home_hits',\n",
       " 'home_doubles',\n",
       " 'home_triples',\n",
       " 'home_homeruns',\n",
       " 'home_rbi',\n",
       " 'home_sac_hits',\n",
       " 'home_sac_flies',\n",
       " 'home_hbp',\n",
       " 'home_bb',\n",
       " 'home_iw',\n",
       " 'home_k',\n",
       " 'home_sb',\n",
       " 'home_cs',\n",
       " 'home_gdp',\n",
       " 'home_ci',\n",
       " 'home_lob',\n",
       " 'home_pitchers_used',\n",
       " 'home_individual_er',\n",
       " 'home_er',\n",
       " 'home_wp',\n",
       " 'home_balks',\n",
       " 'home_po',\n",
       " 'home_assists',\n",
       " 'home_errors',\n",
       " 'home_pb',\n",
       " 'home_dp',\n",
       " 'home_tp',\n",
       " 'ump_home_id',\n",
       " 'ump_home_name',\n",
       " 'ump_first_id',\n",
       " 'ump_first_name',\n",
       " 'ump_second_id',\n",
       " 'ump_second_name',\n",
       " 'ump_third_id',\n",
       " 'ump_third_name',\n",
       " 'ump_lf_id',\n",
       " 'ump_lf_name',\n",
       " 'ump_rf_id',\n",
       " 'ump_rf_name',\n",
       " 'visiting_manager_id',\n",
       " 'visiting_manager_name',\n",
       " 'home_manager_id',\n",
       " 'home_manager_name',\n",
       " 'winning_pitcher_id',\n",
       " 'winning_pitcher_name',\n",
       " 'losing_pitcher_id',\n",
       " 'losing_pitcher_name',\n",
       " 'save_pitcher_id',\n",
       " 'save_pitcher_name',\n",
       " 'game_winning_rbi_id',\n",
       " 'game_winning_rbi_name',\n",
       " 'visiting_starting_pitcher_id',\n",
       " 'visiting_starting_pitcher_name',\n",
       " 'home_starting_pitcher_id',\n",
       " 'home_starting_pitcher_name',\n",
       " 'visiting_1_id',\n",
       " 'visiting_1_name',\n",
       " 'visiting_1_pos',\n",
       " 'visiting_2_id',\n",
       " 'visiting_2_name',\n",
       " 'visiting_2_pos',\n",
       " 'visiting_2_id.1',\n",
       " 'visiting_3_name',\n",
       " 'visiting_3_pos',\n",
       " 'visiting_4_id',\n",
       " 'visiting_4_name',\n",
       " 'visiting_4_pos',\n",
       " 'visiting_5_id',\n",
       " 'visiting_5_name',\n",
       " 'visiting_5_pos',\n",
       " 'visiting_6_id',\n",
       " 'visiting_6_name',\n",
       " 'visiting_6_pos',\n",
       " 'visiting_7_id',\n",
       " 'visiting_7_name',\n",
       " 'visiting_7_pos',\n",
       " 'visiting_8_id',\n",
       " 'visiting_8_name',\n",
       " 'visiting_8_pos',\n",
       " 'visiting_9_id',\n",
       " 'visiting_9_name',\n",
       " 'visiting_9_pos',\n",
       " 'home_1_id',\n",
       " 'home_1_name',\n",
       " 'home_1_pos',\n",
       " 'home_2_id',\n",
       " 'home_2_name',\n",
       " 'home_2_pos',\n",
       " 'home_3_id',\n",
       " 'home_3_name',\n",
       " 'home_3_pos',\n",
       " 'home_4_id',\n",
       " 'home_4_name',\n",
       " 'home_4_pos',\n",
       " 'home_5_id',\n",
       " 'home_5_name',\n",
       " 'home_5_pos',\n",
       " 'home_6_id',\n",
       " 'home_6_name',\n",
       " 'home_6_pos',\n",
       " 'home_7_id',\n",
       " 'home_7_name',\n",
       " 'home_7_pos',\n",
       " 'home_8_id',\n",
       " 'home_8_name',\n",
       " 'home_8_pos',\n",
       " 'home_9_id',\n",
       " 'home_9_name',\n",
       " 'home_9_pos',\n",
       " 'misc',\n",
       " 'acquisition_info']"
      ]
     },
     "metadata": {},
     "execution_count": 13
    }
   ],
   "source": [
    "list(retrosheet.season_game_logs(2019).columns)"
   ]
  },
  {
   "cell_type": "code",
   "execution_count": null,
   "metadata": {},
   "outputs": [],
   "source": []
  }
 ]
}