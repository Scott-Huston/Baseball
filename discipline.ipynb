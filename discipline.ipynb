{
 "nbformat": 4,
 "nbformat_minor": 2,
 "metadata": {
  "language_info": {
   "name": "python",
   "codemirror_mode": {
    "name": "ipython",
    "version": 3
   },
   "version": "3.7.5-final"
  },
  "orig_nbformat": 2,
  "file_extension": ".py",
  "mimetype": "text/x-python",
  "name": "python",
  "npconvert_exporter": "python",
  "pygments_lexer": "ipython3",
  "version": 3,
  "kernelspec": {
   "name": "python37564bitenvvirtualenv50de9cf6705248388475c22e569ed828",
   "display_name": "Python 3.7.5 64-bit ('env': virtualenv)"
  }
 },
 "cells": [
  {
   "cell_type": "code",
   "execution_count": 37,
   "metadata": {},
   "outputs": [],
   "source": [
    "import plotly\n",
    "import pandas as pd"
   ]
  },
  {
   "cell_type": "code",
   "execution_count": 62,
   "metadata": {},
   "outputs": [],
   "source": [
    "# read in data\n",
    "batting = pd.read_csv('batting_data.csv')\n",
    "pitching = pd.read_csv('pitching_data.csv')"
   ]
  },
  {
   "cell_type": "code",
   "execution_count": 63,
   "metadata": {},
   "outputs": [],
   "source": [
    "# filter out players with 0 PA/BF\n",
    "batting = batting[batting['PA']>0]\n",
    "pitching = pitching[pitching['TBF']>0]\n",
    "\n",
    "# create pitches per plate appearance\n",
    "batting['P/PA'] = batting['Pitches']/batting['PA']\n",
    "pitching['P/BF'] = pitching['Pitches']/pitching['TBF']"
   ]
  },
  {
   "cell_type": "code",
   "execution_count": 64,
   "metadata": {},
   "outputs": [],
   "source": [
    "# sort\n",
    "batting = batting.sort_values(by='P/PA')\n",
    "pitching = pitching.sort_values(by='P/BF')"
   ]
  },
  {
   "cell_type": "code",
   "execution_count": 65,
   "metadata": {},
   "outputs": [
    {
     "output_type": "execute_result",
     "data": {
      "text/plain": "                  Name          Team  W  L  SV  G  GS   IP    K/9   BB/9  ...  \\\n18       Bryan Holaday       Marlins  0  0   0  1   0  0.1   0.00   0.00  ...   \n22        Taylor Davis          Cubs  0  0   0  1   0  1.0   0.00   0.00  ...   \n821         Sandy Baez        Tigers  0  0   0  1   0  1.0   0.00   0.00  ...   \n811     Tim Federowicz       Rangers  0  0   0  1   0  1.0   0.00   0.00  ...   \n12        Caleb Joseph  Diamondbacks  0  0   0  2   0  1.1   0.00   0.00  ...   \n..                 ...           ... .. ..  .. ..  ..  ...    ...    ...  ...   \n924      Gerardo Parra     Nationals  0  0   0  1   0  0.0   0.00  36.00  ...   \n920      Chase De Jong         Twins  0  0   0  1   0  1.0   0.00  27.00  ...   \n3    Charlie Culberson        Braves  0  0   0  2   0  2.0   4.50   9.00  ...   \n55       Hunter Harvey       Orioles  1  0   0  7   0  6.1  15.63   5.68  ...   \n816       Austin Adams     Nationals  0  0   0  1   0  1.0  18.00  18.00  ...   \n\n         GB%   HR/FB    ERA    FIP   xFIP  WAR  Pitches  TBF  playerid  \\\n18   100.0 %   0.0 %   0.00   3.21   3.21  0.0        1    1     11287   \n22    50.0 %   0.0 %   0.00   3.21   5.20  0.0       12    6     12782   \n821   40.0 %   0.0 %   9.00   3.21   9.18  0.0       10    5     17754   \n811   16.7 %  33.3 %   9.00  16.21   9.18  0.0       13    6      8609   \n12    75.0 %   0.0 %   0.00   3.21   4.71  0.0        9    4      7087   \n..       ...     ...    ...    ...    ...  ...      ...  ...       ...   \n924  100.0 %   0.0 %  45.00  15.21  15.21  0.0       25    5      8553   \n920   16.7 %  33.3 %  36.00  25.21  18.18 -0.1       46    9     15036   \n3     14.3 %   0.0 %   0.00   5.21   9.19  0.0       52   10      3298   \n55    45.5 %  33.3 %   1.42   3.69   2.58  0.1      137   26     15507   \n816  100.0 %   0.0 %   9.00   8.21   8.21  0.0       33    6     13801   \n\n         P/BF  \n18   1.000000  \n22   2.000000  \n821  2.000000  \n811  2.166667  \n12   2.250000  \n..        ...  \n924  5.000000  \n920  5.111111  \n3    5.200000  \n55   5.269231  \n816  5.500000  \n\n[929 rows x 23 columns]",
      "text/html": "<div>\n<style scoped>\n    .dataframe tbody tr th:only-of-type {\n        vertical-align: middle;\n    }\n\n    .dataframe tbody tr th {\n        vertical-align: top;\n    }\n\n    .dataframe thead th {\n        text-align: right;\n    }\n</style>\n<table border=\"1\" class=\"dataframe\">\n  <thead>\n    <tr style=\"text-align: right;\">\n      <th></th>\n      <th>Name</th>\n      <th>Team</th>\n      <th>W</th>\n      <th>L</th>\n      <th>SV</th>\n      <th>G</th>\n      <th>GS</th>\n      <th>IP</th>\n      <th>K/9</th>\n      <th>BB/9</th>\n      <th>...</th>\n      <th>GB%</th>\n      <th>HR/FB</th>\n      <th>ERA</th>\n      <th>FIP</th>\n      <th>xFIP</th>\n      <th>WAR</th>\n      <th>Pitches</th>\n      <th>TBF</th>\n      <th>playerid</th>\n      <th>P/BF</th>\n    </tr>\n  </thead>\n  <tbody>\n    <tr>\n      <th>18</th>\n      <td>Bryan Holaday</td>\n      <td>Marlins</td>\n      <td>0</td>\n      <td>0</td>\n      <td>0</td>\n      <td>1</td>\n      <td>0</td>\n      <td>0.1</td>\n      <td>0.00</td>\n      <td>0.00</td>\n      <td>...</td>\n      <td>100.0 %</td>\n      <td>0.0 %</td>\n      <td>0.00</td>\n      <td>3.21</td>\n      <td>3.21</td>\n      <td>0.0</td>\n      <td>1</td>\n      <td>1</td>\n      <td>11287</td>\n      <td>1.000000</td>\n    </tr>\n    <tr>\n      <th>22</th>\n      <td>Taylor Davis</td>\n      <td>Cubs</td>\n      <td>0</td>\n      <td>0</td>\n      <td>0</td>\n      <td>1</td>\n      <td>0</td>\n      <td>1.0</td>\n      <td>0.00</td>\n      <td>0.00</td>\n      <td>...</td>\n      <td>50.0 %</td>\n      <td>0.0 %</td>\n      <td>0.00</td>\n      <td>3.21</td>\n      <td>5.20</td>\n      <td>0.0</td>\n      <td>12</td>\n      <td>6</td>\n      <td>12782</td>\n      <td>2.000000</td>\n    </tr>\n    <tr>\n      <th>821</th>\n      <td>Sandy Baez</td>\n      <td>Tigers</td>\n      <td>0</td>\n      <td>0</td>\n      <td>0</td>\n      <td>1</td>\n      <td>0</td>\n      <td>1.0</td>\n      <td>0.00</td>\n      <td>0.00</td>\n      <td>...</td>\n      <td>40.0 %</td>\n      <td>0.0 %</td>\n      <td>9.00</td>\n      <td>3.21</td>\n      <td>9.18</td>\n      <td>0.0</td>\n      <td>10</td>\n      <td>5</td>\n      <td>17754</td>\n      <td>2.000000</td>\n    </tr>\n    <tr>\n      <th>811</th>\n      <td>Tim Federowicz</td>\n      <td>Rangers</td>\n      <td>0</td>\n      <td>0</td>\n      <td>0</td>\n      <td>1</td>\n      <td>0</td>\n      <td>1.0</td>\n      <td>0.00</td>\n      <td>0.00</td>\n      <td>...</td>\n      <td>16.7 %</td>\n      <td>33.3 %</td>\n      <td>9.00</td>\n      <td>16.21</td>\n      <td>9.18</td>\n      <td>0.0</td>\n      <td>13</td>\n      <td>6</td>\n      <td>8609</td>\n      <td>2.166667</td>\n    </tr>\n    <tr>\n      <th>12</th>\n      <td>Caleb Joseph</td>\n      <td>Diamondbacks</td>\n      <td>0</td>\n      <td>0</td>\n      <td>0</td>\n      <td>2</td>\n      <td>0</td>\n      <td>1.1</td>\n      <td>0.00</td>\n      <td>0.00</td>\n      <td>...</td>\n      <td>75.0 %</td>\n      <td>0.0 %</td>\n      <td>0.00</td>\n      <td>3.21</td>\n      <td>4.71</td>\n      <td>0.0</td>\n      <td>9</td>\n      <td>4</td>\n      <td>7087</td>\n      <td>2.250000</td>\n    </tr>\n    <tr>\n      <th>...</th>\n      <td>...</td>\n      <td>...</td>\n      <td>...</td>\n      <td>...</td>\n      <td>...</td>\n      <td>...</td>\n      <td>...</td>\n      <td>...</td>\n      <td>...</td>\n      <td>...</td>\n      <td>...</td>\n      <td>...</td>\n      <td>...</td>\n      <td>...</td>\n      <td>...</td>\n      <td>...</td>\n      <td>...</td>\n      <td>...</td>\n      <td>...</td>\n      <td>...</td>\n      <td>...</td>\n    </tr>\n    <tr>\n      <th>924</th>\n      <td>Gerardo Parra</td>\n      <td>Nationals</td>\n      <td>0</td>\n      <td>0</td>\n      <td>0</td>\n      <td>1</td>\n      <td>0</td>\n      <td>0.0</td>\n      <td>0.00</td>\n      <td>36.00</td>\n      <td>...</td>\n      <td>100.0 %</td>\n      <td>0.0 %</td>\n      <td>45.00</td>\n      <td>15.21</td>\n      <td>15.21</td>\n      <td>0.0</td>\n      <td>25</td>\n      <td>5</td>\n      <td>8553</td>\n      <td>5.000000</td>\n    </tr>\n    <tr>\n      <th>920</th>\n      <td>Chase De Jong</td>\n      <td>Twins</td>\n      <td>0</td>\n      <td>0</td>\n      <td>0</td>\n      <td>1</td>\n      <td>0</td>\n      <td>1.0</td>\n      <td>0.00</td>\n      <td>27.00</td>\n      <td>...</td>\n      <td>16.7 %</td>\n      <td>33.3 %</td>\n      <td>36.00</td>\n      <td>25.21</td>\n      <td>18.18</td>\n      <td>-0.1</td>\n      <td>46</td>\n      <td>9</td>\n      <td>15036</td>\n      <td>5.111111</td>\n    </tr>\n    <tr>\n      <th>3</th>\n      <td>Charlie Culberson</td>\n      <td>Braves</td>\n      <td>0</td>\n      <td>0</td>\n      <td>0</td>\n      <td>2</td>\n      <td>0</td>\n      <td>2.0</td>\n      <td>4.50</td>\n      <td>9.00</td>\n      <td>...</td>\n      <td>14.3 %</td>\n      <td>0.0 %</td>\n      <td>0.00</td>\n      <td>5.21</td>\n      <td>9.19</td>\n      <td>0.0</td>\n      <td>52</td>\n      <td>10</td>\n      <td>3298</td>\n      <td>5.200000</td>\n    </tr>\n    <tr>\n      <th>55</th>\n      <td>Hunter Harvey</td>\n      <td>Orioles</td>\n      <td>1</td>\n      <td>0</td>\n      <td>0</td>\n      <td>7</td>\n      <td>0</td>\n      <td>6.1</td>\n      <td>15.63</td>\n      <td>5.68</td>\n      <td>...</td>\n      <td>45.5 %</td>\n      <td>33.3 %</td>\n      <td>1.42</td>\n      <td>3.69</td>\n      <td>2.58</td>\n      <td>0.1</td>\n      <td>137</td>\n      <td>26</td>\n      <td>15507</td>\n      <td>5.269231</td>\n    </tr>\n    <tr>\n      <th>816</th>\n      <td>Austin Adams</td>\n      <td>Nationals</td>\n      <td>0</td>\n      <td>0</td>\n      <td>0</td>\n      <td>1</td>\n      <td>0</td>\n      <td>1.0</td>\n      <td>18.00</td>\n      <td>18.00</td>\n      <td>...</td>\n      <td>100.0 %</td>\n      <td>0.0 %</td>\n      <td>9.00</td>\n      <td>8.21</td>\n      <td>8.21</td>\n      <td>0.0</td>\n      <td>33</td>\n      <td>6</td>\n      <td>13801</td>\n      <td>5.500000</td>\n    </tr>\n  </tbody>\n</table>\n<p>929 rows × 23 columns</p>\n</div>"
     },
     "metadata": {},
     "execution_count": 65
    }
   ],
   "source": [
    "pitching"
   ]
  },
  {
   "cell_type": "code",
   "execution_count": 55,
   "metadata": {},
   "outputs": [],
   "source": [
    "# creating weighting functions to weight by PA/TBF\n",
    "bat_wm = lambda x: np.average(x, weights=batting.loc[x.index, 'PA'])\n",
    "pit_wm = lambda x: np.average(x, weights=pitching.loc[x.index, 'TBF'])\n",
    "\n",
    "# getting average stats for each team\n",
    "batting_teams = batting.groupby(['Team']).agg(bat_wm)\n",
    "pitching_teams = pitching.groupby(['Team']).agg(pit_wm)"
   ]
  },
  {
   "cell_type": "code",
   "execution_count": 56,
   "metadata": {},
   "outputs": [
    {
     "output_type": "execute_result",
     "data": {
      "text/plain": "                    G          PA         HR          R        RBI        SB  \\\nTeam                                                                           \nAngels     104.784994  417.063030  15.976004  54.928012  50.920013  4.836506   \nAstros     111.898811  456.273694  21.987332  66.752581  67.201439  3.866594   \nAthletics  121.555272  483.059978  21.265433  68.002233  62.695007  4.117244   \nBlue Jays  101.967986  402.281891  16.962075  47.991299  48.161714  2.927926   \nBraves     117.948746  469.850524  20.627420  69.225008  64.992542  8.330530   \n\n                ISO     BABIP       AVG       OBP       SLG      wOBA  \\\nTeam                                                                    \nAngels     0.177890  0.281449  0.247170  0.324173  0.425025  0.316645   \nAstros     0.222754  0.297205  0.274122  0.352327  0.496963  0.354536   \nAthletics  0.199919  0.281884  0.249041  0.327118  0.449267  0.327371   \nBlue Jays  0.191783  0.278034  0.236154  0.305026  0.427646  0.309740   \nBraves     0.195328  0.304209  0.258101  0.335662  0.453250  0.331355   \n\n                 wRC+       BsR        Off       Def       WAR      Pitches  \\\nTeam                                                                          \nAngels      98.765478 -0.106543   5.054151 -0.065286  1.902224  1653.534155   \nAstros     125.256647 -0.959196  18.918893 -1.407804  3.265765  1755.002033   \nAthletics  106.792152  0.196698   8.816191  1.875132  2.692886  1934.957409   \nBlue Jays   91.864226 -0.838417  -3.295584 -2.669463  0.792628  1591.005254   \nBraves     101.860520  1.184560  10.777420 -0.105935  2.513551  1872.068867   \n\n               playerid      P/PA  \nTeam                               \nAngels     11999.495601  3.986402  \nAstros     11905.658586  3.864561  \nAthletics  12371.284575  3.983410  \nBlue Jays  13826.516664  3.948777  \nBraves     10949.269914  3.959219  ",
      "text/html": "<div>\n<style scoped>\n    .dataframe tbody tr th:only-of-type {\n        vertical-align: middle;\n    }\n\n    .dataframe tbody tr th {\n        vertical-align: top;\n    }\n\n    .dataframe thead th {\n        text-align: right;\n    }\n</style>\n<table border=\"1\" class=\"dataframe\">\n  <thead>\n    <tr style=\"text-align: right;\">\n      <th></th>\n      <th>G</th>\n      <th>PA</th>\n      <th>HR</th>\n      <th>R</th>\n      <th>RBI</th>\n      <th>SB</th>\n      <th>ISO</th>\n      <th>BABIP</th>\n      <th>AVG</th>\n      <th>OBP</th>\n      <th>SLG</th>\n      <th>wOBA</th>\n      <th>wRC+</th>\n      <th>BsR</th>\n      <th>Off</th>\n      <th>Def</th>\n      <th>WAR</th>\n      <th>Pitches</th>\n      <th>playerid</th>\n      <th>P/PA</th>\n    </tr>\n    <tr>\n      <th>Team</th>\n      <th></th>\n      <th></th>\n      <th></th>\n      <th></th>\n      <th></th>\n      <th></th>\n      <th></th>\n      <th></th>\n      <th></th>\n      <th></th>\n      <th></th>\n      <th></th>\n      <th></th>\n      <th></th>\n      <th></th>\n      <th></th>\n      <th></th>\n      <th></th>\n      <th></th>\n      <th></th>\n    </tr>\n  </thead>\n  <tbody>\n    <tr>\n      <th>Angels</th>\n      <td>104.784994</td>\n      <td>417.063030</td>\n      <td>15.976004</td>\n      <td>54.928012</td>\n      <td>50.920013</td>\n      <td>4.836506</td>\n      <td>0.177890</td>\n      <td>0.281449</td>\n      <td>0.247170</td>\n      <td>0.324173</td>\n      <td>0.425025</td>\n      <td>0.316645</td>\n      <td>98.765478</td>\n      <td>-0.106543</td>\n      <td>5.054151</td>\n      <td>-0.065286</td>\n      <td>1.902224</td>\n      <td>1653.534155</td>\n      <td>11999.495601</td>\n      <td>3.986402</td>\n    </tr>\n    <tr>\n      <th>Astros</th>\n      <td>111.898811</td>\n      <td>456.273694</td>\n      <td>21.987332</td>\n      <td>66.752581</td>\n      <td>67.201439</td>\n      <td>3.866594</td>\n      <td>0.222754</td>\n      <td>0.297205</td>\n      <td>0.274122</td>\n      <td>0.352327</td>\n      <td>0.496963</td>\n      <td>0.354536</td>\n      <td>125.256647</td>\n      <td>-0.959196</td>\n      <td>18.918893</td>\n      <td>-1.407804</td>\n      <td>3.265765</td>\n      <td>1755.002033</td>\n      <td>11905.658586</td>\n      <td>3.864561</td>\n    </tr>\n    <tr>\n      <th>Athletics</th>\n      <td>121.555272</td>\n      <td>483.059978</td>\n      <td>21.265433</td>\n      <td>68.002233</td>\n      <td>62.695007</td>\n      <td>4.117244</td>\n      <td>0.199919</td>\n      <td>0.281884</td>\n      <td>0.249041</td>\n      <td>0.327118</td>\n      <td>0.449267</td>\n      <td>0.327371</td>\n      <td>106.792152</td>\n      <td>0.196698</td>\n      <td>8.816191</td>\n      <td>1.875132</td>\n      <td>2.692886</td>\n      <td>1934.957409</td>\n      <td>12371.284575</td>\n      <td>3.983410</td>\n    </tr>\n    <tr>\n      <th>Blue Jays</th>\n      <td>101.967986</td>\n      <td>402.281891</td>\n      <td>16.962075</td>\n      <td>47.991299</td>\n      <td>48.161714</td>\n      <td>2.927926</td>\n      <td>0.191783</td>\n      <td>0.278034</td>\n      <td>0.236154</td>\n      <td>0.305026</td>\n      <td>0.427646</td>\n      <td>0.309740</td>\n      <td>91.864226</td>\n      <td>-0.838417</td>\n      <td>-3.295584</td>\n      <td>-2.669463</td>\n      <td>0.792628</td>\n      <td>1591.005254</td>\n      <td>13826.516664</td>\n      <td>3.948777</td>\n    </tr>\n    <tr>\n      <th>Braves</th>\n      <td>117.948746</td>\n      <td>469.850524</td>\n      <td>20.627420</td>\n      <td>69.225008</td>\n      <td>64.992542</td>\n      <td>8.330530</td>\n      <td>0.195328</td>\n      <td>0.304209</td>\n      <td>0.258101</td>\n      <td>0.335662</td>\n      <td>0.453250</td>\n      <td>0.331355</td>\n      <td>101.860520</td>\n      <td>1.184560</td>\n      <td>10.777420</td>\n      <td>-0.105935</td>\n      <td>2.513551</td>\n      <td>1872.068867</td>\n      <td>10949.269914</td>\n      <td>3.959219</td>\n    </tr>\n  </tbody>\n</table>\n</div>"
     },
     "metadata": {},
     "execution_count": 56
    }
   ],
   "source": [
    "teams.head()"
   ]
  },
  {
   "cell_type": "code",
   "execution_count": 57,
   "metadata": {},
   "outputs": [],
   "source": [
    "teams = teams.sort_values(by='P/PA')\n",
    "teams['Team'] = teams.index"
   ]
  },
  {
   "cell_type": "code",
   "execution_count": 59,
   "metadata": {},
   "outputs": [
    {
     "output_type": "execute_result",
     "data": {
      "text/plain": "                       G          PA         HR          R        RBI  \\\nTeam                                                                    \nPirates       108.168915  402.737636  12.174053  52.802987  51.473667   \nMets          119.290779  450.993641  19.438951  58.734658  59.637679   \nMarlins       102.834409  371.501241  10.103557  39.510835  40.156989   \nTwins         111.689612  457.236859  22.736389  67.519556  66.963705   \nRockies       115.867844  442.237913  18.329835  63.639472  61.114822   \nRoyals        108.147697  439.776645  13.952138  54.114309  52.378947   \nAstros        111.898811  456.273694  21.987332  66.752581  67.201439   \nDiamondbacks  115.041647  438.598416  16.776089  58.521932  57.336342   \nCubs          111.404358  413.920097  19.071832  58.744149  54.602421   \nReds          107.470492  376.088852  15.174262  45.641475  43.499508   \nGiants        102.440357  373.897893  10.731767  43.801945  42.109400   \nTigers         89.693823  347.575261   8.861070  33.871999  33.383838   \nWhite Sox     109.348395  434.140682  14.240318  55.482787  52.005462   \nPadres        114.428144  403.490115  16.359694  48.084399  47.941186   \nRed Sox       123.654208  518.876139  21.369730  77.478456  71.947645   \nIndians       104.068746  415.526127  16.826094  55.081156  51.731875   \nNationals     115.377054  453.712941  17.847136  68.334769  60.877294   \nBlue Jays     101.967986  402.281891  16.962075  47.991299  48.161714   \nBraves        117.948746  469.850524  20.627420  69.225008  64.992542   \nRays          105.293874  413.576293  15.255370  50.855847  49.531424   \nOrioles       113.957344  438.106802  16.449022  54.901761  52.048958   \nDodgers       111.359975  411.571883  20.471103  62.166534  60.342780   \nPhillies      115.730395  458.569717  16.419422  59.473087  57.017569   \nAthletics     121.555272  483.059978  21.265433  68.002233  62.695007   \nAngels        104.784994  417.063030  15.976004  54.928012  50.920013   \nCardinals     122.362737  458.574509  16.859089  59.584239  55.502189   \nBrewers       119.996513  439.733555  18.888413  56.786812  54.129656   \nRangers       108.148453  428.325274  15.678594  57.268698  53.538201   \nYankees       101.016013  407.499279  20.659728  62.940272  59.825941   \nMariners       95.576061  369.411034  14.006453  45.698177  43.237780   \n\n                     SB       ISO     BABIP       AVG       OBP  ...  \\\nTeam                                                             ...   \nPirates        4.865446  0.155912  0.307720  0.264638  0.320687  ...   \nMets           4.141653  0.186272  0.296378  0.256860  0.327861  ...   \nMarlins        3.076427  0.134167  0.299277  0.240171  0.297605  ...   \nTwins          1.723091  0.224935  0.301263  0.269723  0.337567  ...   \nRockies        5.438931  0.189757  0.319524  0.264714  0.325361  ...   \nRoyals         7.980921  0.155002  0.300103  0.246505  0.308944  ...   \nAstros         3.866594  0.222754  0.297205  0.274122  0.352327  ...   \nDiamondbacks   6.300079  0.182366  0.288778  0.251551  0.322084  ...   \nCubs           3.564165  0.199149  0.296486  0.252305  0.330647  ...   \nReds           4.779836  0.178932  0.286362  0.243374  0.314160  ...   \nGiants         3.159968  0.152770  0.288776  0.238487  0.301876  ...   \nTigers         3.206326  0.148148  0.305443  0.239920  0.293753  ...   \nWhite Sox      5.270440  0.152670  0.327384  0.260103  0.314032  ...   \nPadres         4.965443  0.171781  0.294025  0.237562  0.306741  ...   \nRed Sox        5.663166  0.197019  0.312395  0.269559  0.339529  ...   \nIndians        7.938276  0.182964  0.287991  0.249738  0.323133  ...   \nNationals     10.052497  0.190645  0.304554  0.265414  0.340911  ...   \nBlue Jays      2.927926  0.191783  0.278034  0.236154  0.305026  ...   \nBraves         8.330530  0.195328  0.304209  0.258101  0.335662  ...   \nRays           7.465553  0.177761  0.306501  0.253739  0.325333  ...   \nOrioles        6.670545  0.168351  0.292204  0.246142  0.310178  ...   \nDodgers        4.083745  0.214978  0.289952  0.257195  0.336543  ...   \nPhillies       6.336847  0.181784  0.292651  0.245359  0.318997  ...   \nAthletics      4.117244  0.199919  0.281884  0.249041  0.327118  ...   \nAngels         4.836506  0.177890  0.281449  0.247170  0.324173  ...   \nCardinals      8.277931  0.169743  0.289957  0.244680  0.321486  ...   \nBrewers        8.018862  0.193152  0.296143  0.246783  0.328618  ...   \nRangers       10.591715  0.183464  0.304404  0.247951  0.319255  ...   \nYankees        3.245797  0.222580  0.306853  0.266984  0.338343  ...   \nMariners       7.939668  0.187337  0.285592  0.236724  0.315684  ...   \n\n                  wOBA        wRC+       BsR        Off       Def       WAR  \\\nTeam                                                                          \nPirates       0.312476   92.361914 -0.508109   2.627987 -4.157803  1.119557   \nMets          0.324561  104.032114 -1.230000   9.016789 -1.530016  2.139841   \nMarlins       0.287369   78.558809 -1.777949  -6.636526  0.743954  0.600447   \nTwins         0.346717  115.630163 -0.628035   9.923357 -2.440144  2.295604   \nRockies       0.326972   85.887723  0.310321   0.607125 -0.825016  1.370897   \nRoyals        0.301664   84.344079 -0.058766  -1.143816 -2.048224  1.202648   \nAstros        0.354536  125.256647 -0.959196  18.918893 -1.407804  3.265765   \nDiamondbacks  0.318504   94.079652  1.507221   4.359620  1.919620  1.999667   \nCubs          0.328841  101.691041 -0.049169   8.282599  0.022341  2.111138   \nReds          0.311210   87.469180 -1.559475  -2.350689  0.331295  0.985869   \nGiants        0.294416   82.879092 -0.114814  -4.393906  0.939157  0.851329   \nTigers        0.289334   76.783573 -0.316990  -7.903097 -4.305547  0.011194   \nWhite Sox     0.308848   93.102615  0.645184   2.391675 -2.860013  1.456041   \nPadres        0.303621   87.525503 -0.779681  -3.030038  0.858747  1.055624   \nRed Sox       0.337845  106.123861  0.042764  12.090317  1.223197  3.063104   \nIndians       0.318874   93.679621  0.551927   2.232315  2.193452  1.856107   \nNationals     0.334840  103.007021  0.825291  10.233541  0.084075  2.428546   \nBlue Jays     0.309740   91.864226 -0.838417  -3.295584 -2.669463  0.792628   \nBraves        0.331355  101.860520  1.184560  10.777420 -0.105935  2.513551   \nRays          0.320721  102.374702  0.485680   5.003325 -1.120811  1.786110   \nOrioles       0.307734   88.500889  0.431669  -1.033850 -4.806592  0.949847   \nDodgers       0.337214  111.053017  1.119440  13.596434  0.701385  2.682726   \nPhillies      0.313761   91.185593  1.151414   2.265309  3.462706  1.996295   \nAthletics     0.327371  106.792152  0.196698   8.816191  1.875132  2.692886   \nAngels        0.316645   98.765478 -0.106543   5.054151 -0.065286  1.902224   \nCardinals     0.313512   94.501054  1.429398   2.590773  2.607670  1.942468   \nBrewers       0.323724   96.980187  0.368268   4.596180  2.423348  2.066207   \nRangers       0.317265   87.636202  1.466844  -3.661525 -3.184333  0.798743   \nYankees       0.346084  116.590232 -0.234235  11.663731 -0.608567  2.474219   \nMariners      0.314234   98.409905  0.969447   1.269705 -3.883578  1.011292   \n\n                  Pitches      playerid      P/PA          Team  \nTeam                                                             \nPirates       1515.283719  13592.435934  3.777296       Pirates  \nMets          1710.779014  11506.579173  3.789030          Mets  \nMarlins       1410.504053  11452.583623  3.821505       Marlins  \nTwins         1757.316333  11546.839487  3.842616         Twins  \nRockies       1702.797392  11413.489822  3.847487       Rockies  \nRoyals        1690.363980  12514.846875  3.860362        Royals  \nAstros        1755.002033  11905.658586  3.864561        Astros  \nDiamondbacks  1689.361520  10089.857957  3.866033  Diamondbacks  \nCubs          1611.351412  11708.982728  3.878289          Cubs  \nReds          1468.440984  12261.228033  3.885738          Reds  \nGiants        1439.846677  10616.960940  3.886386        Giants  \nTigers        1347.880278  12523.159795  3.892366        Tigers  \nWhite Sox     1668.435948  12631.656902  3.895730     White Sox  \nPadres        1577.892673  12965.474497  3.916930        Padres  \nRed Sox       2040.302394  12039.998610  3.926950       Red Sox  \nIndians       1633.265839  11491.911496  3.930764       Indians  \nNationals     1805.009574  12216.038615  3.932504     Nationals  \nBlue Jays     1591.005254  13826.516664  3.948777     Blue Jays  \nBraves        1872.068867  10949.269914  3.959219        Braves  \nRays          1636.763882  11900.998568  3.965314          Rays  \nOrioles       1726.518016  13614.109064  3.968492       Orioles  \nDodgers       1642.132304  12589.209362  3.977074       Dodgers  \nPhillies      1838.406964  12308.895384  3.977799      Phillies  \nAthletics     1934.957409  12371.284575  3.983410     Athletics  \nAngels        1653.534155  11999.495601  3.986402        Angels  \nCardinals     1854.264148  11551.664667  4.008270     Cardinals  \nBrewers       1759.980029   9818.734348  4.012046       Brewers  \nRangers       1727.502901  10467.424242  4.041586       Rangers  \nYankees       1641.779023  11339.575981  4.052202       Yankees  \nMariners      1525.663817  12451.579287  4.117277      Mariners  \n\n[30 rows x 21 columns]",
      "text/html": "<div>\n<style scoped>\n    .dataframe tbody tr th:only-of-type {\n        vertical-align: middle;\n    }\n\n    .dataframe tbody tr th {\n        vertical-align: top;\n    }\n\n    .dataframe thead th {\n        text-align: right;\n    }\n</style>\n<table border=\"1\" class=\"dataframe\">\n  <thead>\n    <tr style=\"text-align: right;\">\n      <th></th>\n      <th>G</th>\n      <th>PA</th>\n      <th>HR</th>\n      <th>R</th>\n      <th>RBI</th>\n      <th>SB</th>\n      <th>ISO</th>\n      <th>BABIP</th>\n      <th>AVG</th>\n      <th>OBP</th>\n      <th>...</th>\n      <th>wOBA</th>\n      <th>wRC+</th>\n      <th>BsR</th>\n      <th>Off</th>\n      <th>Def</th>\n      <th>WAR</th>\n      <th>Pitches</th>\n      <th>playerid</th>\n      <th>P/PA</th>\n      <th>Team</th>\n    </tr>\n    <tr>\n      <th>Team</th>\n      <th></th>\n      <th></th>\n      <th></th>\n      <th></th>\n      <th></th>\n      <th></th>\n      <th></th>\n      <th></th>\n      <th></th>\n      <th></th>\n      <th></th>\n      <th></th>\n      <th></th>\n      <th></th>\n      <th></th>\n      <th></th>\n      <th></th>\n      <th></th>\n      <th></th>\n      <th></th>\n      <th></th>\n    </tr>\n  </thead>\n  <tbody>\n    <tr>\n      <th>Pirates</th>\n      <td>108.168915</td>\n      <td>402.737636</td>\n      <td>12.174053</td>\n      <td>52.802987</td>\n      <td>51.473667</td>\n      <td>4.865446</td>\n      <td>0.155912</td>\n      <td>0.307720</td>\n      <td>0.264638</td>\n      <td>0.320687</td>\n      <td>...</td>\n      <td>0.312476</td>\n      <td>92.361914</td>\n      <td>-0.508109</td>\n      <td>2.627987</td>\n      <td>-4.157803</td>\n      <td>1.119557</td>\n      <td>1515.283719</td>\n      <td>13592.435934</td>\n      <td>3.777296</td>\n      <td>Pirates</td>\n    </tr>\n    <tr>\n      <th>Mets</th>\n      <td>119.290779</td>\n      <td>450.993641</td>\n      <td>19.438951</td>\n      <td>58.734658</td>\n      <td>59.637679</td>\n      <td>4.141653</td>\n      <td>0.186272</td>\n      <td>0.296378</td>\n      <td>0.256860</td>\n      <td>0.327861</td>\n      <td>...</td>\n      <td>0.324561</td>\n      <td>104.032114</td>\n      <td>-1.230000</td>\n      <td>9.016789</td>\n      <td>-1.530016</td>\n      <td>2.139841</td>\n      <td>1710.779014</td>\n      <td>11506.579173</td>\n      <td>3.789030</td>\n      <td>Mets</td>\n    </tr>\n    <tr>\n      <th>Marlins</th>\n      <td>102.834409</td>\n      <td>371.501241</td>\n      <td>10.103557</td>\n      <td>39.510835</td>\n      <td>40.156989</td>\n      <td>3.076427</td>\n      <td>0.134167</td>\n      <td>0.299277</td>\n      <td>0.240171</td>\n      <td>0.297605</td>\n      <td>...</td>\n      <td>0.287369</td>\n      <td>78.558809</td>\n      <td>-1.777949</td>\n      <td>-6.636526</td>\n      <td>0.743954</td>\n      <td>0.600447</td>\n      <td>1410.504053</td>\n      <td>11452.583623</td>\n      <td>3.821505</td>\n      <td>Marlins</td>\n    </tr>\n    <tr>\n      <th>Twins</th>\n      <td>111.689612</td>\n      <td>457.236859</td>\n      <td>22.736389</td>\n      <td>67.519556</td>\n      <td>66.963705</td>\n      <td>1.723091</td>\n      <td>0.224935</td>\n      <td>0.301263</td>\n      <td>0.269723</td>\n      <td>0.337567</td>\n      <td>...</td>\n      <td>0.346717</td>\n      <td>115.630163</td>\n      <td>-0.628035</td>\n      <td>9.923357</td>\n      <td>-2.440144</td>\n      <td>2.295604</td>\n      <td>1757.316333</td>\n      <td>11546.839487</td>\n      <td>3.842616</td>\n      <td>Twins</td>\n    </tr>\n    <tr>\n      <th>Rockies</th>\n      <td>115.867844</td>\n      <td>442.237913</td>\n      <td>18.329835</td>\n      <td>63.639472</td>\n      <td>61.114822</td>\n      <td>5.438931</td>\n      <td>0.189757</td>\n      <td>0.319524</td>\n      <td>0.264714</td>\n      <td>0.325361</td>\n      <td>...</td>\n      <td>0.326972</td>\n      <td>85.887723</td>\n      <td>0.310321</td>\n      <td>0.607125</td>\n      <td>-0.825016</td>\n      <td>1.370897</td>\n      <td>1702.797392</td>\n      <td>11413.489822</td>\n      <td>3.847487</td>\n      <td>Rockies</td>\n    </tr>\n    <tr>\n      <th>Royals</th>\n      <td>108.147697</td>\n      <td>439.776645</td>\n      <td>13.952138</td>\n      <td>54.114309</td>\n      <td>52.378947</td>\n      <td>7.980921</td>\n      <td>0.155002</td>\n      <td>0.300103</td>\n      <td>0.246505</td>\n      <td>0.308944</td>\n      <td>...</td>\n      <td>0.301664</td>\n      <td>84.344079</td>\n      <td>-0.058766</td>\n      <td>-1.143816</td>\n      <td>-2.048224</td>\n      <td>1.202648</td>\n      <td>1690.363980</td>\n      <td>12514.846875</td>\n      <td>3.860362</td>\n      <td>Royals</td>\n    </tr>\n    <tr>\n      <th>Astros</th>\n      <td>111.898811</td>\n      <td>456.273694</td>\n      <td>21.987332</td>\n      <td>66.752581</td>\n      <td>67.201439</td>\n      <td>3.866594</td>\n      <td>0.222754</td>\n      <td>0.297205</td>\n      <td>0.274122</td>\n      <td>0.352327</td>\n      <td>...</td>\n      <td>0.354536</td>\n      <td>125.256647</td>\n      <td>-0.959196</td>\n      <td>18.918893</td>\n      <td>-1.407804</td>\n      <td>3.265765</td>\n      <td>1755.002033</td>\n      <td>11905.658586</td>\n      <td>3.864561</td>\n      <td>Astros</td>\n    </tr>\n    <tr>\n      <th>Diamondbacks</th>\n      <td>115.041647</td>\n      <td>438.598416</td>\n      <td>16.776089</td>\n      <td>58.521932</td>\n      <td>57.336342</td>\n      <td>6.300079</td>\n      <td>0.182366</td>\n      <td>0.288778</td>\n      <td>0.251551</td>\n      <td>0.322084</td>\n      <td>...</td>\n      <td>0.318504</td>\n      <td>94.079652</td>\n      <td>1.507221</td>\n      <td>4.359620</td>\n      <td>1.919620</td>\n      <td>1.999667</td>\n      <td>1689.361520</td>\n      <td>10089.857957</td>\n      <td>3.866033</td>\n      <td>Diamondbacks</td>\n    </tr>\n    <tr>\n      <th>Cubs</th>\n      <td>111.404358</td>\n      <td>413.920097</td>\n      <td>19.071832</td>\n      <td>58.744149</td>\n      <td>54.602421</td>\n      <td>3.564165</td>\n      <td>0.199149</td>\n      <td>0.296486</td>\n      <td>0.252305</td>\n      <td>0.330647</td>\n      <td>...</td>\n      <td>0.328841</td>\n      <td>101.691041</td>\n      <td>-0.049169</td>\n      <td>8.282599</td>\n      <td>0.022341</td>\n      <td>2.111138</td>\n      <td>1611.351412</td>\n      <td>11708.982728</td>\n      <td>3.878289</td>\n      <td>Cubs</td>\n    </tr>\n    <tr>\n      <th>Reds</th>\n      <td>107.470492</td>\n      <td>376.088852</td>\n      <td>15.174262</td>\n      <td>45.641475</td>\n      <td>43.499508</td>\n      <td>4.779836</td>\n      <td>0.178932</td>\n      <td>0.286362</td>\n      <td>0.243374</td>\n      <td>0.314160</td>\n      <td>...</td>\n      <td>0.311210</td>\n      <td>87.469180</td>\n      <td>-1.559475</td>\n      <td>-2.350689</td>\n      <td>0.331295</td>\n      <td>0.985869</td>\n      <td>1468.440984</td>\n      <td>12261.228033</td>\n      <td>3.885738</td>\n      <td>Reds</td>\n    </tr>\n    <tr>\n      <th>Giants</th>\n      <td>102.440357</td>\n      <td>373.897893</td>\n      <td>10.731767</td>\n      <td>43.801945</td>\n      <td>42.109400</td>\n      <td>3.159968</td>\n      <td>0.152770</td>\n      <td>0.288776</td>\n      <td>0.238487</td>\n      <td>0.301876</td>\n      <td>...</td>\n      <td>0.294416</td>\n      <td>82.879092</td>\n      <td>-0.114814</td>\n      <td>-4.393906</td>\n      <td>0.939157</td>\n      <td>0.851329</td>\n      <td>1439.846677</td>\n      <td>10616.960940</td>\n      <td>3.886386</td>\n      <td>Giants</td>\n    </tr>\n    <tr>\n      <th>Tigers</th>\n      <td>89.693823</td>\n      <td>347.575261</td>\n      <td>8.861070</td>\n      <td>33.871999</td>\n      <td>33.383838</td>\n      <td>3.206326</td>\n      <td>0.148148</td>\n      <td>0.305443</td>\n      <td>0.239920</td>\n      <td>0.293753</td>\n      <td>...</td>\n      <td>0.289334</td>\n      <td>76.783573</td>\n      <td>-0.316990</td>\n      <td>-7.903097</td>\n      <td>-4.305547</td>\n      <td>0.011194</td>\n      <td>1347.880278</td>\n      <td>12523.159795</td>\n      <td>3.892366</td>\n      <td>Tigers</td>\n    </tr>\n    <tr>\n      <th>White Sox</th>\n      <td>109.348395</td>\n      <td>434.140682</td>\n      <td>14.240318</td>\n      <td>55.482787</td>\n      <td>52.005462</td>\n      <td>5.270440</td>\n      <td>0.152670</td>\n      <td>0.327384</td>\n      <td>0.260103</td>\n      <td>0.314032</td>\n      <td>...</td>\n      <td>0.308848</td>\n      <td>93.102615</td>\n      <td>0.645184</td>\n      <td>2.391675</td>\n      <td>-2.860013</td>\n      <td>1.456041</td>\n      <td>1668.435948</td>\n      <td>12631.656902</td>\n      <td>3.895730</td>\n      <td>White Sox</td>\n    </tr>\n    <tr>\n      <th>Padres</th>\n      <td>114.428144</td>\n      <td>403.490115</td>\n      <td>16.359694</td>\n      <td>48.084399</td>\n      <td>47.941186</td>\n      <td>4.965443</td>\n      <td>0.171781</td>\n      <td>0.294025</td>\n      <td>0.237562</td>\n      <td>0.306741</td>\n      <td>...</td>\n      <td>0.303621</td>\n      <td>87.525503</td>\n      <td>-0.779681</td>\n      <td>-3.030038</td>\n      <td>0.858747</td>\n      <td>1.055624</td>\n      <td>1577.892673</td>\n      <td>12965.474497</td>\n      <td>3.916930</td>\n      <td>Padres</td>\n    </tr>\n    <tr>\n      <th>Red Sox</th>\n      <td>123.654208</td>\n      <td>518.876139</td>\n      <td>21.369730</td>\n      <td>77.478456</td>\n      <td>71.947645</td>\n      <td>5.663166</td>\n      <td>0.197019</td>\n      <td>0.312395</td>\n      <td>0.269559</td>\n      <td>0.339529</td>\n      <td>...</td>\n      <td>0.337845</td>\n      <td>106.123861</td>\n      <td>0.042764</td>\n      <td>12.090317</td>\n      <td>1.223197</td>\n      <td>3.063104</td>\n      <td>2040.302394</td>\n      <td>12039.998610</td>\n      <td>3.926950</td>\n      <td>Red Sox</td>\n    </tr>\n    <tr>\n      <th>Indians</th>\n      <td>104.068746</td>\n      <td>415.526127</td>\n      <td>16.826094</td>\n      <td>55.081156</td>\n      <td>51.731875</td>\n      <td>7.938276</td>\n      <td>0.182964</td>\n      <td>0.287991</td>\n      <td>0.249738</td>\n      <td>0.323133</td>\n      <td>...</td>\n      <td>0.318874</td>\n      <td>93.679621</td>\n      <td>0.551927</td>\n      <td>2.232315</td>\n      <td>2.193452</td>\n      <td>1.856107</td>\n      <td>1633.265839</td>\n      <td>11491.911496</td>\n      <td>3.930764</td>\n      <td>Indians</td>\n    </tr>\n    <tr>\n      <th>Nationals</th>\n      <td>115.377054</td>\n      <td>453.712941</td>\n      <td>17.847136</td>\n      <td>68.334769</td>\n      <td>60.877294</td>\n      <td>10.052497</td>\n      <td>0.190645</td>\n      <td>0.304554</td>\n      <td>0.265414</td>\n      <td>0.340911</td>\n      <td>...</td>\n      <td>0.334840</td>\n      <td>103.007021</td>\n      <td>0.825291</td>\n      <td>10.233541</td>\n      <td>0.084075</td>\n      <td>2.428546</td>\n      <td>1805.009574</td>\n      <td>12216.038615</td>\n      <td>3.932504</td>\n      <td>Nationals</td>\n    </tr>\n    <tr>\n      <th>Blue Jays</th>\n      <td>101.967986</td>\n      <td>402.281891</td>\n      <td>16.962075</td>\n      <td>47.991299</td>\n      <td>48.161714</td>\n      <td>2.927926</td>\n      <td>0.191783</td>\n      <td>0.278034</td>\n      <td>0.236154</td>\n      <td>0.305026</td>\n      <td>...</td>\n      <td>0.309740</td>\n      <td>91.864226</td>\n      <td>-0.838417</td>\n      <td>-3.295584</td>\n      <td>-2.669463</td>\n      <td>0.792628</td>\n      <td>1591.005254</td>\n      <td>13826.516664</td>\n      <td>3.948777</td>\n      <td>Blue Jays</td>\n    </tr>\n    <tr>\n      <th>Braves</th>\n      <td>117.948746</td>\n      <td>469.850524</td>\n      <td>20.627420</td>\n      <td>69.225008</td>\n      <td>64.992542</td>\n      <td>8.330530</td>\n      <td>0.195328</td>\n      <td>0.304209</td>\n      <td>0.258101</td>\n      <td>0.335662</td>\n      <td>...</td>\n      <td>0.331355</td>\n      <td>101.860520</td>\n      <td>1.184560</td>\n      <td>10.777420</td>\n      <td>-0.105935</td>\n      <td>2.513551</td>\n      <td>1872.068867</td>\n      <td>10949.269914</td>\n      <td>3.959219</td>\n      <td>Braves</td>\n    </tr>\n    <tr>\n      <th>Rays</th>\n      <td>105.293874</td>\n      <td>413.576293</td>\n      <td>15.255370</td>\n      <td>50.855847</td>\n      <td>49.531424</td>\n      <td>7.465553</td>\n      <td>0.177761</td>\n      <td>0.306501</td>\n      <td>0.253739</td>\n      <td>0.325333</td>\n      <td>...</td>\n      <td>0.320721</td>\n      <td>102.374702</td>\n      <td>0.485680</td>\n      <td>5.003325</td>\n      <td>-1.120811</td>\n      <td>1.786110</td>\n      <td>1636.763882</td>\n      <td>11900.998568</td>\n      <td>3.965314</td>\n      <td>Rays</td>\n    </tr>\n    <tr>\n      <th>Orioles</th>\n      <td>113.957344</td>\n      <td>438.106802</td>\n      <td>16.449022</td>\n      <td>54.901761</td>\n      <td>52.048958</td>\n      <td>6.670545</td>\n      <td>0.168351</td>\n      <td>0.292204</td>\n      <td>0.246142</td>\n      <td>0.310178</td>\n      <td>...</td>\n      <td>0.307734</td>\n      <td>88.500889</td>\n      <td>0.431669</td>\n      <td>-1.033850</td>\n      <td>-4.806592</td>\n      <td>0.949847</td>\n      <td>1726.518016</td>\n      <td>13614.109064</td>\n      <td>3.968492</td>\n      <td>Orioles</td>\n    </tr>\n    <tr>\n      <th>Dodgers</th>\n      <td>111.359975</td>\n      <td>411.571883</td>\n      <td>20.471103</td>\n      <td>62.166534</td>\n      <td>60.342780</td>\n      <td>4.083745</td>\n      <td>0.214978</td>\n      <td>0.289952</td>\n      <td>0.257195</td>\n      <td>0.336543</td>\n      <td>...</td>\n      <td>0.337214</td>\n      <td>111.053017</td>\n      <td>1.119440</td>\n      <td>13.596434</td>\n      <td>0.701385</td>\n      <td>2.682726</td>\n      <td>1642.132304</td>\n      <td>12589.209362</td>\n      <td>3.977074</td>\n      <td>Dodgers</td>\n    </tr>\n    <tr>\n      <th>Phillies</th>\n      <td>115.730395</td>\n      <td>458.569717</td>\n      <td>16.419422</td>\n      <td>59.473087</td>\n      <td>57.017569</td>\n      <td>6.336847</td>\n      <td>0.181784</td>\n      <td>0.292651</td>\n      <td>0.245359</td>\n      <td>0.318997</td>\n      <td>...</td>\n      <td>0.313761</td>\n      <td>91.185593</td>\n      <td>1.151414</td>\n      <td>2.265309</td>\n      <td>3.462706</td>\n      <td>1.996295</td>\n      <td>1838.406964</td>\n      <td>12308.895384</td>\n      <td>3.977799</td>\n      <td>Phillies</td>\n    </tr>\n    <tr>\n      <th>Athletics</th>\n      <td>121.555272</td>\n      <td>483.059978</td>\n      <td>21.265433</td>\n      <td>68.002233</td>\n      <td>62.695007</td>\n      <td>4.117244</td>\n      <td>0.199919</td>\n      <td>0.281884</td>\n      <td>0.249041</td>\n      <td>0.327118</td>\n      <td>...</td>\n      <td>0.327371</td>\n      <td>106.792152</td>\n      <td>0.196698</td>\n      <td>8.816191</td>\n      <td>1.875132</td>\n      <td>2.692886</td>\n      <td>1934.957409</td>\n      <td>12371.284575</td>\n      <td>3.983410</td>\n      <td>Athletics</td>\n    </tr>\n    <tr>\n      <th>Angels</th>\n      <td>104.784994</td>\n      <td>417.063030</td>\n      <td>15.976004</td>\n      <td>54.928012</td>\n      <td>50.920013</td>\n      <td>4.836506</td>\n      <td>0.177890</td>\n      <td>0.281449</td>\n      <td>0.247170</td>\n      <td>0.324173</td>\n      <td>...</td>\n      <td>0.316645</td>\n      <td>98.765478</td>\n      <td>-0.106543</td>\n      <td>5.054151</td>\n      <td>-0.065286</td>\n      <td>1.902224</td>\n      <td>1653.534155</td>\n      <td>11999.495601</td>\n      <td>3.986402</td>\n      <td>Angels</td>\n    </tr>\n    <tr>\n      <th>Cardinals</th>\n      <td>122.362737</td>\n      <td>458.574509</td>\n      <td>16.859089</td>\n      <td>59.584239</td>\n      <td>55.502189</td>\n      <td>8.277931</td>\n      <td>0.169743</td>\n      <td>0.289957</td>\n      <td>0.244680</td>\n      <td>0.321486</td>\n      <td>...</td>\n      <td>0.313512</td>\n      <td>94.501054</td>\n      <td>1.429398</td>\n      <td>2.590773</td>\n      <td>2.607670</td>\n      <td>1.942468</td>\n      <td>1854.264148</td>\n      <td>11551.664667</td>\n      <td>4.008270</td>\n      <td>Cardinals</td>\n    </tr>\n    <tr>\n      <th>Brewers</th>\n      <td>119.996513</td>\n      <td>439.733555</td>\n      <td>18.888413</td>\n      <td>56.786812</td>\n      <td>54.129656</td>\n      <td>8.018862</td>\n      <td>0.193152</td>\n      <td>0.296143</td>\n      <td>0.246783</td>\n      <td>0.328618</td>\n      <td>...</td>\n      <td>0.323724</td>\n      <td>96.980187</td>\n      <td>0.368268</td>\n      <td>4.596180</td>\n      <td>2.423348</td>\n      <td>2.066207</td>\n      <td>1759.980029</td>\n      <td>9818.734348</td>\n      <td>4.012046</td>\n      <td>Brewers</td>\n    </tr>\n    <tr>\n      <th>Rangers</th>\n      <td>108.148453</td>\n      <td>428.325274</td>\n      <td>15.678594</td>\n      <td>57.268698</td>\n      <td>53.538201</td>\n      <td>10.591715</td>\n      <td>0.183464</td>\n      <td>0.304404</td>\n      <td>0.247951</td>\n      <td>0.319255</td>\n      <td>...</td>\n      <td>0.317265</td>\n      <td>87.636202</td>\n      <td>1.466844</td>\n      <td>-3.661525</td>\n      <td>-3.184333</td>\n      <td>0.798743</td>\n      <td>1727.502901</td>\n      <td>10467.424242</td>\n      <td>4.041586</td>\n      <td>Rangers</td>\n    </tr>\n    <tr>\n      <th>Yankees</th>\n      <td>101.016013</td>\n      <td>407.499279</td>\n      <td>20.659728</td>\n      <td>62.940272</td>\n      <td>59.825941</td>\n      <td>3.245797</td>\n      <td>0.222580</td>\n      <td>0.306853</td>\n      <td>0.266984</td>\n      <td>0.338343</td>\n      <td>...</td>\n      <td>0.346084</td>\n      <td>116.590232</td>\n      <td>-0.234235</td>\n      <td>11.663731</td>\n      <td>-0.608567</td>\n      <td>2.474219</td>\n      <td>1641.779023</td>\n      <td>11339.575981</td>\n      <td>4.052202</td>\n      <td>Yankees</td>\n    </tr>\n    <tr>\n      <th>Mariners</th>\n      <td>95.576061</td>\n      <td>369.411034</td>\n      <td>14.006453</td>\n      <td>45.698177</td>\n      <td>43.237780</td>\n      <td>7.939668</td>\n      <td>0.187337</td>\n      <td>0.285592</td>\n      <td>0.236724</td>\n      <td>0.315684</td>\n      <td>...</td>\n      <td>0.314234</td>\n      <td>98.409905</td>\n      <td>0.969447</td>\n      <td>1.269705</td>\n      <td>-3.883578</td>\n      <td>1.011292</td>\n      <td>1525.663817</td>\n      <td>12451.579287</td>\n      <td>4.117277</td>\n      <td>Mariners</td>\n    </tr>\n  </tbody>\n</table>\n<p>30 rows × 21 columns</p>\n</div>"
     },
     "metadata": {},
     "execution_count": 59
    }
   ],
   "source": [
    "teams"
   ]
  },
  {
   "cell_type": "code",
   "execution_count": 22,
   "metadata": {},
   "outputs": [
    {
     "output_type": "display_data",
     "data": {
      "application/vnd.plotly.v1+json": {
       "config": {
        "plotlyServerURL": "https://plot.ly"
       },
       "data": [
        {
         "alignmentgroup": "True",
         "hoverlabel": {
          "namelength": 0
         },
         "hovertemplate": "Team=%{x}<br>P/PA=%{y}",
         "legendgroup": "",
         "marker": {
          "color": "#636efa"
         },
         "name": "",
         "offsetgroup": "",
         "orientation": "v",
         "showlegend": false,
         "textposition": "auto",
         "type": "bar",
         "x": [
          "Pirates",
          "Mets",
          "Marlins",
          "Twins",
          "Rockies",
          "Astros",
          "Royals",
          "Diamondbacks",
          "White Sox",
          "Cubs",
          "- - -",
          "Tigers",
          "Reds",
          "Padres",
          "Red Sox",
          "Indians",
          "Nationals",
          "Blue Jays",
          "Orioles",
          "Braves",
          "Rays",
          "Dodgers",
          "Angels",
          "Giants",
          "Athletics",
          "Phillies",
          "Brewers",
          "Cardinals",
          "Yankees",
          "Rangers",
          "Mariners"
         ],
         "xaxis": "x",
         "y": [
          3.763113367174281,
          3.782230559345157,
          3.820430289683212,
          3.8421794269610148,
          3.8442437923250563,
          3.847463577321397,
          3.8615097856477165,
          3.8737015663643857,
          3.8766418175363864,
          3.898972304476572,
          3.903914044512663,
          3.9041071428571428,
          3.911457378551787,
          3.9262606181095245,
          3.9269741985926503,
          3.933129055515501,
          3.944679411267129,
          3.9525845316750874,
          3.95871250421301,
          3.961425302386401,
          3.9700673042862205,
          3.9730169050715216,
          3.9735422106179286,
          3.9805179922071967,
          3.984434509024673,
          3.9901076015272476,
          4.004200974626113,
          4.006388206388206,
          4.0303234501347704,
          4.036675235646958,
          4.1103896103896105
         ],
         "yaxis": "y"
        }
       ],
       "layout": {
        "barmode": "relative",
        "legend": {
         "tracegroupgap": 0
        },
        "margin": {
         "t": 60
        },
        "template": {
         "data": {
          "bar": [
           {
            "error_x": {
             "color": "#2a3f5f"
            },
            "error_y": {
             "color": "#2a3f5f"
            },
            "marker": {
             "line": {
              "color": "#E5ECF6",
              "width": 0.5
             }
            },
            "type": "bar"
           }
          ],
          "barpolar": [
           {
            "marker": {
             "line": {
              "color": "#E5ECF6",
              "width": 0.5
             }
            },
            "type": "barpolar"
           }
          ],
          "carpet": [
           {
            "aaxis": {
             "endlinecolor": "#2a3f5f",
             "gridcolor": "white",
             "linecolor": "white",
             "minorgridcolor": "white",
             "startlinecolor": "#2a3f5f"
            },
            "baxis": {
             "endlinecolor": "#2a3f5f",
             "gridcolor": "white",
             "linecolor": "white",
             "minorgridcolor": "white",
             "startlinecolor": "#2a3f5f"
            },
            "type": "carpet"
           }
          ],
          "choropleth": [
           {
            "colorbar": {
             "outlinewidth": 0,
             "ticks": ""
            },
            "type": "choropleth"
           }
          ],
          "contour": [
           {
            "colorbar": {
             "outlinewidth": 0,
             "ticks": ""
            },
            "colorscale": [
             [
              0,
              "#0d0887"
             ],
             [
              0.1111111111111111,
              "#46039f"
             ],
             [
              0.2222222222222222,
              "#7201a8"
             ],
             [
              0.3333333333333333,
              "#9c179e"
             ],
             [
              0.4444444444444444,
              "#bd3786"
             ],
             [
              0.5555555555555556,
              "#d8576b"
             ],
             [
              0.6666666666666666,
              "#ed7953"
             ],
             [
              0.7777777777777778,
              "#fb9f3a"
             ],
             [
              0.8888888888888888,
              "#fdca26"
             ],
             [
              1,
              "#f0f921"
             ]
            ],
            "type": "contour"
           }
          ],
          "contourcarpet": [
           {
            "colorbar": {
             "outlinewidth": 0,
             "ticks": ""
            },
            "type": "contourcarpet"
           }
          ],
          "heatmap": [
           {
            "colorbar": {
             "outlinewidth": 0,
             "ticks": ""
            },
            "colorscale": [
             [
              0,
              "#0d0887"
             ],
             [
              0.1111111111111111,
              "#46039f"
             ],
             [
              0.2222222222222222,
              "#7201a8"
             ],
             [
              0.3333333333333333,
              "#9c179e"
             ],
             [
              0.4444444444444444,
              "#bd3786"
             ],
             [
              0.5555555555555556,
              "#d8576b"
             ],
             [
              0.6666666666666666,
              "#ed7953"
             ],
             [
              0.7777777777777778,
              "#fb9f3a"
             ],
             [
              0.8888888888888888,
              "#fdca26"
             ],
             [
              1,
              "#f0f921"
             ]
            ],
            "type": "heatmap"
           }
          ],
          "heatmapgl": [
           {
            "colorbar": {
             "outlinewidth": 0,
             "ticks": ""
            },
            "colorscale": [
             [
              0,
              "#0d0887"
             ],
             [
              0.1111111111111111,
              "#46039f"
             ],
             [
              0.2222222222222222,
              "#7201a8"
             ],
             [
              0.3333333333333333,
              "#9c179e"
             ],
             [
              0.4444444444444444,
              "#bd3786"
             ],
             [
              0.5555555555555556,
              "#d8576b"
             ],
             [
              0.6666666666666666,
              "#ed7953"
             ],
             [
              0.7777777777777778,
              "#fb9f3a"
             ],
             [
              0.8888888888888888,
              "#fdca26"
             ],
             [
              1,
              "#f0f921"
             ]
            ],
            "type": "heatmapgl"
           }
          ],
          "histogram": [
           {
            "marker": {
             "colorbar": {
              "outlinewidth": 0,
              "ticks": ""
             }
            },
            "type": "histogram"
           }
          ],
          "histogram2d": [
           {
            "colorbar": {
             "outlinewidth": 0,
             "ticks": ""
            },
            "colorscale": [
             [
              0,
              "#0d0887"
             ],
             [
              0.1111111111111111,
              "#46039f"
             ],
             [
              0.2222222222222222,
              "#7201a8"
             ],
             [
              0.3333333333333333,
              "#9c179e"
             ],
             [
              0.4444444444444444,
              "#bd3786"
             ],
             [
              0.5555555555555556,
              "#d8576b"
             ],
             [
              0.6666666666666666,
              "#ed7953"
             ],
             [
              0.7777777777777778,
              "#fb9f3a"
             ],
             [
              0.8888888888888888,
              "#fdca26"
             ],
             [
              1,
              "#f0f921"
             ]
            ],
            "type": "histogram2d"
           }
          ],
          "histogram2dcontour": [
           {
            "colorbar": {
             "outlinewidth": 0,
             "ticks": ""
            },
            "colorscale": [
             [
              0,
              "#0d0887"
             ],
             [
              0.1111111111111111,
              "#46039f"
             ],
             [
              0.2222222222222222,
              "#7201a8"
             ],
             [
              0.3333333333333333,
              "#9c179e"
             ],
             [
              0.4444444444444444,
              "#bd3786"
             ],
             [
              0.5555555555555556,
              "#d8576b"
             ],
             [
              0.6666666666666666,
              "#ed7953"
             ],
             [
              0.7777777777777778,
              "#fb9f3a"
             ],
             [
              0.8888888888888888,
              "#fdca26"
             ],
             [
              1,
              "#f0f921"
             ]
            ],
            "type": "histogram2dcontour"
           }
          ],
          "mesh3d": [
           {
            "colorbar": {
             "outlinewidth": 0,
             "ticks": ""
            },
            "type": "mesh3d"
           }
          ],
          "parcoords": [
           {
            "line": {
             "colorbar": {
              "outlinewidth": 0,
              "ticks": ""
             }
            },
            "type": "parcoords"
           }
          ],
          "pie": [
           {
            "automargin": true,
            "type": "pie"
           }
          ],
          "scatter": [
           {
            "marker": {
             "colorbar": {
              "outlinewidth": 0,
              "ticks": ""
             }
            },
            "type": "scatter"
           }
          ],
          "scatter3d": [
           {
            "line": {
             "colorbar": {
              "outlinewidth": 0,
              "ticks": ""
             }
            },
            "marker": {
             "colorbar": {
              "outlinewidth": 0,
              "ticks": ""
             }
            },
            "type": "scatter3d"
           }
          ],
          "scattercarpet": [
           {
            "marker": {
             "colorbar": {
              "outlinewidth": 0,
              "ticks": ""
             }
            },
            "type": "scattercarpet"
           }
          ],
          "scattergeo": [
           {
            "marker": {
             "colorbar": {
              "outlinewidth": 0,
              "ticks": ""
             }
            },
            "type": "scattergeo"
           }
          ],
          "scattergl": [
           {
            "marker": {
             "colorbar": {
              "outlinewidth": 0,
              "ticks": ""
             }
            },
            "type": "scattergl"
           }
          ],
          "scattermapbox": [
           {
            "marker": {
             "colorbar": {
              "outlinewidth": 0,
              "ticks": ""
             }
            },
            "type": "scattermapbox"
           }
          ],
          "scatterpolar": [
           {
            "marker": {
             "colorbar": {
              "outlinewidth": 0,
              "ticks": ""
             }
            },
            "type": "scatterpolar"
           }
          ],
          "scatterpolargl": [
           {
            "marker": {
             "colorbar": {
              "outlinewidth": 0,
              "ticks": ""
             }
            },
            "type": "scatterpolargl"
           }
          ],
          "scatterternary": [
           {
            "marker": {
             "colorbar": {
              "outlinewidth": 0,
              "ticks": ""
             }
            },
            "type": "scatterternary"
           }
          ],
          "surface": [
           {
            "colorbar": {
             "outlinewidth": 0,
             "ticks": ""
            },
            "colorscale": [
             [
              0,
              "#0d0887"
             ],
             [
              0.1111111111111111,
              "#46039f"
             ],
             [
              0.2222222222222222,
              "#7201a8"
             ],
             [
              0.3333333333333333,
              "#9c179e"
             ],
             [
              0.4444444444444444,
              "#bd3786"
             ],
             [
              0.5555555555555556,
              "#d8576b"
             ],
             [
              0.6666666666666666,
              "#ed7953"
             ],
             [
              0.7777777777777778,
              "#fb9f3a"
             ],
             [
              0.8888888888888888,
              "#fdca26"
             ],
             [
              1,
              "#f0f921"
             ]
            ],
            "type": "surface"
           }
          ],
          "table": [
           {
            "cells": {
             "fill": {
              "color": "#EBF0F8"
             },
             "line": {
              "color": "white"
             }
            },
            "header": {
             "fill": {
              "color": "#C8D4E3"
             },
             "line": {
              "color": "white"
             }
            },
            "type": "table"
           }
          ]
         },
         "layout": {
          "annotationdefaults": {
           "arrowcolor": "#2a3f5f",
           "arrowhead": 0,
           "arrowwidth": 1
          },
          "coloraxis": {
           "colorbar": {
            "outlinewidth": 0,
            "ticks": ""
           }
          },
          "colorscale": {
           "diverging": [
            [
             0,
             "#8e0152"
            ],
            [
             0.1,
             "#c51b7d"
            ],
            [
             0.2,
             "#de77ae"
            ],
            [
             0.3,
             "#f1b6da"
            ],
            [
             0.4,
             "#fde0ef"
            ],
            [
             0.5,
             "#f7f7f7"
            ],
            [
             0.6,
             "#e6f5d0"
            ],
            [
             0.7,
             "#b8e186"
            ],
            [
             0.8,
             "#7fbc41"
            ],
            [
             0.9,
             "#4d9221"
            ],
            [
             1,
             "#276419"
            ]
           ],
           "sequential": [
            [
             0,
             "#0d0887"
            ],
            [
             0.1111111111111111,
             "#46039f"
            ],
            [
             0.2222222222222222,
             "#7201a8"
            ],
            [
             0.3333333333333333,
             "#9c179e"
            ],
            [
             0.4444444444444444,
             "#bd3786"
            ],
            [
             0.5555555555555556,
             "#d8576b"
            ],
            [
             0.6666666666666666,
             "#ed7953"
            ],
            [
             0.7777777777777778,
             "#fb9f3a"
            ],
            [
             0.8888888888888888,
             "#fdca26"
            ],
            [
             1,
             "#f0f921"
            ]
           ],
           "sequentialminus": [
            [
             0,
             "#0d0887"
            ],
            [
             0.1111111111111111,
             "#46039f"
            ],
            [
             0.2222222222222222,
             "#7201a8"
            ],
            [
             0.3333333333333333,
             "#9c179e"
            ],
            [
             0.4444444444444444,
             "#bd3786"
            ],
            [
             0.5555555555555556,
             "#d8576b"
            ],
            [
             0.6666666666666666,
             "#ed7953"
            ],
            [
             0.7777777777777778,
             "#fb9f3a"
            ],
            [
             0.8888888888888888,
             "#fdca26"
            ],
            [
             1,
             "#f0f921"
            ]
           ]
          },
          "colorway": [
           "#636efa",
           "#EF553B",
           "#00cc96",
           "#ab63fa",
           "#FFA15A",
           "#19d3f3",
           "#FF6692",
           "#B6E880",
           "#FF97FF",
           "#FECB52"
          ],
          "font": {
           "color": "#2a3f5f"
          },
          "geo": {
           "bgcolor": "white",
           "lakecolor": "white",
           "landcolor": "#E5ECF6",
           "showlakes": true,
           "showland": true,
           "subunitcolor": "white"
          },
          "hoverlabel": {
           "align": "left"
          },
          "hovermode": "closest",
          "mapbox": {
           "style": "light"
          },
          "paper_bgcolor": "white",
          "plot_bgcolor": "#E5ECF6",
          "polar": {
           "angularaxis": {
            "gridcolor": "white",
            "linecolor": "white",
            "ticks": ""
           },
           "bgcolor": "#E5ECF6",
           "radialaxis": {
            "gridcolor": "white",
            "linecolor": "white",
            "ticks": ""
           }
          },
          "scene": {
           "xaxis": {
            "backgroundcolor": "#E5ECF6",
            "gridcolor": "white",
            "gridwidth": 2,
            "linecolor": "white",
            "showbackground": true,
            "ticks": "",
            "zerolinecolor": "white"
           },
           "yaxis": {
            "backgroundcolor": "#E5ECF6",
            "gridcolor": "white",
            "gridwidth": 2,
            "linecolor": "white",
            "showbackground": true,
            "ticks": "",
            "zerolinecolor": "white"
           },
           "zaxis": {
            "backgroundcolor": "#E5ECF6",
            "gridcolor": "white",
            "gridwidth": 2,
            "linecolor": "white",
            "showbackground": true,
            "ticks": "",
            "zerolinecolor": "white"
           }
          },
          "shapedefaults": {
           "line": {
            "color": "#2a3f5f"
           }
          },
          "ternary": {
           "aaxis": {
            "gridcolor": "white",
            "linecolor": "white",
            "ticks": ""
           },
           "baxis": {
            "gridcolor": "white",
            "linecolor": "white",
            "ticks": ""
           },
           "bgcolor": "#E5ECF6",
           "caxis": {
            "gridcolor": "white",
            "linecolor": "white",
            "ticks": ""
           }
          },
          "title": {
           "x": 0.05
          },
          "xaxis": {
           "automargin": true,
           "gridcolor": "white",
           "linecolor": "white",
           "ticks": "",
           "title": {
            "standoff": 15
           },
           "zerolinecolor": "white",
           "zerolinewidth": 2
          },
          "yaxis": {
           "automargin": true,
           "gridcolor": "white",
           "linecolor": "white",
           "ticks": "",
           "title": {
            "standoff": 15
           },
           "zerolinecolor": "white",
           "zerolinewidth": 2
          }
         }
        },
        "xaxis": {
         "anchor": "y",
         "domain": [
          0,
          1
         ],
         "title": {
          "text": "Team"
         }
        },
        "yaxis": {
         "anchor": "x",
         "domain": [
          0,
          1
         ],
         "title": {
          "text": "P/PA"
         }
        }
       }
      }
     },
     "metadata": {}
    }
   ],
   "source": [
    "import plotly.express as px\n",
    "fig = px.bar(test.sort_values(by='P/PA'), x='Team', y='P/PA')\n",
    "fig.show()"
   ]
  },
  {
   "cell_type": "code",
   "execution_count": 60,
   "metadata": {},
   "outputs": [],
   "source": [
    "mariners = batting[batting['Team']=='Mariners']"
   ]
  },
  {
   "cell_type": "code",
   "execution_count": 61,
   "metadata": {},
   "outputs": [
    {
     "output_type": "execute_result",
     "data": {
      "text/plain": "                  Name      Team   G  PA  HR  R  RBI  SB     BB%       K%  \\\n1564     Yusei Kikuchi  Mariners  32   2   0  0    0   0   0.0 %   50.0 %   \n725      David Freitas  Mariners   1   4   0  1    1   0  25.0 %    0.0 %   \n1424  Justus Sheffield  Mariners   8   2   0  0    0   0   0.0 %  100.0 %   \n1506       Justin Dunn  Mariners   4   1   0  0    0   0   0.0 %  100.0 %   \n1169     Matt Carasiti  Mariners  11   1   0  0    0   0   0.0 %    0.0 %   \n\n      ...  SLG   wOBA   wRC+  BsR  Off  Def  WAR  Pitches  playerid  P/PA  \n1564  ...  0.0  0.000 -100.0  0.0 -0.5  0.2  0.0        5     20633   2.5  \n725   ...  0.0  0.173    3.0  0.0 -0.5  0.1  0.0       12     10619   3.0  \n1424  ...  0.0  0.000 -100.0  0.0 -0.5  0.2  0.0        6     17285   3.0  \n1506  ...  0.0  0.000 -100.0  0.0 -0.3  0.1  0.0        3     19268   3.0  \n1169  ...  0.0  0.000 -100.0  0.0 -0.3  0.1  0.0        3     13276   3.0  \n\n[5 rows x 24 columns]",
      "text/html": "<div>\n<style scoped>\n    .dataframe tbody tr th:only-of-type {\n        vertical-align: middle;\n    }\n\n    .dataframe tbody tr th {\n        vertical-align: top;\n    }\n\n    .dataframe thead th {\n        text-align: right;\n    }\n</style>\n<table border=\"1\" class=\"dataframe\">\n  <thead>\n    <tr style=\"text-align: right;\">\n      <th></th>\n      <th>Name</th>\n      <th>Team</th>\n      <th>G</th>\n      <th>PA</th>\n      <th>HR</th>\n      <th>R</th>\n      <th>RBI</th>\n      <th>SB</th>\n      <th>BB%</th>\n      <th>K%</th>\n      <th>...</th>\n      <th>SLG</th>\n      <th>wOBA</th>\n      <th>wRC+</th>\n      <th>BsR</th>\n      <th>Off</th>\n      <th>Def</th>\n      <th>WAR</th>\n      <th>Pitches</th>\n      <th>playerid</th>\n      <th>P/PA</th>\n    </tr>\n  </thead>\n  <tbody>\n    <tr>\n      <th>1564</th>\n      <td>Yusei Kikuchi</td>\n      <td>Mariners</td>\n      <td>32</td>\n      <td>2</td>\n      <td>0</td>\n      <td>0</td>\n      <td>0</td>\n      <td>0</td>\n      <td>0.0 %</td>\n      <td>50.0 %</td>\n      <td>...</td>\n      <td>0.0</td>\n      <td>0.000</td>\n      <td>-100.0</td>\n      <td>0.0</td>\n      <td>-0.5</td>\n      <td>0.2</td>\n      <td>0.0</td>\n      <td>5</td>\n      <td>20633</td>\n      <td>2.5</td>\n    </tr>\n    <tr>\n      <th>725</th>\n      <td>David Freitas</td>\n      <td>Mariners</td>\n      <td>1</td>\n      <td>4</td>\n      <td>0</td>\n      <td>1</td>\n      <td>1</td>\n      <td>0</td>\n      <td>25.0 %</td>\n      <td>0.0 %</td>\n      <td>...</td>\n      <td>0.0</td>\n      <td>0.173</td>\n      <td>3.0</td>\n      <td>0.0</td>\n      <td>-0.5</td>\n      <td>0.1</td>\n      <td>0.0</td>\n      <td>12</td>\n      <td>10619</td>\n      <td>3.0</td>\n    </tr>\n    <tr>\n      <th>1424</th>\n      <td>Justus Sheffield</td>\n      <td>Mariners</td>\n      <td>8</td>\n      <td>2</td>\n      <td>0</td>\n      <td>0</td>\n      <td>0</td>\n      <td>0</td>\n      <td>0.0 %</td>\n      <td>100.0 %</td>\n      <td>...</td>\n      <td>0.0</td>\n      <td>0.000</td>\n      <td>-100.0</td>\n      <td>0.0</td>\n      <td>-0.5</td>\n      <td>0.2</td>\n      <td>0.0</td>\n      <td>6</td>\n      <td>17285</td>\n      <td>3.0</td>\n    </tr>\n    <tr>\n      <th>1506</th>\n      <td>Justin Dunn</td>\n      <td>Mariners</td>\n      <td>4</td>\n      <td>1</td>\n      <td>0</td>\n      <td>0</td>\n      <td>0</td>\n      <td>0</td>\n      <td>0.0 %</td>\n      <td>100.0 %</td>\n      <td>...</td>\n      <td>0.0</td>\n      <td>0.000</td>\n      <td>-100.0</td>\n      <td>0.0</td>\n      <td>-0.3</td>\n      <td>0.1</td>\n      <td>0.0</td>\n      <td>3</td>\n      <td>19268</td>\n      <td>3.0</td>\n    </tr>\n    <tr>\n      <th>1169</th>\n      <td>Matt Carasiti</td>\n      <td>Mariners</td>\n      <td>11</td>\n      <td>1</td>\n      <td>0</td>\n      <td>0</td>\n      <td>0</td>\n      <td>0</td>\n      <td>0.0 %</td>\n      <td>0.0 %</td>\n      <td>...</td>\n      <td>0.0</td>\n      <td>0.000</td>\n      <td>-100.0</td>\n      <td>0.0</td>\n      <td>-0.3</td>\n      <td>0.1</td>\n      <td>0.0</td>\n      <td>3</td>\n      <td>13276</td>\n      <td>3.0</td>\n    </tr>\n  </tbody>\n</table>\n<p>5 rows × 24 columns</p>\n</div>"
     },
     "metadata": {},
     "execution_count": 61
    }
   ],
   "source": [
    "mariners.head()"
   ]
  },
  {
   "cell_type": "code",
   "execution_count": 30,
   "metadata": {},
   "outputs": [
    {
     "output_type": "execute_result",
     "data": {
      "text/plain": "     Season              Name      Team   Age      G     AB     PA      H  \\\n989  2019.0     Yusei Kikuchi  Mariners  28.0   32.0    1.0    2.0    0.0   \n943  2019.0  Justus Sheffield  Mariners  23.0    8.0    2.0    2.0    0.0   \n869  2019.0     Matt Carasiti  Mariners  27.0   11.0    1.0    1.0    0.0   \n969  2019.0       Justin Dunn  Mariners  23.0    4.0    1.0    1.0    0.0   \n452  2019.0        Dee Gordon  Mariners  31.0  117.0  393.0  421.0  108.0   \n8    2019.0      Wade LeBlanc  Mariners  34.0   26.0    0.0    2.0    0.0   \n338  2019.0        Ryon Healy  Mariners  27.0   47.0  169.0  187.0   40.0   \n565  2019.0    Marco Gonzales  Mariners  27.0   34.0    5.0    6.0    1.0   \n191  2019.0       Austin Nola  Mariners  29.0   79.0  238.0  267.0   64.0   \n204  2019.0         Shed Long  Mariners  23.0   42.0  152.0  168.0   40.0   \n467  2019.0      Mallex Smith  Mariners  26.0  134.0  510.0  566.0  116.0   \n932  2019.0      Erik Swanson  Mariners  25.0   27.0    2.0    2.0    0.0   \n686  2019.0       Jake Fraley  Mariners  24.0   12.0   40.0   41.0    6.0   \n290  2019.0         Tim Lopes  Mariners  25.0   41.0  111.0  128.0   30.0   \n125  2019.0        Kyle Lewis  Mariners  23.0   18.0   71.0   75.0   19.0   \n165  2019.0      Omar Narvaez  Mariners  27.0  132.0  428.0  482.0  119.0   \n216  2019.0       Kyle Seager  Mariners  31.0  106.0  393.0  443.0   94.0   \n381  2019.0       Dylan Moore  Mariners  26.0  113.0  247.0  282.0   51.0   \n309  2019.0       Tim Beckham  Mariners  29.0   88.0  304.0  328.0   72.0   \n726  2019.0     Braden Bishop  Mariners  25.0   27.0   56.0   60.0    6.0   \n245  2019.0   Domingo Santana  Mariners  26.0  121.0  451.0  507.0  114.0   \n250  2019.0     Mitch Haniger  Mariners  28.0   63.0  246.0  283.0   54.0   \n399  2019.0     J.P. Crawford  Mariners  24.0   93.0  345.0  396.0   78.0   \n130  2019.0        Tom Murphy  Mariners  28.0   76.0  260.0  281.0   71.0   \n533  2019.0        Ryan Court  Mariners  31.0   12.0   24.0   25.0    5.0   \n559  2019.0     Donnie Walton  Mariners  25.0    7.0   16.0   19.0    3.0   \n208  2019.0  Daniel Vogelbach  Mariners  26.0  144.0  462.0  558.0   96.0   \n807  2019.0   Felix Hernandez  Mariners  33.0   15.0    3.0    3.0    0.0   \n736  2019.0     Ichiro Suzuki  Mariners  45.0    2.0    5.0    6.0    0.0   \n821  2019.0      Tommy Milone  Mariners  32.0   23.0    2.0    2.0    0.0   \n\n       1B    2B  ...  wXX/C (pi)  O-Swing% (pi)  Z-Swing% (pi)  Swing% (pi)  \\\n989   0.0   0.0  ...         NaN          0.333          1.000        0.600   \n943   0.0   0.0  ...         NaN          1.000          0.333        0.667   \n869   0.0   0.0  ...         NaN          0.000          1.000        0.333   \n969   0.0   0.0  ...         NaN          1.000          0.500        0.667   \n452  87.0  12.0  ...         NaN          0.383          0.694        0.544   \n8     0.0   0.0  ...         NaN          0.000          0.250        0.143   \n338  17.0  16.0  ...         NaN          0.288          0.644        0.462   \n565   0.0   1.0  ...         NaN          0.000          0.429        0.261   \n191  41.0  12.0  ...         NaN          0.213          0.637        0.426   \n204  22.0  12.0  ...         NaN          0.298          0.603        0.449   \n467  82.0  19.0  ...         NaN          0.284          0.658        0.475   \n932   0.0   0.0  ...         NaN          0.500          0.000        0.250   \n686   4.0   2.0  ...         NaN          0.234          0.782        0.524   \n290  22.0   7.0  ...      -12.38          0.295          0.628        0.464   \n125   8.0   5.0  ...         NaN          0.317          0.660        0.479   \n165  85.0  12.0  ...         NaN          0.307          0.665        0.481   \n216  51.0  19.0  ...       32.60          0.275          0.642        0.452   \n381  26.0  14.0  ...         NaN          0.247          0.643        0.443   \n309  35.0  21.0  ...         NaN          0.290          0.641        0.460   \n726   6.0   0.0  ...         NaN          0.360          0.575        0.465   \n245  72.0  20.0  ...         NaN          0.271          0.686        0.467   \n250  25.0  13.0  ...         NaN          0.251          0.597        0.422   \n399  46.0  21.0  ...         NaN          0.234          0.615        0.427   \n130  40.0  12.0  ...         NaN          0.294          0.619        0.449   \n533   3.0   1.0  ...         NaN          0.269          0.569        0.427   \n559   3.0   0.0  ...         NaN          0.333          0.811        0.541   \n208  49.0  17.0  ...         NaN          0.213          0.482        0.339   \n807   0.0   0.0  ...         NaN          0.667          0.625        0.643   \n736   0.0   0.0  ...         NaN            NaN            NaN          NaN   \n821   0.0   0.0  ...         NaN          0.250          0.667        0.500   \n\n     O-Contact% (pi)  Z-Contact% (pi)  Contact% (pi)  Zone% (pi)  Pace (pi)  \\\n989            1.000            0.000          0.333       0.400       18.7   \n943            0.000            0.000          0.000       0.500       17.0   \n869              NaN            1.000          1.000       0.333       34.0   \n969            0.000            1.000          0.500       0.667       17.5   \n452            0.772            0.898          0.855       0.516       24.1   \n8                NaN            1.000          1.000       0.571       14.0   \n338            0.495            0.892          0.766       0.490       26.2   \n565              NaN            0.833          0.833       0.609       17.9   \n191            0.514            0.875          0.785       0.502       23.7   \n204            0.588            0.845          0.759       0.495       23.3   \n467            0.548            0.816          0.738       0.510       24.6   \n932            0.500              NaN          0.500       0.500       23.0   \n686            0.333            0.853          0.744       0.531       27.6   \n290            0.613            0.823          0.757       0.507       24.0   \n125            0.451            0.737          0.637       0.472       23.3   \n165            0.720            0.836          0.798       0.485       26.2   \n216            0.652            0.880          0.808       0.482       26.6   \n381            0.583            0.813          0.748       0.495       23.4   \n309            0.434            0.839          0.707       0.486       26.6   \n726            0.600            0.797          0.719       0.490       23.1   \n245            0.495            0.785          0.697       0.473       23.5   \n250            0.452            0.868          0.743       0.495       24.9   \n399            0.697            0.855          0.813       0.507       23.5   \n130            0.460            0.842          0.711       0.476       26.8   \n533            0.429            0.788          0.681       0.527       26.1   \n559            0.500            0.733          0.652       0.435       25.3   \n208            0.627            0.805          0.745       0.469       22.9   \n807            0.250            0.800          0.556       0.571       17.4   \n736              NaN              NaN            NaN         NaN        NaN   \n821            0.000            0.750          0.600       0.600       16.3   \n\n         P/PA  \n989  2.500000  \n943  3.000000  \n869  3.000000  \n969  3.000000  \n452  3.456057  \n8    3.500000  \n338  3.786096  \n565  3.833333  \n191  3.928839  \n204  3.940476  \n467  3.961131  \n932  4.000000  \n686  4.000000  \n290  4.023438  \n125  4.066667  \n165  4.105809  \n216  4.110609  \n381  4.120567  \n309  4.121951  \n726  4.133333  \n245  4.195266  \n250  4.318021  \n399  4.333333  \n130  4.359431  \n533  4.400000  \n559  4.473684  \n208  4.537634  \n807  4.666667  \n736  5.000000  \n821  5.000000  \n\n[30 rows x 288 columns]",
      "text/html": "<div>\n<style scoped>\n    .dataframe tbody tr th:only-of-type {\n        vertical-align: middle;\n    }\n\n    .dataframe tbody tr th {\n        vertical-align: top;\n    }\n\n    .dataframe thead th {\n        text-align: right;\n    }\n</style>\n<table border=\"1\" class=\"dataframe\">\n  <thead>\n    <tr style=\"text-align: right;\">\n      <th></th>\n      <th>Season</th>\n      <th>Name</th>\n      <th>Team</th>\n      <th>Age</th>\n      <th>G</th>\n      <th>AB</th>\n      <th>PA</th>\n      <th>H</th>\n      <th>1B</th>\n      <th>2B</th>\n      <th>...</th>\n      <th>wXX/C (pi)</th>\n      <th>O-Swing% (pi)</th>\n      <th>Z-Swing% (pi)</th>\n      <th>Swing% (pi)</th>\n      <th>O-Contact% (pi)</th>\n      <th>Z-Contact% (pi)</th>\n      <th>Contact% (pi)</th>\n      <th>Zone% (pi)</th>\n      <th>Pace (pi)</th>\n      <th>P/PA</th>\n    </tr>\n  </thead>\n  <tbody>\n    <tr>\n      <th>989</th>\n      <td>2019.0</td>\n      <td>Yusei Kikuchi</td>\n      <td>Mariners</td>\n      <td>28.0</td>\n      <td>32.0</td>\n      <td>1.0</td>\n      <td>2.0</td>\n      <td>0.0</td>\n      <td>0.0</td>\n      <td>0.0</td>\n      <td>...</td>\n      <td>NaN</td>\n      <td>0.333</td>\n      <td>1.000</td>\n      <td>0.600</td>\n      <td>1.000</td>\n      <td>0.000</td>\n      <td>0.333</td>\n      <td>0.400</td>\n      <td>18.7</td>\n      <td>2.500000</td>\n    </tr>\n    <tr>\n      <th>943</th>\n      <td>2019.0</td>\n      <td>Justus Sheffield</td>\n      <td>Mariners</td>\n      <td>23.0</td>\n      <td>8.0</td>\n      <td>2.0</td>\n      <td>2.0</td>\n      <td>0.0</td>\n      <td>0.0</td>\n      <td>0.0</td>\n      <td>...</td>\n      <td>NaN</td>\n      <td>1.000</td>\n      <td>0.333</td>\n      <td>0.667</td>\n      <td>0.000</td>\n      <td>0.000</td>\n      <td>0.000</td>\n      <td>0.500</td>\n      <td>17.0</td>\n      <td>3.000000</td>\n    </tr>\n    <tr>\n      <th>869</th>\n      <td>2019.0</td>\n      <td>Matt Carasiti</td>\n      <td>Mariners</td>\n      <td>27.0</td>\n      <td>11.0</td>\n      <td>1.0</td>\n      <td>1.0</td>\n      <td>0.0</td>\n      <td>0.0</td>\n      <td>0.0</td>\n      <td>...</td>\n      <td>NaN</td>\n      <td>0.000</td>\n      <td>1.000</td>\n      <td>0.333</td>\n      <td>NaN</td>\n      <td>1.000</td>\n      <td>1.000</td>\n      <td>0.333</td>\n      <td>34.0</td>\n      <td>3.000000</td>\n    </tr>\n    <tr>\n      <th>969</th>\n      <td>2019.0</td>\n      <td>Justin Dunn</td>\n      <td>Mariners</td>\n      <td>23.0</td>\n      <td>4.0</td>\n      <td>1.0</td>\n      <td>1.0</td>\n      <td>0.0</td>\n      <td>0.0</td>\n      <td>0.0</td>\n      <td>...</td>\n      <td>NaN</td>\n      <td>1.000</td>\n      <td>0.500</td>\n      <td>0.667</td>\n      <td>0.000</td>\n      <td>1.000</td>\n      <td>0.500</td>\n      <td>0.667</td>\n      <td>17.5</td>\n      <td>3.000000</td>\n    </tr>\n    <tr>\n      <th>452</th>\n      <td>2019.0</td>\n      <td>Dee Gordon</td>\n      <td>Mariners</td>\n      <td>31.0</td>\n      <td>117.0</td>\n      <td>393.0</td>\n      <td>421.0</td>\n      <td>108.0</td>\n      <td>87.0</td>\n      <td>12.0</td>\n      <td>...</td>\n      <td>NaN</td>\n      <td>0.383</td>\n      <td>0.694</td>\n      <td>0.544</td>\n      <td>0.772</td>\n      <td>0.898</td>\n      <td>0.855</td>\n      <td>0.516</td>\n      <td>24.1</td>\n      <td>3.456057</td>\n    </tr>\n    <tr>\n      <th>8</th>\n      <td>2019.0</td>\n      <td>Wade LeBlanc</td>\n      <td>Mariners</td>\n      <td>34.0</td>\n      <td>26.0</td>\n      <td>0.0</td>\n      <td>2.0</td>\n      <td>0.0</td>\n      <td>0.0</td>\n      <td>0.0</td>\n      <td>...</td>\n      <td>NaN</td>\n      <td>0.000</td>\n      <td>0.250</td>\n      <td>0.143</td>\n      <td>NaN</td>\n      <td>1.000</td>\n      <td>1.000</td>\n      <td>0.571</td>\n      <td>14.0</td>\n      <td>3.500000</td>\n    </tr>\n    <tr>\n      <th>338</th>\n      <td>2019.0</td>\n      <td>Ryon Healy</td>\n      <td>Mariners</td>\n      <td>27.0</td>\n      <td>47.0</td>\n      <td>169.0</td>\n      <td>187.0</td>\n      <td>40.0</td>\n      <td>17.0</td>\n      <td>16.0</td>\n      <td>...</td>\n      <td>NaN</td>\n      <td>0.288</td>\n      <td>0.644</td>\n      <td>0.462</td>\n      <td>0.495</td>\n      <td>0.892</td>\n      <td>0.766</td>\n      <td>0.490</td>\n      <td>26.2</td>\n      <td>3.786096</td>\n    </tr>\n    <tr>\n      <th>565</th>\n      <td>2019.0</td>\n      <td>Marco Gonzales</td>\n      <td>Mariners</td>\n      <td>27.0</td>\n      <td>34.0</td>\n      <td>5.0</td>\n      <td>6.0</td>\n      <td>1.0</td>\n      <td>0.0</td>\n      <td>1.0</td>\n      <td>...</td>\n      <td>NaN</td>\n      <td>0.000</td>\n      <td>0.429</td>\n      <td>0.261</td>\n      <td>NaN</td>\n      <td>0.833</td>\n      <td>0.833</td>\n      <td>0.609</td>\n      <td>17.9</td>\n      <td>3.833333</td>\n    </tr>\n    <tr>\n      <th>191</th>\n      <td>2019.0</td>\n      <td>Austin Nola</td>\n      <td>Mariners</td>\n      <td>29.0</td>\n      <td>79.0</td>\n      <td>238.0</td>\n      <td>267.0</td>\n      <td>64.0</td>\n      <td>41.0</td>\n      <td>12.0</td>\n      <td>...</td>\n      <td>NaN</td>\n      <td>0.213</td>\n      <td>0.637</td>\n      <td>0.426</td>\n      <td>0.514</td>\n      <td>0.875</td>\n      <td>0.785</td>\n      <td>0.502</td>\n      <td>23.7</td>\n      <td>3.928839</td>\n    </tr>\n    <tr>\n      <th>204</th>\n      <td>2019.0</td>\n      <td>Shed Long</td>\n      <td>Mariners</td>\n      <td>23.0</td>\n      <td>42.0</td>\n      <td>152.0</td>\n      <td>168.0</td>\n      <td>40.0</td>\n      <td>22.0</td>\n      <td>12.0</td>\n      <td>...</td>\n      <td>NaN</td>\n      <td>0.298</td>\n      <td>0.603</td>\n      <td>0.449</td>\n      <td>0.588</td>\n      <td>0.845</td>\n      <td>0.759</td>\n      <td>0.495</td>\n      <td>23.3</td>\n      <td>3.940476</td>\n    </tr>\n    <tr>\n      <th>467</th>\n      <td>2019.0</td>\n      <td>Mallex Smith</td>\n      <td>Mariners</td>\n      <td>26.0</td>\n      <td>134.0</td>\n      <td>510.0</td>\n      <td>566.0</td>\n      <td>116.0</td>\n      <td>82.0</td>\n      <td>19.0</td>\n      <td>...</td>\n      <td>NaN</td>\n      <td>0.284</td>\n      <td>0.658</td>\n      <td>0.475</td>\n      <td>0.548</td>\n      <td>0.816</td>\n      <td>0.738</td>\n      <td>0.510</td>\n      <td>24.6</td>\n      <td>3.961131</td>\n    </tr>\n    <tr>\n      <th>932</th>\n      <td>2019.0</td>\n      <td>Erik Swanson</td>\n      <td>Mariners</td>\n      <td>25.0</td>\n      <td>27.0</td>\n      <td>2.0</td>\n      <td>2.0</td>\n      <td>0.0</td>\n      <td>0.0</td>\n      <td>0.0</td>\n      <td>...</td>\n      <td>NaN</td>\n      <td>0.500</td>\n      <td>0.000</td>\n      <td>0.250</td>\n      <td>0.500</td>\n      <td>NaN</td>\n      <td>0.500</td>\n      <td>0.500</td>\n      <td>23.0</td>\n      <td>4.000000</td>\n    </tr>\n    <tr>\n      <th>686</th>\n      <td>2019.0</td>\n      <td>Jake Fraley</td>\n      <td>Mariners</td>\n      <td>24.0</td>\n      <td>12.0</td>\n      <td>40.0</td>\n      <td>41.0</td>\n      <td>6.0</td>\n      <td>4.0</td>\n      <td>2.0</td>\n      <td>...</td>\n      <td>NaN</td>\n      <td>0.234</td>\n      <td>0.782</td>\n      <td>0.524</td>\n      <td>0.333</td>\n      <td>0.853</td>\n      <td>0.744</td>\n      <td>0.531</td>\n      <td>27.6</td>\n      <td>4.000000</td>\n    </tr>\n    <tr>\n      <th>290</th>\n      <td>2019.0</td>\n      <td>Tim Lopes</td>\n      <td>Mariners</td>\n      <td>25.0</td>\n      <td>41.0</td>\n      <td>111.0</td>\n      <td>128.0</td>\n      <td>30.0</td>\n      <td>22.0</td>\n      <td>7.0</td>\n      <td>...</td>\n      <td>-12.38</td>\n      <td>0.295</td>\n      <td>0.628</td>\n      <td>0.464</td>\n      <td>0.613</td>\n      <td>0.823</td>\n      <td>0.757</td>\n      <td>0.507</td>\n      <td>24.0</td>\n      <td>4.023438</td>\n    </tr>\n    <tr>\n      <th>125</th>\n      <td>2019.0</td>\n      <td>Kyle Lewis</td>\n      <td>Mariners</td>\n      <td>23.0</td>\n      <td>18.0</td>\n      <td>71.0</td>\n      <td>75.0</td>\n      <td>19.0</td>\n      <td>8.0</td>\n      <td>5.0</td>\n      <td>...</td>\n      <td>NaN</td>\n      <td>0.317</td>\n      <td>0.660</td>\n      <td>0.479</td>\n      <td>0.451</td>\n      <td>0.737</td>\n      <td>0.637</td>\n      <td>0.472</td>\n      <td>23.3</td>\n      <td>4.066667</td>\n    </tr>\n    <tr>\n      <th>165</th>\n      <td>2019.0</td>\n      <td>Omar Narvaez</td>\n      <td>Mariners</td>\n      <td>27.0</td>\n      <td>132.0</td>\n      <td>428.0</td>\n      <td>482.0</td>\n      <td>119.0</td>\n      <td>85.0</td>\n      <td>12.0</td>\n      <td>...</td>\n      <td>NaN</td>\n      <td>0.307</td>\n      <td>0.665</td>\n      <td>0.481</td>\n      <td>0.720</td>\n      <td>0.836</td>\n      <td>0.798</td>\n      <td>0.485</td>\n      <td>26.2</td>\n      <td>4.105809</td>\n    </tr>\n    <tr>\n      <th>216</th>\n      <td>2019.0</td>\n      <td>Kyle Seager</td>\n      <td>Mariners</td>\n      <td>31.0</td>\n      <td>106.0</td>\n      <td>393.0</td>\n      <td>443.0</td>\n      <td>94.0</td>\n      <td>51.0</td>\n      <td>19.0</td>\n      <td>...</td>\n      <td>32.60</td>\n      <td>0.275</td>\n      <td>0.642</td>\n      <td>0.452</td>\n      <td>0.652</td>\n      <td>0.880</td>\n      <td>0.808</td>\n      <td>0.482</td>\n      <td>26.6</td>\n      <td>4.110609</td>\n    </tr>\n    <tr>\n      <th>381</th>\n      <td>2019.0</td>\n      <td>Dylan Moore</td>\n      <td>Mariners</td>\n      <td>26.0</td>\n      <td>113.0</td>\n      <td>247.0</td>\n      <td>282.0</td>\n      <td>51.0</td>\n      <td>26.0</td>\n      <td>14.0</td>\n      <td>...</td>\n      <td>NaN</td>\n      <td>0.247</td>\n      <td>0.643</td>\n      <td>0.443</td>\n      <td>0.583</td>\n      <td>0.813</td>\n      <td>0.748</td>\n      <td>0.495</td>\n      <td>23.4</td>\n      <td>4.120567</td>\n    </tr>\n    <tr>\n      <th>309</th>\n      <td>2019.0</td>\n      <td>Tim Beckham</td>\n      <td>Mariners</td>\n      <td>29.0</td>\n      <td>88.0</td>\n      <td>304.0</td>\n      <td>328.0</td>\n      <td>72.0</td>\n      <td>35.0</td>\n      <td>21.0</td>\n      <td>...</td>\n      <td>NaN</td>\n      <td>0.290</td>\n      <td>0.641</td>\n      <td>0.460</td>\n      <td>0.434</td>\n      <td>0.839</td>\n      <td>0.707</td>\n      <td>0.486</td>\n      <td>26.6</td>\n      <td>4.121951</td>\n    </tr>\n    <tr>\n      <th>726</th>\n      <td>2019.0</td>\n      <td>Braden Bishop</td>\n      <td>Mariners</td>\n      <td>25.0</td>\n      <td>27.0</td>\n      <td>56.0</td>\n      <td>60.0</td>\n      <td>6.0</td>\n      <td>6.0</td>\n      <td>0.0</td>\n      <td>...</td>\n      <td>NaN</td>\n      <td>0.360</td>\n      <td>0.575</td>\n      <td>0.465</td>\n      <td>0.600</td>\n      <td>0.797</td>\n      <td>0.719</td>\n      <td>0.490</td>\n      <td>23.1</td>\n      <td>4.133333</td>\n    </tr>\n    <tr>\n      <th>245</th>\n      <td>2019.0</td>\n      <td>Domingo Santana</td>\n      <td>Mariners</td>\n      <td>26.0</td>\n      <td>121.0</td>\n      <td>451.0</td>\n      <td>507.0</td>\n      <td>114.0</td>\n      <td>72.0</td>\n      <td>20.0</td>\n      <td>...</td>\n      <td>NaN</td>\n      <td>0.271</td>\n      <td>0.686</td>\n      <td>0.467</td>\n      <td>0.495</td>\n      <td>0.785</td>\n      <td>0.697</td>\n      <td>0.473</td>\n      <td>23.5</td>\n      <td>4.195266</td>\n    </tr>\n    <tr>\n      <th>250</th>\n      <td>2019.0</td>\n      <td>Mitch Haniger</td>\n      <td>Mariners</td>\n      <td>28.0</td>\n      <td>63.0</td>\n      <td>246.0</td>\n      <td>283.0</td>\n      <td>54.0</td>\n      <td>25.0</td>\n      <td>13.0</td>\n      <td>...</td>\n      <td>NaN</td>\n      <td>0.251</td>\n      <td>0.597</td>\n      <td>0.422</td>\n      <td>0.452</td>\n      <td>0.868</td>\n      <td>0.743</td>\n      <td>0.495</td>\n      <td>24.9</td>\n      <td>4.318021</td>\n    </tr>\n    <tr>\n      <th>399</th>\n      <td>2019.0</td>\n      <td>J.P. Crawford</td>\n      <td>Mariners</td>\n      <td>24.0</td>\n      <td>93.0</td>\n      <td>345.0</td>\n      <td>396.0</td>\n      <td>78.0</td>\n      <td>46.0</td>\n      <td>21.0</td>\n      <td>...</td>\n      <td>NaN</td>\n      <td>0.234</td>\n      <td>0.615</td>\n      <td>0.427</td>\n      <td>0.697</td>\n      <td>0.855</td>\n      <td>0.813</td>\n      <td>0.507</td>\n      <td>23.5</td>\n      <td>4.333333</td>\n    </tr>\n    <tr>\n      <th>130</th>\n      <td>2019.0</td>\n      <td>Tom Murphy</td>\n      <td>Mariners</td>\n      <td>28.0</td>\n      <td>76.0</td>\n      <td>260.0</td>\n      <td>281.0</td>\n      <td>71.0</td>\n      <td>40.0</td>\n      <td>12.0</td>\n      <td>...</td>\n      <td>NaN</td>\n      <td>0.294</td>\n      <td>0.619</td>\n      <td>0.449</td>\n      <td>0.460</td>\n      <td>0.842</td>\n      <td>0.711</td>\n      <td>0.476</td>\n      <td>26.8</td>\n      <td>4.359431</td>\n    </tr>\n    <tr>\n      <th>533</th>\n      <td>2019.0</td>\n      <td>Ryan Court</td>\n      <td>Mariners</td>\n      <td>31.0</td>\n      <td>12.0</td>\n      <td>24.0</td>\n      <td>25.0</td>\n      <td>5.0</td>\n      <td>3.0</td>\n      <td>1.0</td>\n      <td>...</td>\n      <td>NaN</td>\n      <td>0.269</td>\n      <td>0.569</td>\n      <td>0.427</td>\n      <td>0.429</td>\n      <td>0.788</td>\n      <td>0.681</td>\n      <td>0.527</td>\n      <td>26.1</td>\n      <td>4.400000</td>\n    </tr>\n    <tr>\n      <th>559</th>\n      <td>2019.0</td>\n      <td>Donnie Walton</td>\n      <td>Mariners</td>\n      <td>25.0</td>\n      <td>7.0</td>\n      <td>16.0</td>\n      <td>19.0</td>\n      <td>3.0</td>\n      <td>3.0</td>\n      <td>0.0</td>\n      <td>...</td>\n      <td>NaN</td>\n      <td>0.333</td>\n      <td>0.811</td>\n      <td>0.541</td>\n      <td>0.500</td>\n      <td>0.733</td>\n      <td>0.652</td>\n      <td>0.435</td>\n      <td>25.3</td>\n      <td>4.473684</td>\n    </tr>\n    <tr>\n      <th>208</th>\n      <td>2019.0</td>\n      <td>Daniel Vogelbach</td>\n      <td>Mariners</td>\n      <td>26.0</td>\n      <td>144.0</td>\n      <td>462.0</td>\n      <td>558.0</td>\n      <td>96.0</td>\n      <td>49.0</td>\n      <td>17.0</td>\n      <td>...</td>\n      <td>NaN</td>\n      <td>0.213</td>\n      <td>0.482</td>\n      <td>0.339</td>\n      <td>0.627</td>\n      <td>0.805</td>\n      <td>0.745</td>\n      <td>0.469</td>\n      <td>22.9</td>\n      <td>4.537634</td>\n    </tr>\n    <tr>\n      <th>807</th>\n      <td>2019.0</td>\n      <td>Felix Hernandez</td>\n      <td>Mariners</td>\n      <td>33.0</td>\n      <td>15.0</td>\n      <td>3.0</td>\n      <td>3.0</td>\n      <td>0.0</td>\n      <td>0.0</td>\n      <td>0.0</td>\n      <td>...</td>\n      <td>NaN</td>\n      <td>0.667</td>\n      <td>0.625</td>\n      <td>0.643</td>\n      <td>0.250</td>\n      <td>0.800</td>\n      <td>0.556</td>\n      <td>0.571</td>\n      <td>17.4</td>\n      <td>4.666667</td>\n    </tr>\n    <tr>\n      <th>736</th>\n      <td>2019.0</td>\n      <td>Ichiro Suzuki</td>\n      <td>Mariners</td>\n      <td>45.0</td>\n      <td>2.0</td>\n      <td>5.0</td>\n      <td>6.0</td>\n      <td>0.0</td>\n      <td>0.0</td>\n      <td>0.0</td>\n      <td>...</td>\n      <td>NaN</td>\n      <td>NaN</td>\n      <td>NaN</td>\n      <td>NaN</td>\n      <td>NaN</td>\n      <td>NaN</td>\n      <td>NaN</td>\n      <td>NaN</td>\n      <td>NaN</td>\n      <td>5.000000</td>\n    </tr>\n    <tr>\n      <th>821</th>\n      <td>2019.0</td>\n      <td>Tommy Milone</td>\n      <td>Mariners</td>\n      <td>32.0</td>\n      <td>23.0</td>\n      <td>2.0</td>\n      <td>2.0</td>\n      <td>0.0</td>\n      <td>0.0</td>\n      <td>0.0</td>\n      <td>...</td>\n      <td>NaN</td>\n      <td>0.250</td>\n      <td>0.667</td>\n      <td>0.500</td>\n      <td>0.000</td>\n      <td>0.750</td>\n      <td>0.600</td>\n      <td>0.600</td>\n      <td>16.3</td>\n      <td>5.000000</td>\n    </tr>\n  </tbody>\n</table>\n<p>30 rows × 288 columns</p>\n</div>"
     },
     "metadata": {},
     "execution_count": 30
    }
   ],
   "source": [
    "mariners.tail(50)"
   ]
  },
  {
   "cell_type": "code",
   "execution_count": 29,
   "metadata": {},
   "outputs": [
    {
     "output_type": "execute_result",
     "data": {
      "text/plain": "     Season                  Name   Team   Age      G     AB     PA      H  \\\n825  2019.0        Andrew Cashner  - - -  32.0   42.0    3.0    3.0    0.0   \n859  2019.0           Matt Wisler  - - -  26.0   44.0    1.0    1.0    0.0   \n827  2019.0          Jared Hughes  - - -  33.0   72.0    2.0    2.0    0.0   \n917  2019.0         Yefry Ramirez  - - -  25.0   14.0    2.0    2.0    0.0   \n817  2019.0           Javy Guerra  - - -  33.0   51.0    3.0    5.0    0.0   \n152  2019.0          Homer Bailey  - - -  33.0   31.0    5.0    5.0    2.0   \n850  2019.0         Parker Markel  - - -  28.0   20.0    3.0    3.0    0.0   \n424  2019.0           Wilmer Font  - - -  29.0   48.0    3.0    4.0    1.0   \n858  2019.0           Burch Smith  - - -  29.0   17.0    1.0    1.0    0.0   \n788  2019.0        Marcus Stroman  - - -  28.0   32.0   23.0   25.0    1.0   \n288  2019.0           Logan Allen  - - -  22.0    9.0    4.0    5.0    1.0   \n841  2019.0         Aaron Sanchez  - - -  26.0   27.0    2.0    2.0    0.0   \n611  2019.0            Brad Brach  - - -  33.0   59.0    4.0    5.0    1.0   \n918  2019.0         Jimmy Cordero  - - -  27.0   31.0    0.0    1.0    0.0   \n839  2019.0         Drew Pomeranz  - - -  30.0   46.0   19.0   20.0    0.0   \n110  2019.0          Zack Greinke  - - -  35.0   36.0   50.0   56.0   14.0   \n703  2019.0       Mike Montgomery  - - -  29.0   33.0    6.0    6.0    1.0   \n390  2019.0          Kevin Pillar  - - -  30.0  161.0  611.0  645.0  158.0   \n837  2019.0          Casey Sadler  - - -  28.0   33.0    3.0    3.0    0.0   \n820  2019.0          Nick Vincent  - - -  32.0   32.0    3.0    3.0    0.0   \n773  2019.0            Mike Leake  - - -  31.0   32.0   21.0   24.0    1.0   \n667  2019.0          Tanner Roark  - - -  32.0   31.0   33.0   34.0    5.0   \n762  2019.0            Zac Gallen  - - -  23.0   15.0   19.0   24.0    2.0   \n617  2019.0            Phil Maton  - - -  26.0   30.0    4.0    4.0    1.0   \n928  2019.0            Brad Wieck  - - -  27.0   44.0    2.0    2.0    0.0   \n793  2019.0         Kevin Gausman  - - -  28.0   31.0   27.0   27.0    1.0   \n681  2019.0            Erik Kratz  - - -  39.0   21.0   49.0   53.0    5.0   \n438  2019.0         Gerardo Parra  - - -  32.0  119.0  274.0  301.0   64.0   \n443  2019.0             Tony Kemp  - - -  27.0  110.0  245.0  279.0   52.0   \n571  2019.0       Scooter Gennett  - - -  29.0   42.0  133.0  139.0   30.0   \n748  2019.0         Derek Holland  - - -  32.0   53.0   14.0   16.0    1.0   \n626  2019.0           Zack Godley  - - -  29.0   33.0   19.0   23.0    3.0   \n38   2019.0         Brock Stewart  - - -  27.0   13.0    3.0    3.0    1.0   \n123  2019.0  Nicholas Castellanos  - - -  27.0  151.0  615.0  664.0  178.0   \n222  2019.0           Yasiel Puig  - - -  28.0  149.0  555.0  611.0  148.0   \n287  2019.0             Jay Bruce  - - -  32.0   98.0  310.0  333.0   67.0   \n321  2019.0    Adeiny Hechavarria  - - -  30.0   84.0  203.0  221.0   49.0   \n792  2019.0            Drew Smyly  - - -  30.0   25.0   19.0   20.0    0.0   \n527  2019.0           Jose Pirela  - - -  29.0   14.0   22.0   24.0    4.0   \n319  2019.0        Mauricio Dubon  - - -  24.0   30.0  106.0  111.0   29.0   \n178  2019.0        Alex Dickerson  - - -  29.0   68.0  174.0  190.0   48.0   \n664  2019.0            Max Stassi  - - -  28.0   51.0  132.0  147.0   18.0   \n747  2019.0          Jordan Lyles  - - -  28.0   28.0   45.0   48.0    4.0   \n656  2019.0         Corban Joseph  - - -  30.0   28.0   64.0   68.0   10.0   \n437  2019.0      Martin Maldonado  - - -  32.0  105.0  333.0  374.0   71.0   \n448  2019.0             Joe Panik  - - -  28.0  142.0  438.0  491.0  107.0   \n541  2019.0       Carlos Gonzalez  - - -  33.0   45.0  145.0  166.0   29.0   \n474  2019.0      John Ryan Murphy  - - -  28.0   26.0   63.0   70.0   11.0   \n313  2019.0       Travis d'Arnaud  - - -  30.0  103.0  351.0  391.0   88.0   \n187  2019.0         Franmil Reyes  - - -  23.0  150.0  494.0  548.0  123.0   \n\n       1B    2B  ...  wXX/C (pi)  O-Swing% (pi)  Z-Swing% (pi)  Swing% (pi)  \\\n825   0.0   0.0  ...         NaN          0.500          0.750        0.667   \n859   0.0   0.0  ...         NaN          0.000          1.000        0.500   \n827   0.0   0.0  ...         NaN          1.000          1.000        1.000   \n917   0.0   0.0  ...         NaN          0.500          1.000        0.750   \n817   0.0   0.0  ...         NaN          0.000          0.500        0.400   \n152   2.0   0.0  ...         NaN          0.667          0.600        0.615   \n850   0.0   0.0  ...         NaN          0.600          0.667        0.625   \n424   1.0   0.0  ...         NaN          0.600          0.500        0.546   \n858   0.0   0.0  ...         NaN            NaN          0.000        0.000   \n788   1.0   0.0  ...         NaN          0.590          0.889        0.733   \n288   1.0   0.0  ...         NaN          0.000          0.700        0.467   \n841   0.0   0.0  ...         NaN          0.500          1.000        0.833   \n611   1.0   0.0  ...         NaN          0.286          0.750        0.533   \n918   0.0   0.0  ...         NaN          0.500          0.000        0.333   \n839   0.0   0.0  ...         NaN          0.444          0.694        0.587   \n110   6.0   4.0  ...         NaN          0.395          0.729        0.576   \n703   1.0   0.0  ...         NaN          0.500          0.692        0.632   \n390  97.0  37.0  ...         NaN          0.457          0.739        0.587   \n837   0.0   0.0  ...         NaN          0.250          0.333        0.300   \n820   0.0   0.0  ...         NaN          0.400          0.200        0.300   \n773   1.0   0.0  ...         NaN          0.405          0.500        0.457   \n667   3.0   1.0  ...         NaN          0.537          0.567        0.553   \n762   2.0   0.0  ...         NaN          0.286          0.519        0.439   \n617   1.0   0.0  ...         NaN          0.250          0.700        0.571   \n928   0.0   0.0  ...         NaN          0.500          0.600        0.571   \n793   1.0   0.0  ...         NaN          0.313          0.365        0.347   \n681   2.0   2.0  ...         NaN          0.385          0.663        0.521   \n438  40.0  14.0  ...         NaN          0.354          0.675        0.495   \n443  31.0   9.0  ...         NaN          0.237          0.664        0.466   \n571  21.0   7.0  ...         NaN          0.456          0.716        0.582   \n748   1.0   0.0  ...         NaN          0.414          0.393        0.404   \n626   3.0   0.0  ...         NaN          0.439          0.419        0.429   \n38    0.0   1.0  ...         NaN          0.200          0.833        0.546   \n123  90.0  58.0  ...         NaN          0.401          0.740        0.548   \n222  92.0  30.0  ...         NaN          0.336          0.749        0.523   \n287  24.0  17.0  ...         NaN          0.389          0.801        0.563   \n321  27.0  12.0  ...         NaN          0.364          0.718        0.535   \n792   0.0   0.0  ...         NaN          0.355          0.488        0.432   \n527   2.0   1.0  ...         NaN          0.400          0.590        0.483   \n319  20.0   5.0  ...         NaN          0.442          0.720        0.566   \n178  26.0  13.0  ...         NaN          0.348          0.678        0.498   \n664  16.0   1.0  ...         NaN          0.258          0.613        0.450   \n747   4.0   0.0  ...         NaN          0.083          0.336        0.249   \n656   6.0   3.0  ...         NaN          0.267          0.630        0.461   \n437  40.0  19.0  ...         NaN          0.288          0.613        0.451   \n448  79.0  21.0  ...         NaN          0.240          0.590        0.419   \n541  23.0   3.0  ...         NaN          0.372          0.671        0.506   \n474   4.0   3.0  ...         NaN          0.351          0.630        0.494   \n313  56.0  16.0  ...         NaN          0.291          0.711        0.503   \n187  67.0  19.0  ...         NaN          0.327          0.756        0.516   \n\n     O-Contact% (pi)  Z-Contact% (pi)  Contact% (pi)  Zone% (pi)  Pace (pi)  \\\n825            0.000            1.000          0.750       0.667       20.3   \n859              NaN            1.000          1.000       0.500       14.0   \n827            0.000            0.667          0.500       0.750       18.0   \n917            1.000            0.500          0.667       0.500       16.5   \n817              NaN            1.000          1.000       0.800       25.4   \n152            0.500            1.000          0.875       0.769       28.6   \n850            0.333            0.500          0.400       0.375       16.8   \n424            0.333            1.000          0.667       0.546       25.7   \n858              NaN              NaN            NaN       1.000       14.0   \n788            0.217            0.688          0.491       0.480       21.7   \n288              NaN            1.000          1.000       0.667       25.4   \n841            0.000            0.500          0.400       0.667       14.8   \n611            0.000            1.000          0.750       0.533       22.9   \n918            1.000              NaN          1.000       0.333       28.5   \n839            0.167            0.480          0.378       0.571       19.4   \n110            0.469            0.843          0.726       0.542       24.6   \n703            0.667            0.667          0.667       0.684       19.8   \n390            0.695            0.935          0.834       0.460       25.7   \n837            1.000            1.000          1.000       0.600       12.1   \n820            0.000            1.000          0.333       0.500       16.6   \n773            0.467            0.682          0.595       0.543       22.3   \n667            0.483            0.824          0.667       0.526       22.3   \n762            0.250            0.893          0.750       0.659       20.7   \n617            1.000            0.429          0.500       0.714       24.0   \n928            1.000            0.000          0.250       0.714       18.8   \n793            0.500            0.652          0.606       0.663       20.2   \n681            0.622            0.820          0.745       0.489       25.9   \n438            0.642            0.883          0.786       0.440       27.2   \n443            0.694            0.880          0.836       0.536       24.9   \n571            0.686            0.822          0.767       0.484       27.3   \n748            0.167            0.636          0.391       0.491       19.5   \n626            0.333            0.667          0.500       0.512       18.5   \n38             0.000            0.800          0.667       0.546       13.8   \n123            0.557            0.873          0.743       0.436       27.6   \n222            0.569            0.833          0.740       0.452       25.6   \n287            0.492            0.849          0.707       0.423       25.0   \n321            0.568            0.872          0.765       0.483       23.6   \n792            0.546            0.762          0.688       0.581       22.0   \n527            0.500            0.870          0.698       0.438       25.1   \n319            0.745            0.873          0.818       0.446       25.4   \n178            0.640            0.873          0.784       0.455       24.0   \n664            0.274            0.822          0.678       0.542       24.0   \n747            0.800            0.632          0.651       0.653       18.6   \n656            0.688            0.920          0.857       0.535       24.4   \n437            0.557            0.881          0.778       0.501       26.9   \n448            0.775            0.950          0.901       0.511       23.4   \n541            0.527            0.768          0.670       0.446       25.0   \n474            0.457            0.736          0.639       0.513       26.5   \n313            0.650            0.789          0.749       0.505       25.8   \n187            0.430            0.773          0.652       0.441       25.1   \n\n         P/PA  \n825  2.000000  \n859  2.000000  \n827  2.000000  \n917  2.000000  \n817  2.000000  \n152  2.600000  \n850  2.666667  \n424  2.750000  \n858  3.000000  \n788  3.000000  \n288  3.000000  \n841  3.000000  \n611  3.000000  \n918  3.000000  \n839  3.150000  \n110  3.160714  \n703  3.166667  \n390  3.297674  \n837  3.333333  \n820  3.333333  \n773  3.375000  \n667  3.411765  \n762  3.416667  \n617  3.500000  \n928  3.500000  \n793  3.518519  \n681  3.547170  \n438  3.574751  \n443  3.602151  \n571  3.611511  \n748  3.625000  \n626  3.652174  \n38   3.666667  \n123  3.668675  \n222  3.677578  \n287  3.687688  \n321  3.696833  \n792  3.700000  \n527  3.708333  \n319  3.765766  \n178  3.778947  \n664  3.789116  \n747  3.791667  \n656  3.794118  \n437  3.815508  \n448  3.822811  \n541  3.825301  \n474  3.842857  \n313  3.851662  \n187  3.866788  \n\n[50 rows x 288 columns]",
      "text/html": "<div>\n<style scoped>\n    .dataframe tbody tr th:only-of-type {\n        vertical-align: middle;\n    }\n\n    .dataframe tbody tr th {\n        vertical-align: top;\n    }\n\n    .dataframe thead th {\n        text-align: right;\n    }\n</style>\n<table border=\"1\" class=\"dataframe\">\n  <thead>\n    <tr style=\"text-align: right;\">\n      <th></th>\n      <th>Season</th>\n      <th>Name</th>\n      <th>Team</th>\n      <th>Age</th>\n      <th>G</th>\n      <th>AB</th>\n      <th>PA</th>\n      <th>H</th>\n      <th>1B</th>\n      <th>2B</th>\n      <th>...</th>\n      <th>wXX/C (pi)</th>\n      <th>O-Swing% (pi)</th>\n      <th>Z-Swing% (pi)</th>\n      <th>Swing% (pi)</th>\n      <th>O-Contact% (pi)</th>\n      <th>Z-Contact% (pi)</th>\n      <th>Contact% (pi)</th>\n      <th>Zone% (pi)</th>\n      <th>Pace (pi)</th>\n      <th>P/PA</th>\n    </tr>\n  </thead>\n  <tbody>\n    <tr>\n      <th>825</th>\n      <td>2019.0</td>\n      <td>Andrew Cashner</td>\n      <td>- - -</td>\n      <td>32.0</td>\n      <td>42.0</td>\n      <td>3.0</td>\n      <td>3.0</td>\n      <td>0.0</td>\n      <td>0.0</td>\n      <td>0.0</td>\n      <td>...</td>\n      <td>NaN</td>\n      <td>0.500</td>\n      <td>0.750</td>\n      <td>0.667</td>\n      <td>0.000</td>\n      <td>1.000</td>\n      <td>0.750</td>\n      <td>0.667</td>\n      <td>20.3</td>\n      <td>2.000000</td>\n    </tr>\n    <tr>\n      <th>859</th>\n      <td>2019.0</td>\n      <td>Matt Wisler</td>\n      <td>- - -</td>\n      <td>26.0</td>\n      <td>44.0</td>\n      <td>1.0</td>\n      <td>1.0</td>\n      <td>0.0</td>\n      <td>0.0</td>\n      <td>0.0</td>\n      <td>...</td>\n      <td>NaN</td>\n      <td>0.000</td>\n      <td>1.000</td>\n      <td>0.500</td>\n      <td>NaN</td>\n      <td>1.000</td>\n      <td>1.000</td>\n      <td>0.500</td>\n      <td>14.0</td>\n      <td>2.000000</td>\n    </tr>\n    <tr>\n      <th>827</th>\n      <td>2019.0</td>\n      <td>Jared Hughes</td>\n      <td>- - -</td>\n      <td>33.0</td>\n      <td>72.0</td>\n      <td>2.0</td>\n      <td>2.0</td>\n      <td>0.0</td>\n      <td>0.0</td>\n      <td>0.0</td>\n      <td>...</td>\n      <td>NaN</td>\n      <td>1.000</td>\n      <td>1.000</td>\n      <td>1.000</td>\n      <td>0.000</td>\n      <td>0.667</td>\n      <td>0.500</td>\n      <td>0.750</td>\n      <td>18.0</td>\n      <td>2.000000</td>\n    </tr>\n    <tr>\n      <th>917</th>\n      <td>2019.0</td>\n      <td>Yefry Ramirez</td>\n      <td>- - -</td>\n      <td>25.0</td>\n      <td>14.0</td>\n      <td>2.0</td>\n      <td>2.0</td>\n      <td>0.0</td>\n      <td>0.0</td>\n      <td>0.0</td>\n      <td>...</td>\n      <td>NaN</td>\n      <td>0.500</td>\n      <td>1.000</td>\n      <td>0.750</td>\n      <td>1.000</td>\n      <td>0.500</td>\n      <td>0.667</td>\n      <td>0.500</td>\n      <td>16.5</td>\n      <td>2.000000</td>\n    </tr>\n    <tr>\n      <th>817</th>\n      <td>2019.0</td>\n      <td>Javy Guerra</td>\n      <td>- - -</td>\n      <td>33.0</td>\n      <td>51.0</td>\n      <td>3.0</td>\n      <td>5.0</td>\n      <td>0.0</td>\n      <td>0.0</td>\n      <td>0.0</td>\n      <td>...</td>\n      <td>NaN</td>\n      <td>0.000</td>\n      <td>0.500</td>\n      <td>0.400</td>\n      <td>NaN</td>\n      <td>1.000</td>\n      <td>1.000</td>\n      <td>0.800</td>\n      <td>25.4</td>\n      <td>2.000000</td>\n    </tr>\n    <tr>\n      <th>152</th>\n      <td>2019.0</td>\n      <td>Homer Bailey</td>\n      <td>- - -</td>\n      <td>33.0</td>\n      <td>31.0</td>\n      <td>5.0</td>\n      <td>5.0</td>\n      <td>2.0</td>\n      <td>2.0</td>\n      <td>0.0</td>\n      <td>...</td>\n      <td>NaN</td>\n      <td>0.667</td>\n      <td>0.600</td>\n      <td>0.615</td>\n      <td>0.500</td>\n      <td>1.000</td>\n      <td>0.875</td>\n      <td>0.769</td>\n      <td>28.6</td>\n      <td>2.600000</td>\n    </tr>\n    <tr>\n      <th>850</th>\n      <td>2019.0</td>\n      <td>Parker Markel</td>\n      <td>- - -</td>\n      <td>28.0</td>\n      <td>20.0</td>\n      <td>3.0</td>\n      <td>3.0</td>\n      <td>0.0</td>\n      <td>0.0</td>\n      <td>0.0</td>\n      <td>...</td>\n      <td>NaN</td>\n      <td>0.600</td>\n      <td>0.667</td>\n      <td>0.625</td>\n      <td>0.333</td>\n      <td>0.500</td>\n      <td>0.400</td>\n      <td>0.375</td>\n      <td>16.8</td>\n      <td>2.666667</td>\n    </tr>\n    <tr>\n      <th>424</th>\n      <td>2019.0</td>\n      <td>Wilmer Font</td>\n      <td>- - -</td>\n      <td>29.0</td>\n      <td>48.0</td>\n      <td>3.0</td>\n      <td>4.0</td>\n      <td>1.0</td>\n      <td>1.0</td>\n      <td>0.0</td>\n      <td>...</td>\n      <td>NaN</td>\n      <td>0.600</td>\n      <td>0.500</td>\n      <td>0.546</td>\n      <td>0.333</td>\n      <td>1.000</td>\n      <td>0.667</td>\n      <td>0.546</td>\n      <td>25.7</td>\n      <td>2.750000</td>\n    </tr>\n    <tr>\n      <th>858</th>\n      <td>2019.0</td>\n      <td>Burch Smith</td>\n      <td>- - -</td>\n      <td>29.0</td>\n      <td>17.0</td>\n      <td>1.0</td>\n      <td>1.0</td>\n      <td>0.0</td>\n      <td>0.0</td>\n      <td>0.0</td>\n      <td>...</td>\n      <td>NaN</td>\n      <td>NaN</td>\n      <td>0.000</td>\n      <td>0.000</td>\n      <td>NaN</td>\n      <td>NaN</td>\n      <td>NaN</td>\n      <td>1.000</td>\n      <td>14.0</td>\n      <td>3.000000</td>\n    </tr>\n    <tr>\n      <th>788</th>\n      <td>2019.0</td>\n      <td>Marcus Stroman</td>\n      <td>- - -</td>\n      <td>28.0</td>\n      <td>32.0</td>\n      <td>23.0</td>\n      <td>25.0</td>\n      <td>1.0</td>\n      <td>1.0</td>\n      <td>0.0</td>\n      <td>...</td>\n      <td>NaN</td>\n      <td>0.590</td>\n      <td>0.889</td>\n      <td>0.733</td>\n      <td>0.217</td>\n      <td>0.688</td>\n      <td>0.491</td>\n      <td>0.480</td>\n      <td>21.7</td>\n      <td>3.000000</td>\n    </tr>\n    <tr>\n      <th>288</th>\n      <td>2019.0</td>\n      <td>Logan Allen</td>\n      <td>- - -</td>\n      <td>22.0</td>\n      <td>9.0</td>\n      <td>4.0</td>\n      <td>5.0</td>\n      <td>1.0</td>\n      <td>1.0</td>\n      <td>0.0</td>\n      <td>...</td>\n      <td>NaN</td>\n      <td>0.000</td>\n      <td>0.700</td>\n      <td>0.467</td>\n      <td>NaN</td>\n      <td>1.000</td>\n      <td>1.000</td>\n      <td>0.667</td>\n      <td>25.4</td>\n      <td>3.000000</td>\n    </tr>\n    <tr>\n      <th>841</th>\n      <td>2019.0</td>\n      <td>Aaron Sanchez</td>\n      <td>- - -</td>\n      <td>26.0</td>\n      <td>27.0</td>\n      <td>2.0</td>\n      <td>2.0</td>\n      <td>0.0</td>\n      <td>0.0</td>\n      <td>0.0</td>\n      <td>...</td>\n      <td>NaN</td>\n      <td>0.500</td>\n      <td>1.000</td>\n      <td>0.833</td>\n      <td>0.000</td>\n      <td>0.500</td>\n      <td>0.400</td>\n      <td>0.667</td>\n      <td>14.8</td>\n      <td>3.000000</td>\n    </tr>\n    <tr>\n      <th>611</th>\n      <td>2019.0</td>\n      <td>Brad Brach</td>\n      <td>- - -</td>\n      <td>33.0</td>\n      <td>59.0</td>\n      <td>4.0</td>\n      <td>5.0</td>\n      <td>1.0</td>\n      <td>1.0</td>\n      <td>0.0</td>\n      <td>...</td>\n      <td>NaN</td>\n      <td>0.286</td>\n      <td>0.750</td>\n      <td>0.533</td>\n      <td>0.000</td>\n      <td>1.000</td>\n      <td>0.750</td>\n      <td>0.533</td>\n      <td>22.9</td>\n      <td>3.000000</td>\n    </tr>\n    <tr>\n      <th>918</th>\n      <td>2019.0</td>\n      <td>Jimmy Cordero</td>\n      <td>- - -</td>\n      <td>27.0</td>\n      <td>31.0</td>\n      <td>0.0</td>\n      <td>1.0</td>\n      <td>0.0</td>\n      <td>0.0</td>\n      <td>0.0</td>\n      <td>...</td>\n      <td>NaN</td>\n      <td>0.500</td>\n      <td>0.000</td>\n      <td>0.333</td>\n      <td>1.000</td>\n      <td>NaN</td>\n      <td>1.000</td>\n      <td>0.333</td>\n      <td>28.5</td>\n      <td>3.000000</td>\n    </tr>\n    <tr>\n      <th>839</th>\n      <td>2019.0</td>\n      <td>Drew Pomeranz</td>\n      <td>- - -</td>\n      <td>30.0</td>\n      <td>46.0</td>\n      <td>19.0</td>\n      <td>20.0</td>\n      <td>0.0</td>\n      <td>0.0</td>\n      <td>0.0</td>\n      <td>...</td>\n      <td>NaN</td>\n      <td>0.444</td>\n      <td>0.694</td>\n      <td>0.587</td>\n      <td>0.167</td>\n      <td>0.480</td>\n      <td>0.378</td>\n      <td>0.571</td>\n      <td>19.4</td>\n      <td>3.150000</td>\n    </tr>\n    <tr>\n      <th>110</th>\n      <td>2019.0</td>\n      <td>Zack Greinke</td>\n      <td>- - -</td>\n      <td>35.0</td>\n      <td>36.0</td>\n      <td>50.0</td>\n      <td>56.0</td>\n      <td>14.0</td>\n      <td>6.0</td>\n      <td>4.0</td>\n      <td>...</td>\n      <td>NaN</td>\n      <td>0.395</td>\n      <td>0.729</td>\n      <td>0.576</td>\n      <td>0.469</td>\n      <td>0.843</td>\n      <td>0.726</td>\n      <td>0.542</td>\n      <td>24.6</td>\n      <td>3.160714</td>\n    </tr>\n    <tr>\n      <th>703</th>\n      <td>2019.0</td>\n      <td>Mike Montgomery</td>\n      <td>- - -</td>\n      <td>29.0</td>\n      <td>33.0</td>\n      <td>6.0</td>\n      <td>6.0</td>\n      <td>1.0</td>\n      <td>1.0</td>\n      <td>0.0</td>\n      <td>...</td>\n      <td>NaN</td>\n      <td>0.500</td>\n      <td>0.692</td>\n      <td>0.632</td>\n      <td>0.667</td>\n      <td>0.667</td>\n      <td>0.667</td>\n      <td>0.684</td>\n      <td>19.8</td>\n      <td>3.166667</td>\n    </tr>\n    <tr>\n      <th>390</th>\n      <td>2019.0</td>\n      <td>Kevin Pillar</td>\n      <td>- - -</td>\n      <td>30.0</td>\n      <td>161.0</td>\n      <td>611.0</td>\n      <td>645.0</td>\n      <td>158.0</td>\n      <td>97.0</td>\n      <td>37.0</td>\n      <td>...</td>\n      <td>NaN</td>\n      <td>0.457</td>\n      <td>0.739</td>\n      <td>0.587</td>\n      <td>0.695</td>\n      <td>0.935</td>\n      <td>0.834</td>\n      <td>0.460</td>\n      <td>25.7</td>\n      <td>3.297674</td>\n    </tr>\n    <tr>\n      <th>837</th>\n      <td>2019.0</td>\n      <td>Casey Sadler</td>\n      <td>- - -</td>\n      <td>28.0</td>\n      <td>33.0</td>\n      <td>3.0</td>\n      <td>3.0</td>\n      <td>0.0</td>\n      <td>0.0</td>\n      <td>0.0</td>\n      <td>...</td>\n      <td>NaN</td>\n      <td>0.250</td>\n      <td>0.333</td>\n      <td>0.300</td>\n      <td>1.000</td>\n      <td>1.000</td>\n      <td>1.000</td>\n      <td>0.600</td>\n      <td>12.1</td>\n      <td>3.333333</td>\n    </tr>\n    <tr>\n      <th>820</th>\n      <td>2019.0</td>\n      <td>Nick Vincent</td>\n      <td>- - -</td>\n      <td>32.0</td>\n      <td>32.0</td>\n      <td>3.0</td>\n      <td>3.0</td>\n      <td>0.0</td>\n      <td>0.0</td>\n      <td>0.0</td>\n      <td>...</td>\n      <td>NaN</td>\n      <td>0.400</td>\n      <td>0.200</td>\n      <td>0.300</td>\n      <td>0.000</td>\n      <td>1.000</td>\n      <td>0.333</td>\n      <td>0.500</td>\n      <td>16.6</td>\n      <td>3.333333</td>\n    </tr>\n    <tr>\n      <th>773</th>\n      <td>2019.0</td>\n      <td>Mike Leake</td>\n      <td>- - -</td>\n      <td>31.0</td>\n      <td>32.0</td>\n      <td>21.0</td>\n      <td>24.0</td>\n      <td>1.0</td>\n      <td>1.0</td>\n      <td>0.0</td>\n      <td>...</td>\n      <td>NaN</td>\n      <td>0.405</td>\n      <td>0.500</td>\n      <td>0.457</td>\n      <td>0.467</td>\n      <td>0.682</td>\n      <td>0.595</td>\n      <td>0.543</td>\n      <td>22.3</td>\n      <td>3.375000</td>\n    </tr>\n    <tr>\n      <th>667</th>\n      <td>2019.0</td>\n      <td>Tanner Roark</td>\n      <td>- - -</td>\n      <td>32.0</td>\n      <td>31.0</td>\n      <td>33.0</td>\n      <td>34.0</td>\n      <td>5.0</td>\n      <td>3.0</td>\n      <td>1.0</td>\n      <td>...</td>\n      <td>NaN</td>\n      <td>0.537</td>\n      <td>0.567</td>\n      <td>0.553</td>\n      <td>0.483</td>\n      <td>0.824</td>\n      <td>0.667</td>\n      <td>0.526</td>\n      <td>22.3</td>\n      <td>3.411765</td>\n    </tr>\n    <tr>\n      <th>762</th>\n      <td>2019.0</td>\n      <td>Zac Gallen</td>\n      <td>- - -</td>\n      <td>23.0</td>\n      <td>15.0</td>\n      <td>19.0</td>\n      <td>24.0</td>\n      <td>2.0</td>\n      <td>2.0</td>\n      <td>0.0</td>\n      <td>...</td>\n      <td>NaN</td>\n      <td>0.286</td>\n      <td>0.519</td>\n      <td>0.439</td>\n      <td>0.250</td>\n      <td>0.893</td>\n      <td>0.750</td>\n      <td>0.659</td>\n      <td>20.7</td>\n      <td>3.416667</td>\n    </tr>\n    <tr>\n      <th>617</th>\n      <td>2019.0</td>\n      <td>Phil Maton</td>\n      <td>- - -</td>\n      <td>26.0</td>\n      <td>30.0</td>\n      <td>4.0</td>\n      <td>4.0</td>\n      <td>1.0</td>\n      <td>1.0</td>\n      <td>0.0</td>\n      <td>...</td>\n      <td>NaN</td>\n      <td>0.250</td>\n      <td>0.700</td>\n      <td>0.571</td>\n      <td>1.000</td>\n      <td>0.429</td>\n      <td>0.500</td>\n      <td>0.714</td>\n      <td>24.0</td>\n      <td>3.500000</td>\n    </tr>\n    <tr>\n      <th>928</th>\n      <td>2019.0</td>\n      <td>Brad Wieck</td>\n      <td>- - -</td>\n      <td>27.0</td>\n      <td>44.0</td>\n      <td>2.0</td>\n      <td>2.0</td>\n      <td>0.0</td>\n      <td>0.0</td>\n      <td>0.0</td>\n      <td>...</td>\n      <td>NaN</td>\n      <td>0.500</td>\n      <td>0.600</td>\n      <td>0.571</td>\n      <td>1.000</td>\n      <td>0.000</td>\n      <td>0.250</td>\n      <td>0.714</td>\n      <td>18.8</td>\n      <td>3.500000</td>\n    </tr>\n    <tr>\n      <th>793</th>\n      <td>2019.0</td>\n      <td>Kevin Gausman</td>\n      <td>- - -</td>\n      <td>28.0</td>\n      <td>31.0</td>\n      <td>27.0</td>\n      <td>27.0</td>\n      <td>1.0</td>\n      <td>1.0</td>\n      <td>0.0</td>\n      <td>...</td>\n      <td>NaN</td>\n      <td>0.313</td>\n      <td>0.365</td>\n      <td>0.347</td>\n      <td>0.500</td>\n      <td>0.652</td>\n      <td>0.606</td>\n      <td>0.663</td>\n      <td>20.2</td>\n      <td>3.518519</td>\n    </tr>\n    <tr>\n      <th>681</th>\n      <td>2019.0</td>\n      <td>Erik Kratz</td>\n      <td>- - -</td>\n      <td>39.0</td>\n      <td>21.0</td>\n      <td>49.0</td>\n      <td>53.0</td>\n      <td>5.0</td>\n      <td>2.0</td>\n      <td>2.0</td>\n      <td>...</td>\n      <td>NaN</td>\n      <td>0.385</td>\n      <td>0.663</td>\n      <td>0.521</td>\n      <td>0.622</td>\n      <td>0.820</td>\n      <td>0.745</td>\n      <td>0.489</td>\n      <td>25.9</td>\n      <td>3.547170</td>\n    </tr>\n    <tr>\n      <th>438</th>\n      <td>2019.0</td>\n      <td>Gerardo Parra</td>\n      <td>- - -</td>\n      <td>32.0</td>\n      <td>119.0</td>\n      <td>274.0</td>\n      <td>301.0</td>\n      <td>64.0</td>\n      <td>40.0</td>\n      <td>14.0</td>\n      <td>...</td>\n      <td>NaN</td>\n      <td>0.354</td>\n      <td>0.675</td>\n      <td>0.495</td>\n      <td>0.642</td>\n      <td>0.883</td>\n      <td>0.786</td>\n      <td>0.440</td>\n      <td>27.2</td>\n      <td>3.574751</td>\n    </tr>\n    <tr>\n      <th>443</th>\n      <td>2019.0</td>\n      <td>Tony Kemp</td>\n      <td>- - -</td>\n      <td>27.0</td>\n      <td>110.0</td>\n      <td>245.0</td>\n      <td>279.0</td>\n      <td>52.0</td>\n      <td>31.0</td>\n      <td>9.0</td>\n      <td>...</td>\n      <td>NaN</td>\n      <td>0.237</td>\n      <td>0.664</td>\n      <td>0.466</td>\n      <td>0.694</td>\n      <td>0.880</td>\n      <td>0.836</td>\n      <td>0.536</td>\n      <td>24.9</td>\n      <td>3.602151</td>\n    </tr>\n    <tr>\n      <th>571</th>\n      <td>2019.0</td>\n      <td>Scooter Gennett</td>\n      <td>- - -</td>\n      <td>29.0</td>\n      <td>42.0</td>\n      <td>133.0</td>\n      <td>139.0</td>\n      <td>30.0</td>\n      <td>21.0</td>\n      <td>7.0</td>\n      <td>...</td>\n      <td>NaN</td>\n      <td>0.456</td>\n      <td>0.716</td>\n      <td>0.582</td>\n      <td>0.686</td>\n      <td>0.822</td>\n      <td>0.767</td>\n      <td>0.484</td>\n      <td>27.3</td>\n      <td>3.611511</td>\n    </tr>\n    <tr>\n      <th>748</th>\n      <td>2019.0</td>\n      <td>Derek Holland</td>\n      <td>- - -</td>\n      <td>32.0</td>\n      <td>53.0</td>\n      <td>14.0</td>\n      <td>16.0</td>\n      <td>1.0</td>\n      <td>1.0</td>\n      <td>0.0</td>\n      <td>...</td>\n      <td>NaN</td>\n      <td>0.414</td>\n      <td>0.393</td>\n      <td>0.404</td>\n      <td>0.167</td>\n      <td>0.636</td>\n      <td>0.391</td>\n      <td>0.491</td>\n      <td>19.5</td>\n      <td>3.625000</td>\n    </tr>\n    <tr>\n      <th>626</th>\n      <td>2019.0</td>\n      <td>Zack Godley</td>\n      <td>- - -</td>\n      <td>29.0</td>\n      <td>33.0</td>\n      <td>19.0</td>\n      <td>23.0</td>\n      <td>3.0</td>\n      <td>3.0</td>\n      <td>0.0</td>\n      <td>...</td>\n      <td>NaN</td>\n      <td>0.439</td>\n      <td>0.419</td>\n      <td>0.429</td>\n      <td>0.333</td>\n      <td>0.667</td>\n      <td>0.500</td>\n      <td>0.512</td>\n      <td>18.5</td>\n      <td>3.652174</td>\n    </tr>\n    <tr>\n      <th>38</th>\n      <td>2019.0</td>\n      <td>Brock Stewart</td>\n      <td>- - -</td>\n      <td>27.0</td>\n      <td>13.0</td>\n      <td>3.0</td>\n      <td>3.0</td>\n      <td>1.0</td>\n      <td>0.0</td>\n      <td>1.0</td>\n      <td>...</td>\n      <td>NaN</td>\n      <td>0.200</td>\n      <td>0.833</td>\n      <td>0.546</td>\n      <td>0.000</td>\n      <td>0.800</td>\n      <td>0.667</td>\n      <td>0.546</td>\n      <td>13.8</td>\n      <td>3.666667</td>\n    </tr>\n    <tr>\n      <th>123</th>\n      <td>2019.0</td>\n      <td>Nicholas Castellanos</td>\n      <td>- - -</td>\n      <td>27.0</td>\n      <td>151.0</td>\n      <td>615.0</td>\n      <td>664.0</td>\n      <td>178.0</td>\n      <td>90.0</td>\n      <td>58.0</td>\n      <td>...</td>\n      <td>NaN</td>\n      <td>0.401</td>\n      <td>0.740</td>\n      <td>0.548</td>\n      <td>0.557</td>\n      <td>0.873</td>\n      <td>0.743</td>\n      <td>0.436</td>\n      <td>27.6</td>\n      <td>3.668675</td>\n    </tr>\n    <tr>\n      <th>222</th>\n      <td>2019.0</td>\n      <td>Yasiel Puig</td>\n      <td>- - -</td>\n      <td>28.0</td>\n      <td>149.0</td>\n      <td>555.0</td>\n      <td>611.0</td>\n      <td>148.0</td>\n      <td>92.0</td>\n      <td>30.0</td>\n      <td>...</td>\n      <td>NaN</td>\n      <td>0.336</td>\n      <td>0.749</td>\n      <td>0.523</td>\n      <td>0.569</td>\n      <td>0.833</td>\n      <td>0.740</td>\n      <td>0.452</td>\n      <td>25.6</td>\n      <td>3.677578</td>\n    </tr>\n    <tr>\n      <th>287</th>\n      <td>2019.0</td>\n      <td>Jay Bruce</td>\n      <td>- - -</td>\n      <td>32.0</td>\n      <td>98.0</td>\n      <td>310.0</td>\n      <td>333.0</td>\n      <td>67.0</td>\n      <td>24.0</td>\n      <td>17.0</td>\n      <td>...</td>\n      <td>NaN</td>\n      <td>0.389</td>\n      <td>0.801</td>\n      <td>0.563</td>\n      <td>0.492</td>\n      <td>0.849</td>\n      <td>0.707</td>\n      <td>0.423</td>\n      <td>25.0</td>\n      <td>3.687688</td>\n    </tr>\n    <tr>\n      <th>321</th>\n      <td>2019.0</td>\n      <td>Adeiny Hechavarria</td>\n      <td>- - -</td>\n      <td>30.0</td>\n      <td>84.0</td>\n      <td>203.0</td>\n      <td>221.0</td>\n      <td>49.0</td>\n      <td>27.0</td>\n      <td>12.0</td>\n      <td>...</td>\n      <td>NaN</td>\n      <td>0.364</td>\n      <td>0.718</td>\n      <td>0.535</td>\n      <td>0.568</td>\n      <td>0.872</td>\n      <td>0.765</td>\n      <td>0.483</td>\n      <td>23.6</td>\n      <td>3.696833</td>\n    </tr>\n    <tr>\n      <th>792</th>\n      <td>2019.0</td>\n      <td>Drew Smyly</td>\n      <td>- - -</td>\n      <td>30.0</td>\n      <td>25.0</td>\n      <td>19.0</td>\n      <td>20.0</td>\n      <td>0.0</td>\n      <td>0.0</td>\n      <td>0.0</td>\n      <td>...</td>\n      <td>NaN</td>\n      <td>0.355</td>\n      <td>0.488</td>\n      <td>0.432</td>\n      <td>0.546</td>\n      <td>0.762</td>\n      <td>0.688</td>\n      <td>0.581</td>\n      <td>22.0</td>\n      <td>3.700000</td>\n    </tr>\n    <tr>\n      <th>527</th>\n      <td>2019.0</td>\n      <td>Jose Pirela</td>\n      <td>- - -</td>\n      <td>29.0</td>\n      <td>14.0</td>\n      <td>22.0</td>\n      <td>24.0</td>\n      <td>4.0</td>\n      <td>2.0</td>\n      <td>1.0</td>\n      <td>...</td>\n      <td>NaN</td>\n      <td>0.400</td>\n      <td>0.590</td>\n      <td>0.483</td>\n      <td>0.500</td>\n      <td>0.870</td>\n      <td>0.698</td>\n      <td>0.438</td>\n      <td>25.1</td>\n      <td>3.708333</td>\n    </tr>\n    <tr>\n      <th>319</th>\n      <td>2019.0</td>\n      <td>Mauricio Dubon</td>\n      <td>- - -</td>\n      <td>24.0</td>\n      <td>30.0</td>\n      <td>106.0</td>\n      <td>111.0</td>\n      <td>29.0</td>\n      <td>20.0</td>\n      <td>5.0</td>\n      <td>...</td>\n      <td>NaN</td>\n      <td>0.442</td>\n      <td>0.720</td>\n      <td>0.566</td>\n      <td>0.745</td>\n      <td>0.873</td>\n      <td>0.818</td>\n      <td>0.446</td>\n      <td>25.4</td>\n      <td>3.765766</td>\n    </tr>\n    <tr>\n      <th>178</th>\n      <td>2019.0</td>\n      <td>Alex Dickerson</td>\n      <td>- - -</td>\n      <td>29.0</td>\n      <td>68.0</td>\n      <td>174.0</td>\n      <td>190.0</td>\n      <td>48.0</td>\n      <td>26.0</td>\n      <td>13.0</td>\n      <td>...</td>\n      <td>NaN</td>\n      <td>0.348</td>\n      <td>0.678</td>\n      <td>0.498</td>\n      <td>0.640</td>\n      <td>0.873</td>\n      <td>0.784</td>\n      <td>0.455</td>\n      <td>24.0</td>\n      <td>3.778947</td>\n    </tr>\n    <tr>\n      <th>664</th>\n      <td>2019.0</td>\n      <td>Max Stassi</td>\n      <td>- - -</td>\n      <td>28.0</td>\n      <td>51.0</td>\n      <td>132.0</td>\n      <td>147.0</td>\n      <td>18.0</td>\n      <td>16.0</td>\n      <td>1.0</td>\n      <td>...</td>\n      <td>NaN</td>\n      <td>0.258</td>\n      <td>0.613</td>\n      <td>0.450</td>\n      <td>0.274</td>\n      <td>0.822</td>\n      <td>0.678</td>\n      <td>0.542</td>\n      <td>24.0</td>\n      <td>3.789116</td>\n    </tr>\n    <tr>\n      <th>747</th>\n      <td>2019.0</td>\n      <td>Jordan Lyles</td>\n      <td>- - -</td>\n      <td>28.0</td>\n      <td>28.0</td>\n      <td>45.0</td>\n      <td>48.0</td>\n      <td>4.0</td>\n      <td>4.0</td>\n      <td>0.0</td>\n      <td>...</td>\n      <td>NaN</td>\n      <td>0.083</td>\n      <td>0.336</td>\n      <td>0.249</td>\n      <td>0.800</td>\n      <td>0.632</td>\n      <td>0.651</td>\n      <td>0.653</td>\n      <td>18.6</td>\n      <td>3.791667</td>\n    </tr>\n    <tr>\n      <th>656</th>\n      <td>2019.0</td>\n      <td>Corban Joseph</td>\n      <td>- - -</td>\n      <td>30.0</td>\n      <td>28.0</td>\n      <td>64.0</td>\n      <td>68.0</td>\n      <td>10.0</td>\n      <td>6.0</td>\n      <td>3.0</td>\n      <td>...</td>\n      <td>NaN</td>\n      <td>0.267</td>\n      <td>0.630</td>\n      <td>0.461</td>\n      <td>0.688</td>\n      <td>0.920</td>\n      <td>0.857</td>\n      <td>0.535</td>\n      <td>24.4</td>\n      <td>3.794118</td>\n    </tr>\n    <tr>\n      <th>437</th>\n      <td>2019.0</td>\n      <td>Martin Maldonado</td>\n      <td>- - -</td>\n      <td>32.0</td>\n      <td>105.0</td>\n      <td>333.0</td>\n      <td>374.0</td>\n      <td>71.0</td>\n      <td>40.0</td>\n      <td>19.0</td>\n      <td>...</td>\n      <td>NaN</td>\n      <td>0.288</td>\n      <td>0.613</td>\n      <td>0.451</td>\n      <td>0.557</td>\n      <td>0.881</td>\n      <td>0.778</td>\n      <td>0.501</td>\n      <td>26.9</td>\n      <td>3.815508</td>\n    </tr>\n    <tr>\n      <th>448</th>\n      <td>2019.0</td>\n      <td>Joe Panik</td>\n      <td>- - -</td>\n      <td>28.0</td>\n      <td>142.0</td>\n      <td>438.0</td>\n      <td>491.0</td>\n      <td>107.0</td>\n      <td>79.0</td>\n      <td>21.0</td>\n      <td>...</td>\n      <td>NaN</td>\n      <td>0.240</td>\n      <td>0.590</td>\n      <td>0.419</td>\n      <td>0.775</td>\n      <td>0.950</td>\n      <td>0.901</td>\n      <td>0.511</td>\n      <td>23.4</td>\n      <td>3.822811</td>\n    </tr>\n    <tr>\n      <th>541</th>\n      <td>2019.0</td>\n      <td>Carlos Gonzalez</td>\n      <td>- - -</td>\n      <td>33.0</td>\n      <td>45.0</td>\n      <td>145.0</td>\n      <td>166.0</td>\n      <td>29.0</td>\n      <td>23.0</td>\n      <td>3.0</td>\n      <td>...</td>\n      <td>NaN</td>\n      <td>0.372</td>\n      <td>0.671</td>\n      <td>0.506</td>\n      <td>0.527</td>\n      <td>0.768</td>\n      <td>0.670</td>\n      <td>0.446</td>\n      <td>25.0</td>\n      <td>3.825301</td>\n    </tr>\n    <tr>\n      <th>474</th>\n      <td>2019.0</td>\n      <td>John Ryan Murphy</td>\n      <td>- - -</td>\n      <td>28.0</td>\n      <td>26.0</td>\n      <td>63.0</td>\n      <td>70.0</td>\n      <td>11.0</td>\n      <td>4.0</td>\n      <td>3.0</td>\n      <td>...</td>\n      <td>NaN</td>\n      <td>0.351</td>\n      <td>0.630</td>\n      <td>0.494</td>\n      <td>0.457</td>\n      <td>0.736</td>\n      <td>0.639</td>\n      <td>0.513</td>\n      <td>26.5</td>\n      <td>3.842857</td>\n    </tr>\n    <tr>\n      <th>313</th>\n      <td>2019.0</td>\n      <td>Travis d'Arnaud</td>\n      <td>- - -</td>\n      <td>30.0</td>\n      <td>103.0</td>\n      <td>351.0</td>\n      <td>391.0</td>\n      <td>88.0</td>\n      <td>56.0</td>\n      <td>16.0</td>\n      <td>...</td>\n      <td>NaN</td>\n      <td>0.291</td>\n      <td>0.711</td>\n      <td>0.503</td>\n      <td>0.650</td>\n      <td>0.789</td>\n      <td>0.749</td>\n      <td>0.505</td>\n      <td>25.8</td>\n      <td>3.851662</td>\n    </tr>\n    <tr>\n      <th>187</th>\n      <td>2019.0</td>\n      <td>Franmil Reyes</td>\n      <td>- - -</td>\n      <td>23.0</td>\n      <td>150.0</td>\n      <td>494.0</td>\n      <td>548.0</td>\n      <td>123.0</td>\n      <td>67.0</td>\n      <td>19.0</td>\n      <td>...</td>\n      <td>NaN</td>\n      <td>0.327</td>\n      <td>0.756</td>\n      <td>0.516</td>\n      <td>0.430</td>\n      <td>0.773</td>\n      <td>0.652</td>\n      <td>0.441</td>\n      <td>25.1</td>\n      <td>3.866788</td>\n    </tr>\n  </tbody>\n</table>\n<p>50 rows × 288 columns</p>\n</div>"
     },
     "metadata": {},
     "execution_count": 29
    }
   ],
   "source": [
    "batting[batting['Team']=='- - -'].head(50)"
   ]
  },
  {
   "cell_type": "code",
   "execution_count": 32,
   "metadata": {},
   "outputs": [],
   "source": [
    "batting_range = batting_stats_range('2019-01-01', '2019-12-30')"
   ]
  },
  {
   "cell_type": "code",
   "execution_count": 36,
   "metadata": {},
   "outputs": [
    {
     "output_type": "execute_result",
     "data": {
      "text/plain": "array(['Chicago', 'Atlanta', 'San Francisco', 'Tampa Bay', 'Seattle',\n       'Washington', 'Minnesota', 'Pittsburgh', 'Milwaukee,Tampa Bay',\n       'Arizona', 'Cincinnati', 'Baltimore', 'Miami', 'Toronto', 'Texas',\n       'San Diego', 'Los Angeles', 'Cleveland', 'Colorado', 'New York',\n       'Chicago,Colorado', 'New York,Philadelphia,San Francisco',\n       'Houston', 'Oakland', 'Milwaukee', 'Philadelphia', 'St. Louis',\n       'Kansas City', 'Milwaukee,San Francisco,Minnesota',\n       'Oakland,Kansas City', 'Boston', 'Cincinnati,Cleveland', 'Detroit',\n       'Los Angeles,Tampa Bay', 'Seattle,New York,Baltimore',\n       'Philadelphia,Seattle', 'Texas,Washington', 'Detroit,Chicago',\n       'Pittsburgh,Atlanta', 'Tampa Bay,New York,Los Angeles',\n       'San Francisco,San Diego', 'Pittsburgh,Philadelphia',\n       'San Francisco,Milwaukee', 'Seattle,New York', 'Toronto,Houston',\n       'Milwaukee,Seattle', 'Miami,Arizona', 'Toronto,Cincinnati',\n       'Los Angeles,Oakland', 'Cincinnati,San Francisco',\n       'Arizona,Toronto', 'Cleveland,Chicago', 'Arizona,Houston',\n       'St. Louis,Los Angeles', 'Kansas City,Atlanta',\n       'Milwaukee,New York', 'Atlanta,New York', 'San Francisco,Chicago',\n       'Oakland,San Francisco,Pittsburgh', 'Chicago,Houston',\n       'Tampa Bay,Los Angeles', 'Tampa Bay,San Francisco',\n       'Arizona,Seattle', 'Chicago,Los Angeles', 'Pittsburgh,Milwaukee',\n       'Houston,Kansas City,Chicago', 'San Diego,Oakland',\n       'Cleveland,Philadelphia', 'Kansas City,Chicago',\n       'New York,Oakland', 'Arizona,Atlanta', 'Los Angeles,Seattle',\n       'Kansas City,Boston', 'San Francisco,New York',\n       'Washington,San Francisco', 'Atlanta,Colorado',\n       'San Francisco,Toronto', 'San Diego,Philadelphia',\n       'Los Angeles,Miami', 'San Diego,Cleveland',\n       'San Francisco,Baltimore', 'Chicago,Baltimore',\n       'Philadelphia,Texas', 'Toronto,Tampa Bay', 'Los Angeles,Houston',\n       'Los Angeles,Pittsburgh', 'New York,Toronto', 'Arizona,Boston',\n       'Oakland,Toronto', 'Philadelphia,New York', 'Tampa Bay,Cleveland',\n       'Houston,Los Angeles', 'San Francisco,Seattle'], dtype=object)"
     },
     "metadata": {},
     "execution_count": 36
    }
   ],
   "source": [
    "batting_range.Tm.unique()"
   ]
  },
  {
   "cell_type": "code",
   "execution_count": null,
   "metadata": {},
   "outputs": [],
   "source": []
  }
 ]
}