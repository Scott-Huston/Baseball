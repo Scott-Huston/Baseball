{
 "nbformat": 4,
 "nbformat_minor": 2,
 "metadata": {
  "language_info": {
   "name": "python",
   "codemirror_mode": {
    "name": "ipython",
    "version": 3
   },
   "version": "3.7.5-final"
  },
  "orig_nbformat": 2,
  "file_extension": ".py",
  "mimetype": "text/x-python",
  "name": "python",
  "npconvert_exporter": "python",
  "pygments_lexer": "ipython3",
  "version": 3,
  "kernelspec": {
   "name": "python37564bitenvvirtualenv50de9cf6705248388475c22e569ed828",
   "display_name": "Python 3.7.5 64-bit ('env': virtualenv)"
  }
 },
 "cells": [
  {
   "cell_type": "code",
   "execution_count": 20,
   "metadata": {},
   "outputs": [
    {
     "output_type": "stream",
     "name": "stdout",
     "text": "Requirement already satisfied: pybaseball in /Users/scotthuston/Desktop/env/lib/python3.7/site-packages (1.0.8)\nRequirement already satisfied: numpy>=1.13.0 in /Users/scotthuston/Desktop/env/lib/python3.7/site-packages (from pybaseball) (1.18.1)\nRequirement already satisfied: beautifulsoup4>=4.4.0 in /Users/scotthuston/Desktop/env/lib/python3.7/site-packages (from pybaseball) (4.9.0)\nRequirement already satisfied: requests>=2.18.1 in /Users/scotthuston/Desktop/env/lib/python3.7/site-packages (from pybaseball) (2.22.0)\nRequirement already satisfied: pandas>=0.20.2 in /Users/scotthuston/Desktop/env/lib/python3.7/site-packages (from pybaseball) (1.0.3)\nRequirement already satisfied: lxml>=4.2.1 in /Users/scotthuston/Desktop/env/lib/python3.7/site-packages (from pybaseball) (4.5.0)\nRequirement already satisfied: soupsieve>1.2 in /Users/scotthuston/Desktop/env/lib/python3.7/site-packages (from beautifulsoup4>=4.4.0->pybaseball) (2.0)\nRequirement already satisfied: urllib3!=1.25.0,!=1.25.1,<1.26,>=1.21.1 in /Users/scotthuston/Desktop/env/lib/python3.7/site-packages (from requests>=2.18.1->pybaseball) (1.25.8)\nRequirement already satisfied: certifi>=2017.4.17 in /Users/scotthuston/Desktop/env/lib/python3.7/site-packages (from requests>=2.18.1->pybaseball) (2019.11.28)\nRequirement already satisfied: chardet<3.1.0,>=3.0.2 in /Users/scotthuston/Desktop/env/lib/python3.7/site-packages (from requests>=2.18.1->pybaseball) (3.0.4)\nRequirement already satisfied: idna<2.9,>=2.5 in /Users/scotthuston/Desktop/env/lib/python3.7/site-packages (from requests>=2.18.1->pybaseball) (2.8)\nRequirement already satisfied: python-dateutil>=2.6.1 in /Users/scotthuston/Desktop/env/lib/python3.7/site-packages (from pandas>=0.20.2->pybaseball) (2.8.1)\nRequirement already satisfied: pytz>=2017.2 in /Users/scotthuston/Desktop/env/lib/python3.7/site-packages (from pandas>=0.20.2->pybaseball) (2019.3)\nRequirement already satisfied: six>=1.5 in /Users/scotthuston/Desktop/env/lib/python3.7/site-packages (from python-dateutil>=2.6.1->pandas>=0.20.2->pybaseball) (1.13.0)\n"
    }
   ],
   "source": [
    "!pip install pybaseball\n",
    "from pybaseball import pitching_stats, batting_stats_range\n",
    "import numpy as np"
   ]
  },
  {
   "cell_type": "code",
   "execution_count": 12,
   "metadata": {},
   "outputs": [],
   "source": [
    "data = pitching_stats(1990, 2000)"
   ]
  },
  {
   "cell_type": "code",
   "execution_count": 14,
   "metadata": {},
   "outputs": [],
   "source": [
    "pitching = data"
   ]
  },
  {
   "cell_type": "code",
   "execution_count": 9,
   "metadata": {},
   "outputs": [
    {
     "output_type": "execute_result",
     "data": {
      "text/plain": "     Season             Name     Team   Age     W    L   ERA  WAR     G    GS  \\\n336  2015.0  Clayton Kershaw  Dodgers  27.0  16.0  7.0  2.13  8.6  33.0  33.0   \n236  2014.0  Clayton Kershaw  Dodgers  26.0  21.0  3.0  1.77  7.9  27.0  27.0   \n472  2014.0     Corey Kluber  Indians  28.0  18.0  9.0  2.44  7.2  34.0  34.0   \n256  2013.0  Clayton Kershaw  Dodgers  25.0  16.0  9.0  1.83  7.2  33.0  33.0   \n235  2015.0     Jake Arrieta     Cubs  29.0  22.0  6.0  1.77  7.0  33.0  33.0   \n\n     ...  wSL/C (pi)  wXX/C (pi)  O-Swing% (pi)  Z-Swing% (pi)  Swing% (pi)  \\\n336  ...        1.76       22.85          0.365          0.665        0.511   \n236  ...        2.62         NaN          0.371          0.670        0.525   \n472  ...        3.92         NaN          0.339          0.598        0.470   \n256  ...        0.74         NaN          0.339          0.635        0.485   \n235  ...        2.42         NaN          0.330          0.618        0.469   \n\n     O-Contact% (pi)  Z-Contact% (pi)  Contact% (pi)  Zone% (pi)  Pace (pi)  \n336            0.478            0.811          0.689       0.487       23.4  \n236            0.536            0.831          0.730       0.515       23.7  \n472            0.485            0.886          0.744       0.507       24.6  \n256            0.563            0.873          0.763       0.492       23.4  \n235            0.595            0.856          0.762       0.484       23.3  \n\n[5 rows x 299 columns]",
      "text/html": "<div>\n<style scoped>\n    .dataframe tbody tr th:only-of-type {\n        vertical-align: middle;\n    }\n\n    .dataframe tbody tr th {\n        vertical-align: top;\n    }\n\n    .dataframe thead th {\n        text-align: right;\n    }\n</style>\n<table border=\"1\" class=\"dataframe\">\n  <thead>\n    <tr style=\"text-align: right;\">\n      <th></th>\n      <th>Season</th>\n      <th>Name</th>\n      <th>Team</th>\n      <th>Age</th>\n      <th>W</th>\n      <th>L</th>\n      <th>ERA</th>\n      <th>WAR</th>\n      <th>G</th>\n      <th>GS</th>\n      <th>...</th>\n      <th>wSL/C (pi)</th>\n      <th>wXX/C (pi)</th>\n      <th>O-Swing% (pi)</th>\n      <th>Z-Swing% (pi)</th>\n      <th>Swing% (pi)</th>\n      <th>O-Contact% (pi)</th>\n      <th>Z-Contact% (pi)</th>\n      <th>Contact% (pi)</th>\n      <th>Zone% (pi)</th>\n      <th>Pace (pi)</th>\n    </tr>\n  </thead>\n  <tbody>\n    <tr>\n      <th>336</th>\n      <td>2015.0</td>\n      <td>Clayton Kershaw</td>\n      <td>Dodgers</td>\n      <td>27.0</td>\n      <td>16.0</td>\n      <td>7.0</td>\n      <td>2.13</td>\n      <td>8.6</td>\n      <td>33.0</td>\n      <td>33.0</td>\n      <td>...</td>\n      <td>1.76</td>\n      <td>22.85</td>\n      <td>0.365</td>\n      <td>0.665</td>\n      <td>0.511</td>\n      <td>0.478</td>\n      <td>0.811</td>\n      <td>0.689</td>\n      <td>0.487</td>\n      <td>23.4</td>\n    </tr>\n    <tr>\n      <th>236</th>\n      <td>2014.0</td>\n      <td>Clayton Kershaw</td>\n      <td>Dodgers</td>\n      <td>26.0</td>\n      <td>21.0</td>\n      <td>3.0</td>\n      <td>1.77</td>\n      <td>7.9</td>\n      <td>27.0</td>\n      <td>27.0</td>\n      <td>...</td>\n      <td>2.62</td>\n      <td>NaN</td>\n      <td>0.371</td>\n      <td>0.670</td>\n      <td>0.525</td>\n      <td>0.536</td>\n      <td>0.831</td>\n      <td>0.730</td>\n      <td>0.515</td>\n      <td>23.7</td>\n    </tr>\n    <tr>\n      <th>472</th>\n      <td>2014.0</td>\n      <td>Corey Kluber</td>\n      <td>Indians</td>\n      <td>28.0</td>\n      <td>18.0</td>\n      <td>9.0</td>\n      <td>2.44</td>\n      <td>7.2</td>\n      <td>34.0</td>\n      <td>34.0</td>\n      <td>...</td>\n      <td>3.92</td>\n      <td>NaN</td>\n      <td>0.339</td>\n      <td>0.598</td>\n      <td>0.470</td>\n      <td>0.485</td>\n      <td>0.886</td>\n      <td>0.744</td>\n      <td>0.507</td>\n      <td>24.6</td>\n    </tr>\n    <tr>\n      <th>256</th>\n      <td>2013.0</td>\n      <td>Clayton Kershaw</td>\n      <td>Dodgers</td>\n      <td>25.0</td>\n      <td>16.0</td>\n      <td>9.0</td>\n      <td>1.83</td>\n      <td>7.2</td>\n      <td>33.0</td>\n      <td>33.0</td>\n      <td>...</td>\n      <td>0.74</td>\n      <td>NaN</td>\n      <td>0.339</td>\n      <td>0.635</td>\n      <td>0.485</td>\n      <td>0.563</td>\n      <td>0.873</td>\n      <td>0.763</td>\n      <td>0.492</td>\n      <td>23.4</td>\n    </tr>\n    <tr>\n      <th>235</th>\n      <td>2015.0</td>\n      <td>Jake Arrieta</td>\n      <td>Cubs</td>\n      <td>29.0</td>\n      <td>22.0</td>\n      <td>6.0</td>\n      <td>1.77</td>\n      <td>7.0</td>\n      <td>33.0</td>\n      <td>33.0</td>\n      <td>...</td>\n      <td>2.42</td>\n      <td>NaN</td>\n      <td>0.330</td>\n      <td>0.618</td>\n      <td>0.469</td>\n      <td>0.595</td>\n      <td>0.856</td>\n      <td>0.762</td>\n      <td>0.484</td>\n      <td>23.3</td>\n    </tr>\n  </tbody>\n</table>\n<p>5 rows × 299 columns</p>\n</div>"
     },
     "metadata": {},
     "execution_count": 9
    }
   ],
   "source": [
    "batting = batting_stats(1990,2000)\n"
   ]
  },
  {
   "cell_type": "code",
   "execution_count": 15,
   "metadata": {},
   "outputs": [
    {
     "output_type": "execute_result",
     "data": {
      "text/plain": "     Season            Name          Team   Age     W    L   ERA   WAR     G  \\\n251  1999.0  Pedro Martinez       Red Sox  27.0  23.0  4.0  2.07  11.6  31.0   \n244  1997.0   Roger Clemens     Blue Jays  34.0  21.0  7.0  2.05  10.7  34.0   \n524  2000.0   Randy Johnson  Diamondbacks  36.0  19.0  7.0  2.64   9.6  35.0   \n372  1998.0     Kevin Brown        Padres  33.0  18.0  7.0  2.38   9.6  36.0   \n433  1995.0   Randy Johnson      Mariners  31.0  18.0  2.0  2.48   9.5  30.0   \n\n       GS  ...  wSL/C (pi)  wXX/C (pi)  O-Swing% (pi)  Z-Swing% (pi)  \\\n251  29.0  ...         NaN         NaN            NaN            NaN   \n244  34.0  ...         NaN         NaN            NaN            NaN   \n524  35.0  ...         NaN         NaN            NaN            NaN   \n372  35.0  ...         NaN         NaN            NaN            NaN   \n433  30.0  ...         NaN         NaN            NaN            NaN   \n\n     Swing% (pi)  O-Contact% (pi)  Z-Contact% (pi)  Contact% (pi)  Zone% (pi)  \\\n251          NaN              NaN              NaN            NaN         NaN   \n244          NaN              NaN              NaN            NaN         NaN   \n524          NaN              NaN              NaN            NaN         NaN   \n372          NaN              NaN              NaN            NaN         NaN   \n433          NaN              NaN              NaN            NaN         NaN   \n\n     Pace (pi)  \n251        NaN  \n244        NaN  \n524        NaN  \n372        NaN  \n433        NaN  \n\n[5 rows x 299 columns]",
      "text/html": "<div>\n<style scoped>\n    .dataframe tbody tr th:only-of-type {\n        vertical-align: middle;\n    }\n\n    .dataframe tbody tr th {\n        vertical-align: top;\n    }\n\n    .dataframe thead th {\n        text-align: right;\n    }\n</style>\n<table border=\"1\" class=\"dataframe\">\n  <thead>\n    <tr style=\"text-align: right;\">\n      <th></th>\n      <th>Season</th>\n      <th>Name</th>\n      <th>Team</th>\n      <th>Age</th>\n      <th>W</th>\n      <th>L</th>\n      <th>ERA</th>\n      <th>WAR</th>\n      <th>G</th>\n      <th>GS</th>\n      <th>...</th>\n      <th>wSL/C (pi)</th>\n      <th>wXX/C (pi)</th>\n      <th>O-Swing% (pi)</th>\n      <th>Z-Swing% (pi)</th>\n      <th>Swing% (pi)</th>\n      <th>O-Contact% (pi)</th>\n      <th>Z-Contact% (pi)</th>\n      <th>Contact% (pi)</th>\n      <th>Zone% (pi)</th>\n      <th>Pace (pi)</th>\n    </tr>\n  </thead>\n  <tbody>\n    <tr>\n      <th>251</th>\n      <td>1999.0</td>\n      <td>Pedro Martinez</td>\n      <td>Red Sox</td>\n      <td>27.0</td>\n      <td>23.0</td>\n      <td>4.0</td>\n      <td>2.07</td>\n      <td>11.6</td>\n      <td>31.0</td>\n      <td>29.0</td>\n      <td>...</td>\n      <td>NaN</td>\n      <td>NaN</td>\n      <td>NaN</td>\n      <td>NaN</td>\n      <td>NaN</td>\n      <td>NaN</td>\n      <td>NaN</td>\n      <td>NaN</td>\n      <td>NaN</td>\n      <td>NaN</td>\n    </tr>\n    <tr>\n      <th>244</th>\n      <td>1997.0</td>\n      <td>Roger Clemens</td>\n      <td>Blue Jays</td>\n      <td>34.0</td>\n      <td>21.0</td>\n      <td>7.0</td>\n      <td>2.05</td>\n      <td>10.7</td>\n      <td>34.0</td>\n      <td>34.0</td>\n      <td>...</td>\n      <td>NaN</td>\n      <td>NaN</td>\n      <td>NaN</td>\n      <td>NaN</td>\n      <td>NaN</td>\n      <td>NaN</td>\n      <td>NaN</td>\n      <td>NaN</td>\n      <td>NaN</td>\n      <td>NaN</td>\n    </tr>\n    <tr>\n      <th>524</th>\n      <td>2000.0</td>\n      <td>Randy Johnson</td>\n      <td>Diamondbacks</td>\n      <td>36.0</td>\n      <td>19.0</td>\n      <td>7.0</td>\n      <td>2.64</td>\n      <td>9.6</td>\n      <td>35.0</td>\n      <td>35.0</td>\n      <td>...</td>\n      <td>NaN</td>\n      <td>NaN</td>\n      <td>NaN</td>\n      <td>NaN</td>\n      <td>NaN</td>\n      <td>NaN</td>\n      <td>NaN</td>\n      <td>NaN</td>\n      <td>NaN</td>\n      <td>NaN</td>\n    </tr>\n    <tr>\n      <th>372</th>\n      <td>1998.0</td>\n      <td>Kevin Brown</td>\n      <td>Padres</td>\n      <td>33.0</td>\n      <td>18.0</td>\n      <td>7.0</td>\n      <td>2.38</td>\n      <td>9.6</td>\n      <td>36.0</td>\n      <td>35.0</td>\n      <td>...</td>\n      <td>NaN</td>\n      <td>NaN</td>\n      <td>NaN</td>\n      <td>NaN</td>\n      <td>NaN</td>\n      <td>NaN</td>\n      <td>NaN</td>\n      <td>NaN</td>\n      <td>NaN</td>\n      <td>NaN</td>\n    </tr>\n    <tr>\n      <th>433</th>\n      <td>1995.0</td>\n      <td>Randy Johnson</td>\n      <td>Mariners</td>\n      <td>31.0</td>\n      <td>18.0</td>\n      <td>2.0</td>\n      <td>2.48</td>\n      <td>9.5</td>\n      <td>30.0</td>\n      <td>30.0</td>\n      <td>...</td>\n      <td>NaN</td>\n      <td>NaN</td>\n      <td>NaN</td>\n      <td>NaN</td>\n      <td>NaN</td>\n      <td>NaN</td>\n      <td>NaN</td>\n      <td>NaN</td>\n      <td>NaN</td>\n      <td>NaN</td>\n    </tr>\n  </tbody>\n</table>\n<p>5 rows × 299 columns</p>\n</div>"
     },
     "metadata": {},
     "execution_count": 15
    }
   ],
   "source": [
    "pitching.head()"
   ]
  },
  {
   "cell_type": "code",
   "execution_count": 18,
   "metadata": {},
   "outputs": [
    {
     "output_type": "stream",
     "name": "stdout",
     "text": "Season\nName\nTeam\nAge\nW\nL\nERA\nWAR\nG\nGS\nCG\nShO\nSV\nBS\nIP\nTBF\nH\nR\nER\nHR\nBB\nIBB\nHBP\nWP\nBK\nSO\nGB\nFB\nLD\nIFFB\nBalls\nStrikes\nPitches\nRS\nIFH\nBU\nBUH\nK/9\nBB/9\nK/BB\nH/9\nHR/9\nAVG\nWHIP\nBABIP\nLOB%\nFIP\nGB/FB\nLD%\nGB%\nIFFB%\nHR/FB\nIFH%\nBUH%\nStarting\nStart-IP\nRelieving\nRelief-IP\nRAR\nDollars\ntERA\nxFIP\nWPA\n-WPA\n+WPA\nRE24\nREW\npLI\ninLI\ngmLI\nexLI\nPulls\nWPA/LI\nClutch\nFB%\nFBv\nSL%\nSLv\nCT%\nCTv\nCB%\nCBv\nCH%\nCHv\nSF%\nSFv\nKN%\nKNv\nXX%\nPO%\nwFB\nwSL\nwCT\nwCB\nwCH\nwSF\nwKN\nwFB/C\nwSL/C\nwCT/C\nwCB/C\nwCH/C\nwSF/C\nwKN/C\nO-Swing%\nZ-Swing%\nSwing%\nO-Contact%\nZ-Contact%\nContact%\nZone%\nF-Strike%\nSwStr%\nHLD\nSD\nMD\nERA-\nFIP-\nxFIP-\nK%\nBB%\nSIERA\nRS/9\nE-F\nFA% (pfx)\nFT% (pfx)\nFC% (pfx)\nFS% (pfx)\nFO% (pfx)\nSI% (pfx)\nSL% (pfx)\nCU% (pfx)\nKC% (pfx)\nEP% (pfx)\nCH% (pfx)\nSC% (pfx)\nKN% (pfx)\nUN% (pfx)\nvFA (pfx)\nvFT (pfx)\nvFC (pfx)\nvFS (pfx)\nvFO (pfx)\nvSI (pfx)\nvSL (pfx)\nvCU (pfx)\nvKC (pfx)\nvEP (pfx)\nvCH (pfx)\nvSC (pfx)\nvKN (pfx)\nFA-X (pfx)\nFT-X (pfx)\nFC-X (pfx)\nFS-X (pfx)\nFO-X (pfx)\nSI-X (pfx)\nSL-X (pfx)\nCU-X (pfx)\nKC-X (pfx)\nEP-X (pfx)\nCH-X (pfx)\nSC-X (pfx)\nKN-X (pfx)\nFA-Z (pfx)\nFT-Z (pfx)\nFC-Z (pfx)\nFS-Z (pfx)\nFO-Z (pfx)\nSI-Z (pfx)\nSL-Z (pfx)\nCU-Z (pfx)\nKC-Z (pfx)\nEP-Z (pfx)\nCH-Z (pfx)\nSC-Z (pfx)\nKN-Z (pfx)\nwFA (pfx)\nwFT (pfx)\nwFC (pfx)\nwFS (pfx)\nwFO (pfx)\nwSI (pfx)\nwSL (pfx)\nwCU (pfx)\nwKC (pfx)\nwEP (pfx)\nwCH (pfx)\nwSC (pfx)\nwKN (pfx)\nwFA/C (pfx)\nwFT/C (pfx)\nwFC/C (pfx)\nwFS/C (pfx)\nwFO/C (pfx)\nwSI/C (pfx)\nwSL/C (pfx)\nwCU/C (pfx)\nwKC/C (pfx)\nwEP/C (pfx)\nwCH/C (pfx)\nwSC/C (pfx)\nwKN/C (pfx)\nO-Swing% (pfx)\nZ-Swing% (pfx)\nSwing% (pfx)\nO-Contact% (pfx)\nZ-Contact% (pfx)\nContact% (pfx)\nZone% (pfx)\nPace\nRA9-WAR\nBIP-Wins\nLOB-Wins\nFDP-Wins\nAge Rng\nK-BB%\nPull%\nCent%\nOppo%\nSoft%\nMed%\nHard%\nkwERA\nTTO%\nCH% (pi)\nCS% (pi)\nCU% (pi)\nFA% (pi)\nFC% (pi)\nFS% (pi)\nKN% (pi)\nSB% (pi)\nSI% (pi)\nSL% (pi)\nXX% (pi)\nvCH (pi)\nvCS (pi)\nvCU (pi)\nvFA (pi)\nvFC (pi)\nvFS (pi)\nvKN (pi)\nvSB (pi)\nvSI (pi)\nvSL (pi)\nvXX (pi)\nCH-X (pi)\nCS-X (pi)\nCU-X (pi)\nFA-X (pi)\nFC-X (pi)\nFS-X (pi)\nKN-X (pi)\nSB-X (pi)\nSI-X (pi)\nSL-X (pi)\nXX-X (pi)\nCH-Z (pi)\nCS-Z (pi)\nCU-Z (pi)\nFA-Z (pi)\nFC-Z (pi)\nFS-Z (pi)\nKN-Z (pi)\nSB-Z (pi)\nSI-Z (pi)\nSL-Z (pi)\nXX-Z (pi)\nwCH (pi)\nwCS (pi)\nwCU (pi)\nwFA (pi)\nwFC (pi)\nwFS (pi)\nwKN (pi)\nwSB (pi)\nwSI (pi)\nwSL (pi)\nwXX (pi)\nwCH/C (pi)\nwCS/C (pi)\nwCU/C (pi)\nwFA/C (pi)\nwFC/C (pi)\nwFS/C (pi)\nwKN/C (pi)\nwSB/C (pi)\nwSI/C (pi)\nwSL/C (pi)\nwXX/C (pi)\nO-Swing% (pi)\nZ-Swing% (pi)\nSwing% (pi)\nO-Contact% (pi)\nZ-Contact% (pi)\nContact% (pi)\nZone% (pi)\nPace (pi)\n"
    }
   ],
   "source": [
    "for s in pitching.columns:\n",
    "    print(s)"
   ]
  },
  {
   "cell_type": "code",
   "execution_count": 19,
   "metadata": {},
   "outputs": [],
   "source": [
    "# stats of interest\n",
    "metrics = ['tERA', 'xFIP', 'HR/FB', 'IFFB%', 'GB%', 'FIP', 'BABIP', 'HR/9', 'AVG', 'H/9', 'K/BB', 'BB/9', 'K/9', 'RS', 'ERA', 'WAR', 'K-BB%']"
   ]
  },
  {
   "cell_type": "code",
   "execution_count": 24,
   "metadata": {},
   "outputs": [],
   "source": [
    "w getting average stats league widem = lambda x: np.average(x, weights=pitching.loc[x.index, 'IP'])\n",
    "test = pitching.groupby(['Season']).agg(wm)"
   ]
  },
  {
   "cell_type": "code",
   "execution_count": 23,
   "metadata": {},
   "outputs": [
    {
     "output_type": "execute_result",
     "data": {
      "text/plain": "              Age         W         L       ERA       WAR          G  \\\nSeason                                                                 \n1990.0  28.365539  8.269058  7.516991  3.858339  1.716025  34.487206   \n1991.0  28.224281  8.389726  7.613797  3.908147  1.763677  35.605069   \n1992.0  28.475242  8.426463  7.717382  3.743008  1.844701  35.530156   \n1993.0  28.319431  8.296542  7.564028  4.188581  1.741925  35.249939   \n1994.0  28.451672  6.040248  5.454249  4.507261  1.329223  25.981807   \n\n               GS        CG       ShO        SV  ...  wSL/C (pi)  wXX/C (pi)  \\\nSeason                                           ...                           \n1990.0  18.126203  2.159747  0.706395  2.257518  ...         NaN         NaN   \n1991.0  18.331911  1.980034  0.574301  2.233221  ...         NaN         NaN   \n1992.0  18.759117  2.302198  0.771085  2.177327  ...         NaN         NaN   \n1993.0  18.573937  1.825211  0.498090  2.010610  ...         NaN         NaN   \n1994.0  13.579101  1.303315  0.355447  1.333195  ...         NaN         NaN   \n\n        O-Swing% (pi)  Z-Swing% (pi)  Swing% (pi)  O-Contact% (pi)  \\\nSeason                                                               \n1990.0            NaN            NaN          NaN              NaN   \n1991.0            NaN            NaN          NaN              NaN   \n1992.0            NaN            NaN          NaN              NaN   \n1993.0            NaN            NaN          NaN              NaN   \n1994.0            NaN            NaN          NaN              NaN   \n\n        Z-Contact% (pi)  Contact% (pi)  Zone% (pi)  Pace (pi)  \nSeason                                                         \n1990.0              NaN            NaN         NaN        NaN  \n1991.0              NaN            NaN         NaN        NaN  \n1992.0              NaN            NaN         NaN        NaN  \n1993.0              NaN            NaN         NaN        NaN  \n1994.0              NaN            NaN         NaN        NaN  \n\n[5 rows x 295 columns]",
      "text/html": "<div>\n<style scoped>\n    .dataframe tbody tr th:only-of-type {\n        vertical-align: middle;\n    }\n\n    .dataframe tbody tr th {\n        vertical-align: top;\n    }\n\n    .dataframe thead th {\n        text-align: right;\n    }\n</style>\n<table border=\"1\" class=\"dataframe\">\n  <thead>\n    <tr style=\"text-align: right;\">\n      <th></th>\n      <th>Age</th>\n      <th>W</th>\n      <th>L</th>\n      <th>ERA</th>\n      <th>WAR</th>\n      <th>G</th>\n      <th>GS</th>\n      <th>CG</th>\n      <th>ShO</th>\n      <th>SV</th>\n      <th>...</th>\n      <th>wSL/C (pi)</th>\n      <th>wXX/C (pi)</th>\n      <th>O-Swing% (pi)</th>\n      <th>Z-Swing% (pi)</th>\n      <th>Swing% (pi)</th>\n      <th>O-Contact% (pi)</th>\n      <th>Z-Contact% (pi)</th>\n      <th>Contact% (pi)</th>\n      <th>Zone% (pi)</th>\n      <th>Pace (pi)</th>\n    </tr>\n    <tr>\n      <th>Season</th>\n      <th></th>\n      <th></th>\n      <th></th>\n      <th></th>\n      <th></th>\n      <th></th>\n      <th></th>\n      <th></th>\n      <th></th>\n      <th></th>\n      <th></th>\n      <th></th>\n      <th></th>\n      <th></th>\n      <th></th>\n      <th></th>\n      <th></th>\n      <th></th>\n      <th></th>\n      <th></th>\n      <th></th>\n    </tr>\n  </thead>\n  <tbody>\n    <tr>\n      <th>1990.0</th>\n      <td>28.365539</td>\n      <td>8.269058</td>\n      <td>7.516991</td>\n      <td>3.858339</td>\n      <td>1.716025</td>\n      <td>34.487206</td>\n      <td>18.126203</td>\n      <td>2.159747</td>\n      <td>0.706395</td>\n      <td>2.257518</td>\n      <td>...</td>\n      <td>NaN</td>\n      <td>NaN</td>\n      <td>NaN</td>\n      <td>NaN</td>\n      <td>NaN</td>\n      <td>NaN</td>\n      <td>NaN</td>\n      <td>NaN</td>\n      <td>NaN</td>\n      <td>NaN</td>\n    </tr>\n    <tr>\n      <th>1991.0</th>\n      <td>28.224281</td>\n      <td>8.389726</td>\n      <td>7.613797</td>\n      <td>3.908147</td>\n      <td>1.763677</td>\n      <td>35.605069</td>\n      <td>18.331911</td>\n      <td>1.980034</td>\n      <td>0.574301</td>\n      <td>2.233221</td>\n      <td>...</td>\n      <td>NaN</td>\n      <td>NaN</td>\n      <td>NaN</td>\n      <td>NaN</td>\n      <td>NaN</td>\n      <td>NaN</td>\n      <td>NaN</td>\n      <td>NaN</td>\n      <td>NaN</td>\n      <td>NaN</td>\n    </tr>\n    <tr>\n      <th>1992.0</th>\n      <td>28.475242</td>\n      <td>8.426463</td>\n      <td>7.717382</td>\n      <td>3.743008</td>\n      <td>1.844701</td>\n      <td>35.530156</td>\n      <td>18.759117</td>\n      <td>2.302198</td>\n      <td>0.771085</td>\n      <td>2.177327</td>\n      <td>...</td>\n      <td>NaN</td>\n      <td>NaN</td>\n      <td>NaN</td>\n      <td>NaN</td>\n      <td>NaN</td>\n      <td>NaN</td>\n      <td>NaN</td>\n      <td>NaN</td>\n      <td>NaN</td>\n      <td>NaN</td>\n    </tr>\n    <tr>\n      <th>1993.0</th>\n      <td>28.319431</td>\n      <td>8.296542</td>\n      <td>7.564028</td>\n      <td>4.188581</td>\n      <td>1.741925</td>\n      <td>35.249939</td>\n      <td>18.573937</td>\n      <td>1.825211</td>\n      <td>0.498090</td>\n      <td>2.010610</td>\n      <td>...</td>\n      <td>NaN</td>\n      <td>NaN</td>\n      <td>NaN</td>\n      <td>NaN</td>\n      <td>NaN</td>\n      <td>NaN</td>\n      <td>NaN</td>\n      <td>NaN</td>\n      <td>NaN</td>\n      <td>NaN</td>\n    </tr>\n    <tr>\n      <th>1994.0</th>\n      <td>28.451672</td>\n      <td>6.040248</td>\n      <td>5.454249</td>\n      <td>4.507261</td>\n      <td>1.329223</td>\n      <td>25.981807</td>\n      <td>13.579101</td>\n      <td>1.303315</td>\n      <td>0.355447</td>\n      <td>1.333195</td>\n      <td>...</td>\n      <td>NaN</td>\n      <td>NaN</td>\n      <td>NaN</td>\n      <td>NaN</td>\n      <td>NaN</td>\n      <td>NaN</td>\n      <td>NaN</td>\n      <td>NaN</td>\n      <td>NaN</td>\n      <td>NaN</td>\n    </tr>\n  </tbody>\n</table>\n<p>5 rows × 295 columns</p>\n</div>"
     },
     "metadata": {},
     "execution_count": 23
    }
   ],
   "source": [
    "test.head()"
   ]
  },
  {
   "cell_type": "code",
   "execution_count": 25,
   "metadata": {},
   "outputs": [],
   "source": [
    "test = test[metrics]"
   ]
  },
  {
   "cell_type": "code",
   "execution_count": 26,
   "metadata": {},
   "outputs": [
    {
     "output_type": "execute_result",
     "data": {
      "text/plain": "        tERA  xFIP  HR/FB  IFFB%  GB%       FIP     BABIP      HR/9       AVG  \\\nSeason                                                                          \n1990.0   NaN   NaN    NaN    NaN  NaN  3.860165  0.281653  0.794699  0.251613   \n1991.0   NaN   NaN    NaN    NaN  NaN  3.909545  0.279528  0.805978  0.249326   \n1992.0   NaN   NaN    NaN    NaN  NaN  3.744208  0.279923  0.722020  0.249426   \n1993.0   NaN   NaN    NaN    NaN  NaN  4.189684  0.288428  0.895200  0.258439   \n1994.0   NaN   NaN    NaN    NaN  NaN  4.509729  0.293988  1.040048  0.262749   \n1995.0   NaN   NaN    NaN    NaN  NaN  4.449121  0.292703  1.018565  0.260221   \n1996.0   NaN   NaN    NaN    NaN  NaN  4.608486  0.296353  1.100767  0.263548   \n1997.0   NaN   NaN    NaN    NaN  NaN  4.387967  0.295916  1.031912  0.260311   \n1998.0   NaN   NaN    NaN    NaN  NaN  4.430005  0.294391  1.048879  0.259970   \n1999.0   NaN   NaN    NaN    NaN  NaN  4.705870  0.296435  1.150813  0.264762   \n2000.0   NaN   NaN    NaN    NaN  NaN  4.767054  0.294817  1.184259  0.263917   \n\n             H/9      K/BB      BB/9       K/9  RS       ERA       WAR  \\\nSeason                                                                   \n1990.0  8.817857  1.906337  3.316671  5.715731 NaN  3.858339  1.716025   \n1991.0  8.708757  1.958730  3.328794  5.812385 NaN  3.908147  1.763677   \n1992.0  8.691800  1.913995  3.253899  5.600287 NaN  3.743008  1.844701   \n1993.0  9.127387  1.937219  3.354676  5.844876 NaN  4.188581  1.741925   \n1994.0  9.360609  2.038630  3.502326  6.222835 NaN  4.507261  1.329223   \n1995.0  9.230260  2.003038  3.552551  6.350966 NaN  4.445404  1.563260   \n1996.0  9.387918  2.049951  3.566922  6.503961 NaN  4.606856  1.762148   \n1997.0  9.223871  2.152105  3.483216  6.660452 NaN  4.386496  1.763779   \n1998.0  9.214936  2.174835  3.403452  6.608389 NaN  4.426009  1.737895   \n1999.0  9.437520  1.949050  3.722162  6.481566 NaN  4.705115  1.686688   \n2000.0  9.411315  1.944382  3.792260  6.526540 NaN  4.764060  1.672877   \n\n           K-BB%  \nSeason            \n1990.0  0.063944  \n1991.0  0.066454  \n1992.0  0.062829  \n1993.0  0.065768  \n1994.0  0.071415  \n1995.0  0.073563  \n1996.0  0.076735  \n1997.0  0.083463  \n1998.0  0.083992  \n1999.0  0.071716  \n2000.0  0.071056  ",
      "text/html": "<div>\n<style scoped>\n    .dataframe tbody tr th:only-of-type {\n        vertical-align: middle;\n    }\n\n    .dataframe tbody tr th {\n        vertical-align: top;\n    }\n\n    .dataframe thead th {\n        text-align: right;\n    }\n</style>\n<table border=\"1\" class=\"dataframe\">\n  <thead>\n    <tr style=\"text-align: right;\">\n      <th></th>\n      <th>tERA</th>\n      <th>xFIP</th>\n      <th>HR/FB</th>\n      <th>IFFB%</th>\n      <th>GB%</th>\n      <th>FIP</th>\n      <th>BABIP</th>\n      <th>HR/9</th>\n      <th>AVG</th>\n      <th>H/9</th>\n      <th>K/BB</th>\n      <th>BB/9</th>\n      <th>K/9</th>\n      <th>RS</th>\n      <th>ERA</th>\n      <th>WAR</th>\n      <th>K-BB%</th>\n    </tr>\n    <tr>\n      <th>Season</th>\n      <th></th>\n      <th></th>\n      <th></th>\n      <th></th>\n      <th></th>\n      <th></th>\n      <th></th>\n      <th></th>\n      <th></th>\n      <th></th>\n      <th></th>\n      <th></th>\n      <th></th>\n      <th></th>\n      <th></th>\n      <th></th>\n      <th></th>\n    </tr>\n  </thead>\n  <tbody>\n    <tr>\n      <th>1990.0</th>\n      <td>NaN</td>\n      <td>NaN</td>\n      <td>NaN</td>\n      <td>NaN</td>\n      <td>NaN</td>\n      <td>3.860165</td>\n      <td>0.281653</td>\n      <td>0.794699</td>\n      <td>0.251613</td>\n      <td>8.817857</td>\n      <td>1.906337</td>\n      <td>3.316671</td>\n      <td>5.715731</td>\n      <td>NaN</td>\n      <td>3.858339</td>\n      <td>1.716025</td>\n      <td>0.063944</td>\n    </tr>\n    <tr>\n      <th>1991.0</th>\n      <td>NaN</td>\n      <td>NaN</td>\n      <td>NaN</td>\n      <td>NaN</td>\n      <td>NaN</td>\n      <td>3.909545</td>\n      <td>0.279528</td>\n      <td>0.805978</td>\n      <td>0.249326</td>\n      <td>8.708757</td>\n      <td>1.958730</td>\n      <td>3.328794</td>\n      <td>5.812385</td>\n      <td>NaN</td>\n      <td>3.908147</td>\n      <td>1.763677</td>\n      <td>0.066454</td>\n    </tr>\n    <tr>\n      <th>1992.0</th>\n      <td>NaN</td>\n      <td>NaN</td>\n      <td>NaN</td>\n      <td>NaN</td>\n      <td>NaN</td>\n      <td>3.744208</td>\n      <td>0.279923</td>\n      <td>0.722020</td>\n      <td>0.249426</td>\n      <td>8.691800</td>\n      <td>1.913995</td>\n      <td>3.253899</td>\n      <td>5.600287</td>\n      <td>NaN</td>\n      <td>3.743008</td>\n      <td>1.844701</td>\n      <td>0.062829</td>\n    </tr>\n    <tr>\n      <th>1993.0</th>\n      <td>NaN</td>\n      <td>NaN</td>\n      <td>NaN</td>\n      <td>NaN</td>\n      <td>NaN</td>\n      <td>4.189684</td>\n      <td>0.288428</td>\n      <td>0.895200</td>\n      <td>0.258439</td>\n      <td>9.127387</td>\n      <td>1.937219</td>\n      <td>3.354676</td>\n      <td>5.844876</td>\n      <td>NaN</td>\n      <td>4.188581</td>\n      <td>1.741925</td>\n      <td>0.065768</td>\n    </tr>\n    <tr>\n      <th>1994.0</th>\n      <td>NaN</td>\n      <td>NaN</td>\n      <td>NaN</td>\n      <td>NaN</td>\n      <td>NaN</td>\n      <td>4.509729</td>\n      <td>0.293988</td>\n      <td>1.040048</td>\n      <td>0.262749</td>\n      <td>9.360609</td>\n      <td>2.038630</td>\n      <td>3.502326</td>\n      <td>6.222835</td>\n      <td>NaN</td>\n      <td>4.507261</td>\n      <td>1.329223</td>\n      <td>0.071415</td>\n    </tr>\n    <tr>\n      <th>1995.0</th>\n      <td>NaN</td>\n      <td>NaN</td>\n      <td>NaN</td>\n      <td>NaN</td>\n      <td>NaN</td>\n      <td>4.449121</td>\n      <td>0.292703</td>\n      <td>1.018565</td>\n      <td>0.260221</td>\n      <td>9.230260</td>\n      <td>2.003038</td>\n      <td>3.552551</td>\n      <td>6.350966</td>\n      <td>NaN</td>\n      <td>4.445404</td>\n      <td>1.563260</td>\n      <td>0.073563</td>\n    </tr>\n    <tr>\n      <th>1996.0</th>\n      <td>NaN</td>\n      <td>NaN</td>\n      <td>NaN</td>\n      <td>NaN</td>\n      <td>NaN</td>\n      <td>4.608486</td>\n      <td>0.296353</td>\n      <td>1.100767</td>\n      <td>0.263548</td>\n      <td>9.387918</td>\n      <td>2.049951</td>\n      <td>3.566922</td>\n      <td>6.503961</td>\n      <td>NaN</td>\n      <td>4.606856</td>\n      <td>1.762148</td>\n      <td>0.076735</td>\n    </tr>\n    <tr>\n      <th>1997.0</th>\n      <td>NaN</td>\n      <td>NaN</td>\n      <td>NaN</td>\n      <td>NaN</td>\n      <td>NaN</td>\n      <td>4.387967</td>\n      <td>0.295916</td>\n      <td>1.031912</td>\n      <td>0.260311</td>\n      <td>9.223871</td>\n      <td>2.152105</td>\n      <td>3.483216</td>\n      <td>6.660452</td>\n      <td>NaN</td>\n      <td>4.386496</td>\n      <td>1.763779</td>\n      <td>0.083463</td>\n    </tr>\n    <tr>\n      <th>1998.0</th>\n      <td>NaN</td>\n      <td>NaN</td>\n      <td>NaN</td>\n      <td>NaN</td>\n      <td>NaN</td>\n      <td>4.430005</td>\n      <td>0.294391</td>\n      <td>1.048879</td>\n      <td>0.259970</td>\n      <td>9.214936</td>\n      <td>2.174835</td>\n      <td>3.403452</td>\n      <td>6.608389</td>\n      <td>NaN</td>\n      <td>4.426009</td>\n      <td>1.737895</td>\n      <td>0.083992</td>\n    </tr>\n    <tr>\n      <th>1999.0</th>\n      <td>NaN</td>\n      <td>NaN</td>\n      <td>NaN</td>\n      <td>NaN</td>\n      <td>NaN</td>\n      <td>4.705870</td>\n      <td>0.296435</td>\n      <td>1.150813</td>\n      <td>0.264762</td>\n      <td>9.437520</td>\n      <td>1.949050</td>\n      <td>3.722162</td>\n      <td>6.481566</td>\n      <td>NaN</td>\n      <td>4.705115</td>\n      <td>1.686688</td>\n      <td>0.071716</td>\n    </tr>\n    <tr>\n      <th>2000.0</th>\n      <td>NaN</td>\n      <td>NaN</td>\n      <td>NaN</td>\n      <td>NaN</td>\n      <td>NaN</td>\n      <td>4.767054</td>\n      <td>0.294817</td>\n      <td>1.184259</td>\n      <td>0.263917</td>\n      <td>9.411315</td>\n      <td>1.944382</td>\n      <td>3.792260</td>\n      <td>6.526540</td>\n      <td>NaN</td>\n      <td>4.764060</td>\n      <td>1.672877</td>\n      <td>0.071056</td>\n    </tr>\n  </tbody>\n</table>\n</div>"
     },
     "metadata": {},
     "execution_count": 26
    }
   ],
   "source": [
    "test"
   ]
  },
  {
   "cell_type": "code",
   "execution_count": null,
   "metadata": {},
   "outputs": [],
   "source": [
    "# meh, doesn't look that interesting, and the strike affected fewer games than I thought"
   ]
  }
 ]
}